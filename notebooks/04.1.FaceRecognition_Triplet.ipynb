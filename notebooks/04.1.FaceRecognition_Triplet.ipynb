{
 "cells": [
  {
   "cell_type": "markdown",
   "id": "1c10a066",
   "metadata": {
    "papermill": {
     "duration": 0.005653,
     "end_time": "2025-02-03T18:42:55.589090",
     "exception": false,
     "start_time": "2025-02-03T18:42:55.583437",
     "status": "completed"
    },
    "tags": []
   },
   "source": [
    "# Notebook with Face recognition (Triplet)\n",
    "© Реализовать Triplet loss, обучить сеть с нуля на нем. Добиться accuracy на тестовой части >0.7."
   ]
  },
  {
   "cell_type": "code",
   "execution_count": 1,
   "id": "5cbb51a7",
   "metadata": {
    "execution": {
     "iopub.execute_input": "2025-02-03T18:42:55.604354Z",
     "iopub.status.busy": "2025-02-03T18:42:55.603949Z",
     "iopub.status.idle": "2025-02-03T18:43:03.583001Z",
     "shell.execute_reply": "2025-02-03T18:43:03.581957Z"
    },
    "papermill": {
     "duration": 7.987917,
     "end_time": "2025-02-03T18:43:03.584349",
     "exception": false,
     "start_time": "2025-02-03T18:42:55.596432",
     "status": "completed"
    },
    "tags": []
   },
   "outputs": [
    {
     "name": "stdout",
     "output_type": "stream",
     "text": [
      "Using device: cuda\n"
     ]
    }
   ],
   "source": [
    "import random\n",
    "import os\n",
    "from copy import deepcopy\n",
    "\n",
    "import matplotlib.pyplot as plt\n",
    "import numpy as np\n",
    "import pandas as pd\n",
    "import torch\n",
    "import torch.nn as nn\n",
    "\n",
    "from torch.nn.functional import normalize\n",
    "from torch.utils.data import DataLoader, Dataset\n",
    "from torchvision import models, transforms\n",
    "from torchvision.io import read_image\n",
    "\n",
    "WORKING_DIR = '/kaggle/working'\n",
    "DEVICE = torch.device('cuda' if torch.cuda.is_available() else 'cpu')\n",
    "print('Using device:', DEVICE)"
   ]
  },
  {
   "cell_type": "code",
   "execution_count": 2,
   "id": "33b9d1e7",
   "metadata": {
    "execution": {
     "iopub.execute_input": "2025-02-03T18:43:03.595142Z",
     "iopub.status.busy": "2025-02-03T18:43:03.594769Z",
     "iopub.status.idle": "2025-02-03T18:43:03.604579Z",
     "shell.execute_reply": "2025-02-03T18:43:03.603739Z"
    },
    "papermill": {
     "duration": 0.016471,
     "end_time": "2025-02-03T18:43:03.605870",
     "exception": false,
     "start_time": "2025-02-03T18:43:03.589399",
     "status": "completed"
    },
    "tags": []
   },
   "outputs": [],
   "source": [
    "def set_seed(seed):\n",
    "    random.seed(seed)                      # Фиксация сидов для встроенного модуля random\n",
    "    np.random.seed(seed)                   # Фиксация сидов для NumPy\n",
    "    torch.manual_seed(seed)                # Фиксация сидов для PyTorch\n",
    "    torch.cuda.manual_seed(seed)           # Фиксация сидов для CUDA\n",
    "    torch.cuda.manual_seed_all(seed)       # Фиксация сидов для всех устройств CUDA\n",
    "    torch.backends.cudnn.deterministic = True  # Обеспечивает детерминированное поведение CUDNN\n",
    "    torch.backends.cudnn.benchmark = False     # Отключает эвристики CUDNN для детерминированности\n",
    "\n",
    "set_seed(42)"
   ]
  },
  {
   "cell_type": "markdown",
   "id": "acb482e2",
   "metadata": {
    "papermill": {
     "duration": 0.00448,
     "end_time": "2025-02-03T18:43:03.615165",
     "exception": false,
     "start_time": "2025-02-03T18:43:03.610685",
     "status": "completed"
    },
    "tags": []
   },
   "source": [
    "## Download data from gdrive"
   ]
  },
  {
   "cell_type": "code",
   "execution_count": 3,
   "id": "94265c55",
   "metadata": {
    "execution": {
     "iopub.execute_input": "2025-02-03T18:43:03.625551Z",
     "iopub.status.busy": "2025-02-03T18:43:03.625303Z",
     "iopub.status.idle": "2025-02-03T18:43:18.445490Z",
     "shell.execute_reply": "2025-02-03T18:43:18.444439Z"
    },
    "papermill": {
     "duration": 14.827399,
     "end_time": "2025-02-03T18:43:18.447360",
     "exception": false,
     "start_time": "2025-02-03T18:43:03.619961",
     "status": "completed"
    },
    "tags": []
   },
   "outputs": [
    {
     "name": "stdout",
     "output_type": "stream",
     "text": [
      "Downloading...\r\n",
      "From (original): https://drive.google.com/uc?id=1Anlz7R3KtyOwJB5ouVtELt1kU2QKNw1f\r\n",
      "From (redirected): https://drive.google.com/uc?id=1Anlz7R3KtyOwJB5ouVtELt1kU2QKNw1f&confirm=t&uuid=5fd58cdf-8028-4a26-9be9-d056c835ae23\r\n",
      "To: /kaggle/working/celebA_imgs.rar\r\n",
      "100%|█████████████████████████████████████████| 168M/168M [00:01<00:00, 106MB/s]\r\n",
      "Downloading...\r\n",
      "From: https://drive.google.com/uc?id=1tOKP0hmpaj7aMwOp6igZPuk2lBNxlwWK\r\n",
      "To: /kaggle/working/celebA_train_split.txt\r\n",
      "100%|████████████████████████████████████████| 156k/156k [00:00<00:00, 85.4MB/s]\r\n",
      "Downloading...\r\n",
      "From: https://drive.google.com/uc?id=1V3m3anz8gghYOLCYtlpQ1A6Qs1LKcBUB\r\n",
      "To: /kaggle/working/celebA_anno.txt\r\n",
      "100%|████████████████████████████████████████| 177k/177k [00:00<00:00, 85.4MB/s]\r\n"
     ]
    }
   ],
   "source": [
    "# celebA_imgs.rar - An archive (a folder) with pictures\n",
    "!gdown 1Anlz7R3KtyOwJB5ouVtELt1kU2QKNw1f\n",
    "# celebA_train_split.txt - File with train/val/test split info \n",
    "!gdown 1tOKP0hmpaj7aMwOp6igZPuk2lBNxlwWK\n",
    "# celebA_anno.txt - File with annotation - each picture from celebA_imgs is assigned its id\n",
    "!gdown 1V3m3anz8gghYOLCYtlpQ1A6Qs1LKcBUB"
   ]
  },
  {
   "cell_type": "code",
   "execution_count": 4,
   "id": "992f798c",
   "metadata": {
    "execution": {
     "iopub.execute_input": "2025-02-03T18:43:18.459709Z",
     "iopub.status.busy": "2025-02-03T18:43:18.459461Z",
     "iopub.status.idle": "2025-02-03T18:43:26.175819Z",
     "shell.execute_reply": "2025-02-03T18:43:26.175045Z"
    },
    "papermill": {
     "duration": 7.723739,
     "end_time": "2025-02-03T18:43:26.176984",
     "exception": false,
     "start_time": "2025-02-03T18:43:18.453245",
     "status": "completed"
    },
    "tags": []
   },
   "outputs": [
    {
     "name": "stdout",
     "output_type": "stream",
     "text": [
      "Collecting patool\r\n",
      "  Downloading patool-3.1.0-py2.py3-none-any.whl.metadata (4.3 kB)\r\n",
      "Downloading patool-3.1.0-py2.py3-none-any.whl (98 kB)\r\n",
      "\u001b[2K   \u001b[90m━━━━━━━━━━━━━━━━━━━━━━━━━━━━━━━━━━━━━━━━\u001b[0m \u001b[32m98.4/98.4 kB\u001b[0m \u001b[31m4.4 MB/s\u001b[0m eta \u001b[36m0:00:00\u001b[0m\r\n",
      "\u001b[?25hInstalling collected packages: patool\r\n",
      "Successfully installed patool-3.1.0\r\n"
     ]
    },
    {
     "name": "stderr",
     "output_type": "stream",
     "text": [
      "INFO patool: Extracting /kaggle/working/celebA_imgs.rar ...\n",
      "INFO patool: ... creating output directory `celebA_imgs'.\n",
      "INFO patool: running /usr/bin/unrar x -kb -or -- /kaggle/working/celebA_imgs.rar\n",
      "INFO patool: ... /kaggle/working/celebA_imgs.rar extracted to `celebA_imgs'.\n"
     ]
    },
    {
     "data": {
      "text/plain": [
       "'celebA_imgs'"
      ]
     },
     "execution_count": 4,
     "metadata": {},
     "output_type": "execute_result"
    }
   ],
   "source": [
    "# Package for unarchive\n",
    "!pip install patool\n",
    "import patoolib\n",
    "patoolib.extract_archive(f\"{WORKING_DIR}/celebA_imgs.rar\", outdir=\"celebA_imgs\")"
   ]
  },
  {
   "cell_type": "markdown",
   "id": "e8d19dc6",
   "metadata": {
    "papermill": {
     "duration": 0.005691,
     "end_time": "2025-02-03T18:43:26.188805",
     "exception": false,
     "start_time": "2025-02-03T18:43:26.183114",
     "status": "completed"
    },
    "tags": []
   },
   "source": [
    "## Parse input data"
   ]
  },
  {
   "cell_type": "code",
   "execution_count": 5,
   "id": "e5755731",
   "metadata": {
    "execution": {
     "iopub.execute_input": "2025-02-03T18:43:26.201345Z",
     "iopub.status.busy": "2025-02-03T18:43:26.201090Z",
     "iopub.status.idle": "2025-02-03T18:43:26.239855Z",
     "shell.execute_reply": "2025-02-03T18:43:26.239164Z"
    },
    "papermill": {
     "duration": 0.046623,
     "end_time": "2025-02-03T18:43:26.241073",
     "exception": false,
     "start_time": "2025-02-03T18:43:26.194450",
     "status": "completed"
    },
    "tags": []
   },
   "outputs": [
    {
     "data": {
      "text/plain": [
       "type\n",
       "train    8544\n",
       "test     1878\n",
       "val      1589\n",
       "Name: count, dtype: int64"
      ]
     },
     "execution_count": 5,
     "metadata": {},
     "output_type": "execute_result"
    }
   ],
   "source": [
    "celeba_anno = pd.read_csv(f\"{WORKING_DIR}/celebA_anno.txt\", sep=\" \", names=['path', 'id'])\n",
    "celeba_train_split = pd.read_csv(f\"{WORKING_DIR}/celebA_train_split.txt\", sep=\" \", names=['path', 'type'])\n",
    "\n",
    "mapping = {0: 'train', 1: 'test', 2: 'val'}\n",
    "celeba_train_split.replace({'type': mapping}, inplace=True)\n",
    "\n",
    "celeba_train_split['type'].value_counts()"
   ]
  },
  {
   "cell_type": "code",
   "execution_count": 6,
   "id": "292bf2d2",
   "metadata": {
    "execution": {
     "iopub.execute_input": "2025-02-03T18:43:26.253743Z",
     "iopub.status.busy": "2025-02-03T18:43:26.253505Z",
     "iopub.status.idle": "2025-02-03T18:43:26.423082Z",
     "shell.execute_reply": "2025-02-03T18:43:26.422217Z"
    },
    "papermill": {
     "duration": 0.177567,
     "end_time": "2025-02-03T18:43:26.424692",
     "exception": false,
     "start_time": "2025-02-03T18:43:26.247125",
     "status": "completed"
    },
    "tags": []
   },
   "outputs": [],
   "source": [
    "def add_pathes(l, fill_to):\n",
    "    total_len = len(l)\n",
    "    if total_len < fill_to:\n",
    "        l *= 1 + fill_to//total_len\n",
    "        l = l[:fill_to]\n",
    "    return l\n",
    "\n",
    "def crop_image(image):\n",
    "    \"\"\"Custom advised crop\"\"\"\n",
    "    image = image[:, 77:-41, 45:-50]\n",
    "    return image\n",
    "\n",
    "class CelebaImageDataset(Dataset):\n",
    "    def __init__(\n",
    "        self,\n",
    "        annotations_file,\n",
    "        img_dir,\n",
    "        train_test_split_file=None,\n",
    "        transform=None,\n",
    "        target_transform=None\n",
    "    ):\n",
    "        self.img_labels = annotations_file\n",
    "        self.img_dir = img_dir\n",
    "        self.train_test_labels = train_test_split_file\n",
    "        self.transform = transform\n",
    "        self.target_transform = target_transform\n",
    "\n",
    "        self.img_labels = self.img_labels.reset_index(drop=True)\n",
    "    \n",
    "    def __len__(self):\n",
    "        return len(self.img_labels)\n",
    "\n",
    "    def __getitem__(self, idx):\n",
    "        img_path = os.path.join(self.img_dir, self.img_labels.iloc[idx, 0])\n",
    "        image = read_image(img_path).to(DEVICE)\n",
    "        label = torch.tensor(self.img_labels.iloc[idx, 1]).to(DEVICE)\n",
    "        if self.transform:\n",
    "            image = self.transform(image)\n",
    "        if self.target_transform:\n",
    "            label = self.target_transform(label)\n",
    "        return image, label\n",
    "\n",
    "    def get_sample_dataset(self, type_dataset):\n",
    "        img_labels = self.img_labels\n",
    "        train_test_labels = self.train_test_labels\n",
    "        \n",
    "        sample = img_labels.merge(train_test_labels, on='path', how='inner')\n",
    "        sample = sample[sample['type'] == type_dataset]\n",
    "\n",
    "        sample_dataset = CelebaImageDataset(\n",
    "            annotations_file=sample,\n",
    "            img_dir=self.img_dir,\n",
    "            train_test_split_file=self.train_test_labels,\n",
    "            transform=self.transform,\n",
    "        )\n",
    "        return sample_dataset\n",
    "\n",
    "    def fill_train_data(self, fill_to):\n",
    "        \"\"\"\n",
    "        Fill the (only train!) data in the dataset so that there are at least `fill_to` representatives of each class\n",
    "        \"\"\"\n",
    "        grouped_img_labels = (\n",
    "            self.img_labels\n",
    "            .groupby('id')\n",
    "            .agg(path=pd.NamedAgg(column=\"path\", aggfunc=lambda x: x.tolist()))\n",
    "            .reset_index()\n",
    "        )\n",
    "        grouped_img_labels['path'] = grouped_img_labels['path'].apply(lambda x: add_pathes(x, fill_to))\n",
    "        exploded_grouped_img_labels = grouped_img_labels.explode('path', ignore_index=True)\n",
    "        exploded_grouped_img_labels = exploded_grouped_img_labels.merge(self.train_test_labels, on='path', how='inner')\n",
    "        self.img_labels = exploded_grouped_img_labels[['path', 'id', 'type']]"
   ]
  },
  {
   "cell_type": "code",
   "execution_count": 7,
   "id": "f12a356d",
   "metadata": {
    "execution": {
     "iopub.execute_input": "2025-02-03T18:43:26.437820Z",
     "iopub.status.busy": "2025-02-03T18:43:26.437580Z",
     "iopub.status.idle": "2025-02-03T18:43:26.444308Z",
     "shell.execute_reply": "2025-02-03T18:43:26.443529Z"
    },
    "papermill": {
     "duration": 0.014428,
     "end_time": "2025-02-03T18:43:26.445459",
     "exception": false,
     "start_time": "2025-02-03T18:43:26.431031",
     "status": "completed"
    },
    "tags": []
   },
   "outputs": [],
   "source": [
    "from torch.utils.data import BatchSampler\n",
    "\n",
    "# Пишем свой даталоадер, который гарантированно будет генерить батчи так,\n",
    "# чтобы в батче было по 4 картинки каждого класса, что надо для реализации triplet loss'а по стратегии batch hard\n",
    "\n",
    "class TripletBatchSampler(BatchSampler):\n",
    "    def __init__(self, dataset, batch_size, K=4):\n",
    "        self.dataset = dataset\n",
    "        self.batch_size = batch_size\n",
    "        self.P = batch_size // K\n",
    "        self.K = K\n",
    "\n",
    "        self.classes = np.unique(self.dataset.img_labels['id'])\n",
    "        self.num_classes = len(self.classes)\n",
    "\n",
    "    \n",
    "    def __iter__(self):\n",
    "        observations = self.dataset.img_labels.copy()\n",
    "        \n",
    "        custom_batches = []\n",
    "\n",
    "        # print(len(observations))\n",
    "        while len(observations) != 0:\n",
    "            current_batch = []\n",
    "            classes = np.unique(observations['id'])\n",
    "\n",
    "            if len(classes) < self.P:\n",
    "                classes_to_batch = classes\n",
    "            else:\n",
    "                classes_to_batch = np.random.choice(classes, size=self.P, replace=False)\n",
    "                \n",
    "            for label in classes_to_batch:\n",
    "                filtered_dataset = observations[observations['id'] == label]\n",
    "                \n",
    "                indices_to_batch = np.random.choice(\n",
    "                    filtered_dataset.index,\n",
    "                    size=self.K,\n",
    "                    replace=(len(filtered_dataset) < self.K)\n",
    "                )\n",
    "\n",
    "                current_batch.extend(indices_to_batch)\n",
    "\n",
    "            observations.drop(index=current_batch, inplace=True)\n",
    "            # Skip unrelevant batches \n",
    "            if (len(np.unique(current_batch)) < self.batch_size//2):\n",
    "                # or (len(current_batch) < self.batch_size):\n",
    "                continue\n",
    "                \n",
    "            custom_batches.append(current_batch)\n",
    "            \n",
    "        return iter(custom_batches)\n",
    "\n",
    "    def __len__(self):\n",
    "        # approx\n",
    "        return int(1.145 * len(self.dataset) / self.batch_size)"
   ]
  },
  {
   "cell_type": "code",
   "execution_count": 8,
   "id": "577c8c2e",
   "metadata": {
    "execution": {
     "iopub.execute_input": "2025-02-03T18:43:26.457958Z",
     "iopub.status.busy": "2025-02-03T18:43:26.457746Z",
     "iopub.status.idle": "2025-02-03T18:43:26.526608Z",
     "shell.execute_reply": "2025-02-03T18:43:26.525953Z"
    },
    "papermill": {
     "duration": 0.076786,
     "end_time": "2025-02-03T18:43:26.528128",
     "exception": false,
     "start_time": "2025-02-03T18:43:26.451342",
     "status": "completed"
    },
    "tags": []
   },
   "outputs": [],
   "source": [
    "celeba_image_dataset = CelebaImageDataset(\n",
    "    annotations_file=celeba_anno,\n",
    "    img_dir=f\"{WORKING_DIR}/celebA_imgs/celebA_imgs\",\n",
    "    train_test_split_file=celeba_train_split,\n",
    "    transform=crop_image, \n",
    ")\n",
    "\n",
    "train_image_dataset = celeba_image_dataset.get_sample_dataset(type_dataset='train')\n",
    "test_image_dataset = celeba_image_dataset.get_sample_dataset(type_dataset='test')\n",
    "val_image_dataset = celeba_image_dataset.get_sample_dataset(type_dataset='val')\n",
    "\n",
    "# Fill train data up to 50 observations on each class (8544 -> 25000)\n",
    "train_image_dataset_filled = deepcopy(train_image_dataset)\n",
    "train_image_dataset_filled.fill_train_data(fill_to=50)\n",
    "\n",
    "BATCH_SIZE = 64\n",
    "\n",
    "# train_dataloader = DataLoader(train_image_dataset, batch_size=BATCH_SIZE, shuffle=True)\n",
    "# train_dataloader_filled = DataLoader(train_image_dataset_filled, batch_size=BATCH_SIZE, shuffle=True)\n",
    "# test_dataloader = DataLoader(test_image_dataset, batch_size=BATCH_SIZE, shuffle=True)\n",
    "# val_dataloader = DataLoader(val_image_dataset, batch_size=BATCH_SIZE, shuffle=False)\n",
    "\n",
    "\n",
    "train_triplet_sampler = TripletBatchSampler(train_image_dataset, batch_size=BATCH_SIZE, K=4)\n",
    "train_triplet_sampler_f = TripletBatchSampler(train_image_dataset_filled, batch_size=BATCH_SIZE, K=4)\n",
    "test_triplet_sampler = TripletBatchSampler(test_image_dataset, batch_size=BATCH_SIZE, K=4)\n",
    "val_triplet_sampler = TripletBatchSampler(val_image_dataset, batch_size=BATCH_SIZE, K=4)\n",
    "\n",
    "\n",
    "train_triplet_dataloader = DataLoader(train_image_dataset, batch_sampler=train_triplet_sampler)\n",
    "train_triplet_dataloader_f = DataLoader(train_image_dataset_filled, batch_sampler=train_triplet_sampler_f)\n",
    "test_triplet_dataloader = DataLoader(test_image_dataset, batch_sampler=test_triplet_sampler)\n",
    "val_triplet_dataloader = DataLoader(val_image_dataset, batch_sampler=val_triplet_sampler)"
   ]
  },
  {
   "cell_type": "code",
   "execution_count": 9,
   "id": "7d0739f2",
   "metadata": {
    "execution": {
     "iopub.execute_input": "2025-02-03T18:43:26.540959Z",
     "iopub.status.busy": "2025-02-03T18:43:26.540725Z",
     "iopub.status.idle": "2025-02-03T18:43:26.544424Z",
     "shell.execute_reply": "2025-02-03T18:43:26.543793Z"
    },
    "papermill": {
     "duration": 0.011355,
     "end_time": "2025-02-03T18:43:26.545649",
     "exception": false,
     "start_time": "2025-02-03T18:43:26.534294",
     "status": "completed"
    },
    "tags": []
   },
   "outputs": [],
   "source": [
    "def render_tensor(img, device):\n",
    "    if str(device) == 'cuda':\n",
    "        plt.imshow(torch.permute(img, (1, 2, 0)).cpu())\n",
    "    else:\n",
    "        plt.imshow(torch.permute(img, (1, 2, 0)))\n",
    "    plt.axis('off')\n",
    "    plt.show()\n",
    "    return"
   ]
  },
  {
   "cell_type": "code",
   "execution_count": 10,
   "id": "31f2aaf0",
   "metadata": {
    "execution": {
     "iopub.execute_input": "2025-02-03T18:43:26.558172Z",
     "iopub.status.busy": "2025-02-03T18:43:26.557971Z",
     "iopub.status.idle": "2025-02-03T18:43:27.781624Z",
     "shell.execute_reply": "2025-02-03T18:43:27.780703Z"
    },
    "papermill": {
     "duration": 1.231318,
     "end_time": "2025-02-03T18:43:27.782950",
     "exception": false,
     "start_time": "2025-02-03T18:43:26.551632",
     "status": "completed"
    },
    "tags": []
   },
   "outputs": [
    {
     "name": "stdout",
     "output_type": "stream",
     "text": [
      "Feature batch shape: torch.Size([64, 3, 100, 83])\n",
      "Labels batch shape: torch.Size([64])\n",
      "Label: 361\n"
     ]
    },
    {
     "data": {
      "image/png": "[encoded data removed]",
      "text/plain": [
       "<Figure size 640x480 with 1 Axes>"
      ]
     },
     "metadata": {},
     "output_type": "display_data"
    }
   ],
   "source": [
    "# Watching an image which fed into model\n",
    "train_features, train_labels = next(iter(train_triplet_dataloader))\n",
    "print(f\"Feature batch shape: {train_features.size()}\")\n",
    "print(f\"Labels batch shape: {train_labels.size()}\")\n",
    "img = train_features[0]\n",
    "label = train_labels[0]\n",
    "print(f\"Label: {label}\")\n",
    "render_tensor(img, DEVICE)"
   ]
  },
  {
   "cell_type": "markdown",
   "id": "3ec0c548",
   "metadata": {
    "papermill": {
     "duration": 0.006494,
     "end_time": "2025-02-03T18:43:27.796143",
     "exception": false,
     "start_time": "2025-02-03T18:43:27.789649",
     "status": "completed"
    },
    "tags": []
   },
   "source": [
    "---"
   ]
  },
  {
   "cell_type": "markdown",
   "id": "924108a1",
   "metadata": {
    "papermill": {
     "duration": 0.006573,
     "end_time": "2025-02-03T18:43:27.809453",
     "exception": false,
     "start_time": "2025-02-03T18:43:27.802880",
     "status": "completed"
    },
    "tags": []
   },
   "source": [
    "## TripletLoss realization"
   ]
  },
  {
   "cell_type": "code",
   "execution_count": 11,
   "id": "57bea75c",
   "metadata": {
    "execution": {
     "iopub.execute_input": "2025-02-03T18:43:27.823038Z",
     "iopub.status.busy": "2025-02-03T18:43:27.822784Z",
     "iopub.status.idle": "2025-02-03T18:43:27.828653Z",
     "shell.execute_reply": "2025-02-03T18:43:27.827876Z"
    },
    "papermill": {
     "duration": 0.014155,
     "end_time": "2025-02-03T18:43:27.829956",
     "exception": false,
     "start_time": "2025-02-03T18:43:27.815801",
     "status": "completed"
    },
    "tags": []
   },
   "outputs": [],
   "source": [
    "# блок функций, необходимый для реализации triplet loss'а\n",
    "\n",
    "def dist(a, b):\n",
    "    \"\"\"\n",
    "    Calculates distance between embeddings (a & b).\n",
    "    Equals to 0 for the most similar, and to 2 for the most different objects.\n",
    "    \"\"\"\n",
    "    cos = nn.CosineSimilarity(dim=0, eps=1e-12)\n",
    "    distance = 1 - cos(a, b)\n",
    "    return distance\n",
    "\n",
    "\n",
    "def find_unsimilar_pos(X: torch.Tensor, y: torch.Tensor, idx, dist_func):\n",
    "    # Функция, которая находит самый далекий эмбеддинг того же класса\n",
    "    label = y[idx]\n",
    "    pos_indices = (y == label).nonzero(as_tuple=True)[0]\n",
    "    pos_other_indices = pos_indices[pos_indices != idx]\n",
    "\n",
    "    emb_a = X[idx]\n",
    "    embeddings_p = X[pos_other_indices]\n",
    "\n",
    "    distances = dist_func(emb_a.unsqueeze(0), embeddings_p)\n",
    "    farthest_dist, _ = distances.max(dim=0)  # Максимальное расстояние\n",
    "\n",
    "    return farthest_dist\n",
    "\n",
    "\n",
    "def find_similar_neg(X: torch.Tensor, y: torch.Tensor, idx, dist_func):\n",
    "    # Функция, которая находит самый близкий эмбеддинг другого класса\n",
    "    label = y[idx]\n",
    "    neg_indices = (y != label).nonzero(as_tuple=True)[0]\n",
    "\n",
    "    emb_a = X[idx]\n",
    "    embeddings_n = X[neg_indices]\n",
    "\n",
    "    distances = dist_func(emb_a.unsqueeze(0), embeddings_n)\n",
    "    nearest_dist, _ = distances.min(dim=0)\n",
    "\n",
    "    return nearest_dist"
   ]
  },
  {
   "cell_type": "code",
   "execution_count": 12,
   "id": "6fa10d92",
   "metadata": {
    "execution": {
     "iopub.execute_input": "2025-02-03T18:43:27.843626Z",
     "iopub.status.busy": "2025-02-03T18:43:27.843324Z",
     "iopub.status.idle": "2025-02-03T18:43:27.850279Z",
     "shell.execute_reply": "2025-02-03T18:43:27.849506Z"
    },
    "papermill": {
     "duration": 0.015346,
     "end_time": "2025-02-03T18:43:27.851647",
     "exception": false,
     "start_time": "2025-02-03T18:43:27.836301",
     "status": "completed"
    },
    "tags": []
   },
   "outputs": [],
   "source": [
    "class TripletLoss(nn.Module):\n",
    "    def __init__(self, dist_func, margin=1):\n",
    "        super(TripletLoss, self).__init__()\n",
    "        self.dist_func = dist_func\n",
    "        self.margin = margin\n",
    "        \n",
    "    def forward(self, embeddings, targets):\n",
    "        positive_distances = []\n",
    "        negative_distances = []\n",
    "        \n",
    "        for idx, emb in enumerate(embeddings):\n",
    "            positive_distances.append(find_unsimilar_pos(embeddings, targets, idx, self.dist_func))\n",
    "            negative_distances.append(find_similar_neg(embeddings, targets, idx, self.dist_func))\n",
    "\n",
    "        positive_distances = torch.stack(positive_distances)\n",
    "        negative_distances = torch.stack(negative_distances)\n",
    "\n",
    "        loss = positive_distances - negative_distances + self.margin\n",
    "        zeros = torch.zeros_like(loss)\n",
    "        loss_s = torch.maximum(loss, zeros)\n",
    "        loss_s = loss_s.mean()\n",
    "        \n",
    "        return loss_s"
   ]
  },
  {
   "cell_type": "code",
   "execution_count": 13,
   "id": "3f6359ed",
   "metadata": {
    "execution": {
     "iopub.execute_input": "2025-02-03T18:43:27.865201Z",
     "iopub.status.busy": "2025-02-03T18:43:27.864896Z",
     "iopub.status.idle": "2025-02-03T18:43:27.868621Z",
     "shell.execute_reply": "2025-02-03T18:43:27.867881Z"
    },
    "papermill": {
     "duration": 0.011858,
     "end_time": "2025-02-03T18:43:27.869900",
     "exception": false,
     "start_time": "2025-02-03T18:43:27.858042",
     "status": "completed"
    },
    "tags": []
   },
   "outputs": [],
   "source": [
    "triplet_loss = TripletLoss(dist_func=dist)"
   ]
  },
  {
   "cell_type": "markdown",
   "id": "6b80d6f2",
   "metadata": {
    "papermill": {
     "duration": 0.006386,
     "end_time": "2025-02-03T18:43:27.882614",
     "exception": false,
     "start_time": "2025-02-03T18:43:27.876228",
     "status": "completed"
    },
    "tags": []
   },
   "source": [
    "## Load model"
   ]
  },
  {
   "cell_type": "code",
   "execution_count": 14,
   "id": "20bed4f7",
   "metadata": {
    "execution": {
     "iopub.execute_input": "2025-02-03T18:43:27.896174Z",
     "iopub.status.busy": "2025-02-03T18:43:27.895891Z",
     "iopub.status.idle": "2025-02-03T18:43:27.903338Z",
     "shell.execute_reply": "2025-02-03T18:43:27.902598Z"
    },
    "papermill": {
     "duration": 0.015704,
     "end_time": "2025-02-03T18:43:27.904604",
     "exception": false,
     "start_time": "2025-02-03T18:43:27.888900",
     "status": "completed"
    },
    "tags": []
   },
   "outputs": [],
   "source": [
    "class EfficientNet2(nn.Module):\n",
    "    def __init__(self, pretrained=False, num_classes=500):\n",
    "        super(EfficientNet2, self).__init__()\n",
    "        self.model = models.efficientnet_b2(weights=pretrained)\n",
    "\n",
    "        embedding_size = 1408\n",
    "        \n",
    "        # Change embedding size\n",
    "        self.model.features[8] = nn.Sequential(\n",
    "            # 352 = self.model.features[8].Conv2d.in_features but not sure\n",
    "            nn.Conv2d(352, embedding_size, kernel_size=(1, 1), stride=(1, 1), bias=False),\n",
    "            nn.BatchNorm2d(embedding_size, eps=1e-05, momentum=0.1, affine=True, track_running_stats=True),\n",
    "            nn.SiLU(inplace=True)\n",
    "        )\n",
    "        \n",
    "        # Change out_features of last FC-layer\n",
    "        self.model.classifier[1] = nn.Linear(embedding_size, num_classes, bias=False)\n",
    "    \n",
    "    def forward(self, x):\n",
    "        embeddings = self.model.avgpool(self.model.features(x))\n",
    "        embeddings = embeddings.squeeze()\n",
    "        output = self.model.classifier(embeddings)\n",
    "        last_layer_weight = self.model.classifier[1].weight\n",
    "\n",
    "        return output, embeddings, last_layer_weight"
   ]
  },
  {
   "cell_type": "code",
   "execution_count": 15,
   "id": "b033164a",
   "metadata": {
    "execution": {
     "iopub.execute_input": "2025-02-03T18:43:27.919879Z",
     "iopub.status.busy": "2025-02-03T18:43:27.919592Z",
     "iopub.status.idle": "2025-02-03T18:43:27.926088Z",
     "shell.execute_reply": "2025-02-03T18:43:27.925373Z"
    },
    "papermill": {
     "duration": 0.014904,
     "end_time": "2025-02-03T18:43:27.927341",
     "exception": false,
     "start_time": "2025-02-03T18:43:27.912437",
     "status": "completed"
    },
    "tags": []
   },
   "outputs": [
    {
     "data": {
      "text/plain": [
       "8544"
      ]
     },
     "metadata": {},
     "output_type": "display_data"
    },
    {
     "data": {
      "text/plain": [
       "25000"
      ]
     },
     "metadata": {},
     "output_type": "display_data"
    }
   ],
   "source": [
    "display(len(train_triplet_dataloader.dataset))\n",
    "display(len(train_triplet_dataloader_f.dataset))"
   ]
  },
  {
   "cell_type": "markdown",
   "id": "e35d1140",
   "metadata": {
    "papermill": {
     "duration": 0.006449,
     "end_time": "2025-02-03T18:43:27.940329",
     "exception": false,
     "start_time": "2025-02-03T18:43:27.933880",
     "status": "completed"
    },
    "tags": []
   },
   "source": [
    "## Train model"
   ]
  },
  {
   "cell_type": "code",
   "execution_count": 16,
   "id": "4d85de12",
   "metadata": {
    "execution": {
     "iopub.execute_input": "2025-02-03T18:43:27.954200Z",
     "iopub.status.busy": "2025-02-03T18:43:27.953959Z",
     "iopub.status.idle": "2025-02-03T18:43:27.962453Z",
     "shell.execute_reply": "2025-02-03T18:43:27.961694Z"
    },
    "papermill": {
     "duration": 0.01687,
     "end_time": "2025-02-03T18:43:27.963718",
     "exception": false,
     "start_time": "2025-02-03T18:43:27.946848",
     "status": "completed"
    },
    "tags": []
   },
   "outputs": [],
   "source": [
    "def custom_norm(x):\n",
    "    return x/255\n",
    "\n",
    "normalize_transformer = transforms.Compose([\n",
    "        custom_norm,\n",
    "        transforms.Normalize(mean=[0.485, 0.456, 0.406], std=[0.229, 0.224, 0.225]),\n",
    "        transforms.Resize((224, 224)),\n",
    "    ])\n",
    "\n",
    "augment_n_normalize_transformer = transforms.Compose([\n",
    "        # augmentations\n",
    "        transforms.RandomHorizontalFlip(),\n",
    "        transforms.RandomAdjustSharpness(sharpness_factor=2, p=0.4),\n",
    "        transforms.RandomAdjustSharpness(sharpness_factor=0.5, p=0.4),\n",
    "        transforms.ColorJitter(brightness=0.7, contrast=0.7, saturation=0.7, hue=0.12),\n",
    "        transforms.RandomRotation(degrees=(-6, 6)),\n",
    "        transforms.RandomAffine(degrees=0, scale=(0.9, 1.1)),\n",
    "        # normalizations\n",
    "        normalize_transformer\n",
    "    ])\n",
    "\n",
    "def train_loop(dataloader, model, loss_fn, optimizer):\n",
    "    size = len(dataloader.dataset)\n",
    "    model.train()\n",
    "    for batch, (X, y) in enumerate(dataloader):\n",
    "        X = augment_n_normalize_transformer(X)\n",
    "        pred, embeddings, weights = model(X)\n",
    "        normalized_embeddings = normalize(embeddings).squeeze().type(torch.float64)\n",
    "        loss = loss_fn(embeddings=normalized_embeddings, targets=y)\n",
    "        loss.backward()\n",
    "        optimizer.step()\n",
    "        optimizer.zero_grad()\n",
    "\n",
    "def test_loop(dataloader, model, loss_fn, prefix):\n",
    "    model.eval()\n",
    "    size = len(dataloader.dataset)\n",
    "    num_batches = len(dataloader)\n",
    "    test_loss, correct = 0, 0\n",
    "\n",
    "    with torch.no_grad():\n",
    "        for X, y in dataloader:\n",
    "            X = normalize_transformer(X)\n",
    "            pred, embeddings, weights = model(X)\n",
    "            normalized_embeddings = normalize(embeddings).squeeze().type(torch.float64)\n",
    "            loss = loss_fn(embeddings=normalized_embeddings, targets=y)\n",
    "            test_loss += loss.item()\n",
    "            correct += (pred.argmax(1) == y).type(torch.float).sum().item()\n",
    "\n",
    "    test_loss /= num_batches\n",
    "    correct /= size\n",
    "    print(f\"Test-{prefix} Error: \\n Accuracy: {(100*correct):>0.1f}%, Avg loss: {test_loss:>8f}\")\n",
    "\n",
    "    return correct, test_loss"
   ]
  },
  {
   "cell_type": "code",
   "execution_count": 17,
   "id": "9105c2d6",
   "metadata": {
    "execution": {
     "iopub.execute_input": "2025-02-03T18:43:27.977996Z",
     "iopub.status.busy": "2025-02-03T18:43:27.977714Z",
     "iopub.status.idle": "2025-02-03T18:43:27.984986Z",
     "shell.execute_reply": "2025-02-03T18:43:27.984266Z"
    },
    "papermill": {
     "duration": 0.015649,
     "end_time": "2025-02-03T18:43:27.986255",
     "exception": false,
     "start_time": "2025-02-03T18:43:27.970606",
     "status": "completed"
    },
    "scrolled": true,
    "tags": []
   },
   "outputs": [],
   "source": [
    "def train_model(model, train_dataloader, test_dataloader, val_dataloader, loss_fn, optimizer, epochs):\n",
    "    train_losses = []; test_losses = []; val_losses = [];\n",
    "    train_accs = []; test_accs = []; val_accs = [];\n",
    "\n",
    "    for t in range(epochs):\n",
    "        print(f\"__________ Epoch {t+1} __________\")\n",
    "        train_loop(train_triplet_dataloader_f, model, loss_fn, optimizer)\n",
    "        train_acc, train_loss = test_loop(train_dataloader, model, loss_fn, prefix='train')\n",
    "        test_acc, test_loss = test_loop(test_dataloader, model, loss_fn, prefix='test')\n",
    "        val_acc, val_loss = test_loop(val_dataloader, model, loss_fn, prefix='val')\n",
    "        \n",
    "        train_losses.append(train_loss); test_losses.append(test_loss); val_losses.append(val_loss)\n",
    "        train_accs.append(train_acc); test_accs.append(test_acc); val_accs.append(val_acc)\n",
    "        print()\n",
    "\n",
    "    metrics = {\n",
    "        'losses': {\n",
    "            'train': train_losses,\n",
    "            'test': test_losses,\n",
    "            'val': val_losses},\n",
    "        'accs': {\n",
    "            'train': train_accs,\n",
    "            'test': test_accs,\n",
    "            'val': val_accs}\n",
    "    }\n",
    "    \n",
    "    return metrics\n"
   ]
  },
  {
   "cell_type": "markdown",
   "id": "2bec0aae",
   "metadata": {
    "papermill": {
     "duration": 0.007511,
     "end_time": "2025-02-03T18:43:28.002154",
     "exception": false,
     "start_time": "2025-02-03T18:43:27.994643",
     "status": "completed"
    },
    "tags": []
   },
   "source": [
    "---"
   ]
  },
  {
   "cell_type": "code",
   "execution_count": 18,
   "id": "0e3582a8",
   "metadata": {
    "execution": {
     "iopub.execute_input": "2025-02-03T18:43:28.018157Z",
     "iopub.status.busy": "2025-02-03T18:43:28.017839Z",
     "iopub.status.idle": "2025-02-03T18:43:28.021276Z",
     "shell.execute_reply": "2025-02-03T18:43:28.020504Z"
    },
    "papermill": {
     "duration": 0.013629,
     "end_time": "2025-02-03T18:43:28.022597",
     "exception": false,
     "start_time": "2025-02-03T18:43:28.008968",
     "status": "completed"
    },
    "tags": []
   },
   "outputs": [],
   "source": [
    "learning_rate = 4e-4\n",
    "epochs = 70"
   ]
  },
  {
   "cell_type": "code",
   "execution_count": 19,
   "id": "1c5e10e3",
   "metadata": {
    "execution": {
     "iopub.execute_input": "2025-02-03T18:43:28.035955Z",
     "iopub.status.busy": "2025-02-03T18:43:28.035752Z",
     "iopub.status.idle": "2025-02-03T23:10:24.660817Z",
     "shell.execute_reply": "2025-02-03T23:10:24.659800Z"
    },
    "papermill": {
     "duration": 16016.633391,
     "end_time": "2025-02-03T23:10:24.662339",
     "exception": false,
     "start_time": "2025-02-03T18:43:28.028948",
     "status": "completed"
    },
    "tags": []
   },
   "outputs": [
    {
     "name": "stderr",
     "output_type": "stream",
     "text": [
      "/usr/local/lib/python3.10/dist-packages/torchvision/models/_utils.py:223: UserWarning: Arguments other than a weight enum or `None` for 'weights' are deprecated since 0.13 and may be removed in the future. The current behavior is equivalent to passing `weights=None`.\n",
      "  warnings.warn(msg)\n"
     ]
    },
    {
     "name": "stdout",
     "output_type": "stream",
     "text": [
      "__________ Epoch 1 __________\n",
      "Test-train Error: \n",
      " Accuracy: 0.3%, Avg loss: 2.312352\n",
      "Test-test Error: \n",
      " Accuracy: 0.3%, Avg loss: 2.188444\n",
      "Test-val Error: \n",
      " Accuracy: 0.3%, Avg loss: 2.635416\n",
      "\n",
      "__________ Epoch 2 __________\n",
      "Test-train Error: \n",
      " Accuracy: 0.2%, Avg loss: 1.518387\n",
      "Test-test Error: \n",
      " Accuracy: 0.4%, Avg loss: 1.316301\n",
      "Test-val Error: \n",
      " Accuracy: 0.2%, Avg loss: 1.673948\n",
      "\n",
      "__________ Epoch 3 __________\n",
      "Test-train Error: \n",
      " Accuracy: 0.2%, Avg loss: 1.151280\n",
      "Test-test Error: \n",
      " Accuracy: 0.3%, Avg loss: 1.115262\n",
      "Test-val Error: \n",
      " Accuracy: 0.0%, Avg loss: 1.221315\n",
      "\n",
      "__________ Epoch 4 __________\n",
      "Test-train Error: \n",
      " Accuracy: 0.2%, Avg loss: 1.031281\n",
      "Test-test Error: \n",
      " Accuracy: 0.2%, Avg loss: 0.867429\n",
      "Test-val Error: \n",
      " Accuracy: 0.1%, Avg loss: 0.992929\n",
      "\n",
      "__________ Epoch 5 __________\n",
      "Test-train Error: \n",
      " Accuracy: 0.3%, Avg loss: 1.133671\n",
      "Test-test Error: \n",
      " Accuracy: 0.1%, Avg loss: 1.039312\n",
      "Test-val Error: \n",
      " Accuracy: 0.3%, Avg loss: 1.190977\n",
      "\n",
      "__________ Epoch 6 __________\n",
      "Test-train Error: \n",
      " Accuracy: 0.3%, Avg loss: 1.064320\n",
      "Test-test Error: \n",
      " Accuracy: 0.5%, Avg loss: 0.946261\n",
      "Test-val Error: \n",
      " Accuracy: 0.4%, Avg loss: 1.073736\n",
      "\n",
      "__________ Epoch 7 __________\n",
      "Test-train Error: \n",
      " Accuracy: 0.2%, Avg loss: 1.145089\n",
      "Test-test Error: \n",
      " Accuracy: 0.3%, Avg loss: 0.976352\n",
      "Test-val Error: \n",
      " Accuracy: 0.1%, Avg loss: 1.177015\n",
      "\n",
      "__________ Epoch 8 __________\n",
      "Test-train Error: \n",
      " Accuracy: 0.2%, Avg loss: 1.387915\n",
      "Test-test Error: \n",
      " Accuracy: 0.1%, Avg loss: 1.276761\n",
      "Test-val Error: \n",
      " Accuracy: 0.3%, Avg loss: 1.444340\n",
      "\n",
      "__________ Epoch 9 __________\n",
      "Test-train Error: \n",
      " Accuracy: 0.2%, Avg loss: 1.137987\n",
      "Test-test Error: \n",
      " Accuracy: 0.3%, Avg loss: 0.989531\n",
      "Test-val Error: \n",
      " Accuracy: 0.4%, Avg loss: 1.185846\n",
      "\n",
      "__________ Epoch 10 __________\n",
      "Test-train Error: \n",
      " Accuracy: 0.3%, Avg loss: 1.004514\n",
      "Test-test Error: \n",
      " Accuracy: 0.1%, Avg loss: 1.025672\n",
      "Test-val Error: \n",
      " Accuracy: 0.2%, Avg loss: 1.046696\n",
      "\n",
      "__________ Epoch 11 __________\n",
      "Test-train Error: \n",
      " Accuracy: 0.2%, Avg loss: 1.138337\n",
      "Test-test Error: \n",
      " Accuracy: 0.3%, Avg loss: 1.132744\n",
      "Test-val Error: \n",
      " Accuracy: 0.3%, Avg loss: 1.306957\n",
      "\n",
      "__________ Epoch 12 __________\n",
      "Test-train Error: \n",
      " Accuracy: 0.2%, Avg loss: 1.126841\n",
      "Test-test Error: \n",
      " Accuracy: 0.3%, Avg loss: 1.039144\n",
      "Test-val Error: \n",
      " Accuracy: 0.3%, Avg loss: 1.104748\n",
      "\n",
      "__________ Epoch 13 __________\n",
      "Test-train Error: \n",
      " Accuracy: 0.2%, Avg loss: 1.105147\n",
      "Test-test Error: \n",
      " Accuracy: 0.5%, Avg loss: 0.970605\n",
      "Test-val Error: \n",
      " Accuracy: 0.3%, Avg loss: 1.138620\n",
      "\n",
      "__________ Epoch 14 __________\n",
      "Test-train Error: \n",
      " Accuracy: 0.2%, Avg loss: 1.005888\n",
      "Test-test Error: \n",
      " Accuracy: 0.3%, Avg loss: 0.791370\n",
      "Test-val Error: \n",
      " Accuracy: 0.3%, Avg loss: 1.052324\n",
      "\n",
      "__________ Epoch 15 __________\n",
      "Test-train Error: \n",
      " Accuracy: 0.2%, Avg loss: 0.966198\n",
      "Test-test Error: \n",
      " Accuracy: 0.4%, Avg loss: 0.811406\n",
      "Test-val Error: \n",
      " Accuracy: 0.3%, Avg loss: 0.938804\n",
      "\n",
      "__________ Epoch 16 __________\n",
      "Test-train Error: \n",
      " Accuracy: 0.2%, Avg loss: 0.944975\n",
      "Test-test Error: \n",
      " Accuracy: 0.1%, Avg loss: 0.822755\n",
      "Test-val Error: \n",
      " Accuracy: 0.3%, Avg loss: 0.962250\n",
      "\n",
      "__________ Epoch 17 __________\n",
      "Test-train Error: \n",
      " Accuracy: 0.2%, Avg loss: 1.018287\n",
      "Test-test Error: \n",
      " Accuracy: 0.4%, Avg loss: 0.976730\n",
      "Test-val Error: \n",
      " Accuracy: 0.1%, Avg loss: 1.144045\n",
      "\n",
      "__________ Epoch 18 __________\n",
      "Test-train Error: \n",
      " Accuracy: 0.3%, Avg loss: 1.041296\n",
      "Test-test Error: \n",
      " Accuracy: 0.3%, Avg loss: 0.991561\n",
      "Test-val Error: \n",
      " Accuracy: 0.4%, Avg loss: 1.214369\n",
      "\n",
      "__________ Epoch 19 __________\n",
      "Test-train Error: \n",
      " Accuracy: 0.1%, Avg loss: 0.921614\n",
      "Test-test Error: \n",
      " Accuracy: 0.4%, Avg loss: 0.762158\n",
      "Test-val Error: \n",
      " Accuracy: 0.4%, Avg loss: 0.935284\n",
      "\n",
      "__________ Epoch 20 __________\n",
      "Test-train Error: \n",
      " Accuracy: 0.1%, Avg loss: 1.000352\n",
      "Test-test Error: \n",
      " Accuracy: 0.4%, Avg loss: 0.889248\n",
      "Test-val Error: \n",
      " Accuracy: 0.2%, Avg loss: 1.076878\n",
      "\n",
      "__________ Epoch 21 __________\n",
      "Test-train Error: \n",
      " Accuracy: 0.2%, Avg loss: 1.702443\n",
      "Test-test Error: \n",
      " Accuracy: 0.3%, Avg loss: 1.675740\n",
      "Test-val Error: \n",
      " Accuracy: 0.1%, Avg loss: 1.847554\n",
      "\n",
      "__________ Epoch 22 __________\n",
      "Test-train Error: \n",
      " Accuracy: 0.2%, Avg loss: 0.973832\n",
      "Test-test Error: \n",
      " Accuracy: 0.4%, Avg loss: 0.836328\n",
      "Test-val Error: \n",
      " Accuracy: 0.3%, Avg loss: 0.922914\n",
      "\n",
      "__________ Epoch 23 __________\n",
      "Test-train Error: \n",
      " Accuracy: 0.2%, Avg loss: 1.082001\n",
      "Test-test Error: \n",
      " Accuracy: 0.1%, Avg loss: 0.883859\n",
      "Test-val Error: \n",
      " Accuracy: 0.1%, Avg loss: 1.091630\n",
      "\n",
      "__________ Epoch 24 __________\n",
      "Test-train Error: \n",
      " Accuracy: 0.2%, Avg loss: 1.103388\n",
      "Test-test Error: \n",
      " Accuracy: 0.3%, Avg loss: 1.070761\n",
      "Test-val Error: \n",
      " Accuracy: 0.3%, Avg loss: 1.286755\n",
      "\n",
      "__________ Epoch 25 __________\n",
      "Test-train Error: \n",
      " Accuracy: 0.4%, Avg loss: 1.283431\n",
      "Test-test Error: \n",
      " Accuracy: 0.5%, Avg loss: 1.113225\n",
      "Test-val Error: \n",
      " Accuracy: 0.5%, Avg loss: 1.426545\n",
      "\n",
      "__________ Epoch 26 __________\n",
      "Test-train Error: \n",
      " Accuracy: 0.2%, Avg loss: 0.929760\n",
      "Test-test Error: \n",
      " Accuracy: 0.3%, Avg loss: 0.746737\n",
      "Test-val Error: \n",
      " Accuracy: 0.4%, Avg loss: 0.940770\n",
      "\n",
      "__________ Epoch 27 __________\n",
      "Test-train Error: \n",
      " Accuracy: 0.2%, Avg loss: 0.989814\n",
      "Test-test Error: \n",
      " Accuracy: 0.4%, Avg loss: 0.798714\n",
      "Test-val Error: \n",
      " Accuracy: 0.2%, Avg loss: 1.052597\n",
      "\n",
      "__________ Epoch 28 __________\n",
      "Test-train Error: \n",
      " Accuracy: 0.2%, Avg loss: 0.923384\n",
      "Test-test Error: \n",
      " Accuracy: 0.5%, Avg loss: 0.766086\n",
      "Test-val Error: \n",
      " Accuracy: 0.1%, Avg loss: 0.972294\n",
      "\n",
      "__________ Epoch 29 __________\n",
      "Test-train Error: \n",
      " Accuracy: 0.2%, Avg loss: 0.928024\n",
      "Test-test Error: \n",
      " Accuracy: 0.4%, Avg loss: 0.941077\n",
      "Test-val Error: \n",
      " Accuracy: 0.1%, Avg loss: 1.058332\n",
      "\n",
      "__________ Epoch 30 __________\n",
      "Test-train Error: \n",
      " Accuracy: 0.2%, Avg loss: 1.023624\n",
      "Test-test Error: \n",
      " Accuracy: 0.2%, Avg loss: 0.957596\n",
      "Test-val Error: \n",
      " Accuracy: 0.0%, Avg loss: 1.132822\n",
      "\n",
      "__________ Epoch 31 __________\n",
      "Test-train Error: \n",
      " Accuracy: 0.1%, Avg loss: 1.016375\n",
      "Test-test Error: \n",
      " Accuracy: 0.0%, Avg loss: 0.985604\n",
      "Test-val Error: \n",
      " Accuracy: 0.3%, Avg loss: 1.188774\n",
      "\n",
      "__________ Epoch 32 __________\n",
      "Test-train Error: \n",
      " Accuracy: 0.2%, Avg loss: 1.191095\n",
      "Test-test Error: \n",
      " Accuracy: 0.1%, Avg loss: 1.166750\n",
      "Test-val Error: \n",
      " Accuracy: 0.4%, Avg loss: 1.300099\n",
      "\n",
      "__________ Epoch 33 __________\n",
      "Test-train Error: \n",
      " Accuracy: 0.2%, Avg loss: 0.944091\n",
      "Test-test Error: \n",
      " Accuracy: 0.0%, Avg loss: 0.776319\n",
      "Test-val Error: \n",
      " Accuracy: 0.4%, Avg loss: 0.979381\n",
      "\n",
      "__________ Epoch 34 __________\n",
      "Test-train Error: \n",
      " Accuracy: 0.2%, Avg loss: 1.036957\n",
      "Test-test Error: \n",
      " Accuracy: 0.4%, Avg loss: 0.930494\n",
      "Test-val Error: \n",
      " Accuracy: 0.2%, Avg loss: 1.010554\n",
      "\n",
      "__________ Epoch 35 __________\n",
      "Test-train Error: \n",
      " Accuracy: 0.1%, Avg loss: 0.932182\n",
      "Test-test Error: \n",
      " Accuracy: 0.1%, Avg loss: 0.888878\n",
      "Test-val Error: \n",
      " Accuracy: 0.3%, Avg loss: 1.014490\n",
      "\n",
      "__________ Epoch 36 __________\n",
      "Test-train Error: \n",
      " Accuracy: 0.2%, Avg loss: 0.946068\n",
      "Test-test Error: \n",
      " Accuracy: 0.3%, Avg loss: 0.924943\n",
      "Test-val Error: \n",
      " Accuracy: 0.3%, Avg loss: 1.047526\n",
      "\n",
      "__________ Epoch 37 __________\n",
      "Test-train Error: \n",
      " Accuracy: 0.3%, Avg loss: 0.985769\n",
      "Test-test Error: \n",
      " Accuracy: 0.3%, Avg loss: 0.943550\n",
      "Test-val Error: \n",
      " Accuracy: 0.1%, Avg loss: 1.061360\n",
      "\n",
      "__________ Epoch 38 __________\n",
      "Test-train Error: \n",
      " Accuracy: 0.2%, Avg loss: 0.954858\n",
      "Test-test Error: \n",
      " Accuracy: 0.3%, Avg loss: 0.842224\n",
      "Test-val Error: \n",
      " Accuracy: 0.3%, Avg loss: 0.978346\n",
      "\n",
      "__________ Epoch 39 __________\n",
      "Test-train Error: \n",
      " Accuracy: 0.2%, Avg loss: 1.462645\n",
      "Test-test Error: \n",
      " Accuracy: 0.5%, Avg loss: 1.239136\n",
      "Test-val Error: \n",
      " Accuracy: 0.4%, Avg loss: 1.631778\n",
      "\n",
      "__________ Epoch 40 __________\n",
      "Test-train Error: \n",
      " Accuracy: 0.1%, Avg loss: 1.760122\n",
      "Test-test Error: \n",
      " Accuracy: 0.1%, Avg loss: 1.765033\n",
      "Test-val Error: \n",
      " Accuracy: 0.1%, Avg loss: 1.946728\n",
      "\n",
      "__________ Epoch 41 __________\n",
      "Test-train Error: \n",
      " Accuracy: 0.2%, Avg loss: 1.103058\n",
      "Test-test Error: \n",
      " Accuracy: 0.4%, Avg loss: 1.022802\n",
      "Test-val Error: \n",
      " Accuracy: 0.4%, Avg loss: 1.051445\n",
      "\n",
      "__________ Epoch 42 __________\n",
      "Test-train Error: \n",
      " Accuracy: 0.2%, Avg loss: 1.321035\n",
      "Test-test Error: \n",
      " Accuracy: 0.6%, Avg loss: 1.105240\n",
      "Test-val Error: \n",
      " Accuracy: 0.5%, Avg loss: 1.404589\n",
      "\n",
      "__________ Epoch 43 __________\n",
      "Test-train Error: \n",
      " Accuracy: 0.2%, Avg loss: 1.193568\n",
      "Test-test Error: \n",
      " Accuracy: 0.3%, Avg loss: 0.944749\n",
      "Test-val Error: \n",
      " Accuracy: 0.0%, Avg loss: 1.177592\n",
      "\n",
      "__________ Epoch 44 __________\n",
      "Test-train Error: \n",
      " Accuracy: 0.3%, Avg loss: 1.026651\n",
      "Test-test Error: \n",
      " Accuracy: 0.2%, Avg loss: 0.944427\n",
      "Test-val Error: \n",
      " Accuracy: 0.2%, Avg loss: 1.053984\n",
      "\n",
      "__________ Epoch 45 __________\n",
      "Test-train Error: \n",
      " Accuracy: 0.2%, Avg loss: 1.167702\n",
      "Test-test Error: \n",
      " Accuracy: 0.3%, Avg loss: 1.020947\n",
      "Test-val Error: \n",
      " Accuracy: 0.4%, Avg loss: 1.270437\n",
      "\n",
      "__________ Epoch 46 __________\n",
      "Test-train Error: \n",
      " Accuracy: 0.3%, Avg loss: 1.420261\n",
      "Test-test Error: \n",
      " Accuracy: 0.1%, Avg loss: 1.273866\n",
      "Test-val Error: \n",
      " Accuracy: 0.2%, Avg loss: 1.577006\n",
      "\n",
      "__________ Epoch 47 __________\n",
      "Test-train Error: \n",
      " Accuracy: 0.2%, Avg loss: 0.909489\n",
      "Test-test Error: \n",
      " Accuracy: 0.5%, Avg loss: 0.800162\n",
      "Test-val Error: \n",
      " Accuracy: 0.1%, Avg loss: 0.893876\n",
      "\n",
      "__________ Epoch 48 __________\n",
      "Test-train Error: \n",
      " Accuracy: 0.2%, Avg loss: 1.103483\n",
      "Test-test Error: \n",
      " Accuracy: 0.4%, Avg loss: 1.065205\n",
      "Test-val Error: \n",
      " Accuracy: 0.6%, Avg loss: 1.139517\n",
      "\n",
      "__________ Epoch 49 __________\n",
      "Test-train Error: \n",
      " Accuracy: 0.2%, Avg loss: 0.943242\n",
      "Test-test Error: \n",
      " Accuracy: 0.1%, Avg loss: 0.985322\n",
      "Test-val Error: \n",
      " Accuracy: 0.1%, Avg loss: 1.040822\n",
      "\n",
      "__________ Epoch 50 __________\n",
      "Test-train Error: \n",
      " Accuracy: 0.2%, Avg loss: 0.972201\n",
      "Test-test Error: \n",
      " Accuracy: 0.3%, Avg loss: 0.815071\n",
      "Test-val Error: \n",
      " Accuracy: 0.3%, Avg loss: 0.983362\n",
      "\n",
      "__________ Epoch 51 __________\n",
      "Test-train Error: \n",
      " Accuracy: 0.3%, Avg loss: 0.953982\n",
      "Test-test Error: \n",
      " Accuracy: 0.4%, Avg loss: 0.900087\n",
      "Test-val Error: \n",
      " Accuracy: 0.2%, Avg loss: 1.006842\n",
      "\n",
      "__________ Epoch 52 __________\n",
      "Test-train Error: \n",
      " Accuracy: 0.2%, Avg loss: 0.957276\n",
      "Test-test Error: \n",
      " Accuracy: 0.0%, Avg loss: 0.800778\n",
      "Test-val Error: \n",
      " Accuracy: 0.1%, Avg loss: 0.975867\n",
      "\n",
      "__________ Epoch 53 __________\n",
      "Test-train Error: \n",
      " Accuracy: 0.4%, Avg loss: 1.158730\n",
      "Test-test Error: \n",
      " Accuracy: 0.2%, Avg loss: 1.097344\n",
      "Test-val Error: \n",
      " Accuracy: 0.1%, Avg loss: 1.218178\n",
      "\n",
      "__________ Epoch 54 __________\n",
      "Test-train Error: \n",
      " Accuracy: 0.2%, Avg loss: 0.886745\n",
      "Test-test Error: \n",
      " Accuracy: 0.3%, Avg loss: 0.761828\n",
      "Test-val Error: \n",
      " Accuracy: 0.4%, Avg loss: 0.928346\n",
      "\n",
      "__________ Epoch 55 __________\n",
      "Test-train Error: \n",
      " Accuracy: 0.2%, Avg loss: 0.922899\n",
      "Test-test Error: \n",
      " Accuracy: 0.2%, Avg loss: 0.913539\n",
      "Test-val Error: \n",
      " Accuracy: 0.3%, Avg loss: 1.069512\n",
      "\n",
      "__________ Epoch 56 __________\n",
      "Test-train Error: \n",
      " Accuracy: 0.2%, Avg loss: 0.856909\n",
      "Test-test Error: \n",
      " Accuracy: 0.2%, Avg loss: 0.746886\n",
      "Test-val Error: \n",
      " Accuracy: 0.4%, Avg loss: 0.834657\n",
      "\n",
      "__________ Epoch 57 __________\n",
      "Test-train Error: \n",
      " Accuracy: 0.2%, Avg loss: 0.897477\n",
      "Test-test Error: \n",
      " Accuracy: 0.2%, Avg loss: 0.691467\n",
      "Test-val Error: \n",
      " Accuracy: 0.1%, Avg loss: 0.883081\n",
      "\n",
      "__________ Epoch 58 __________\n",
      "Test-train Error: \n",
      " Accuracy: 0.1%, Avg loss: 0.950156\n",
      "Test-test Error: \n",
      " Accuracy: 0.2%, Avg loss: 0.972513\n",
      "Test-val Error: \n",
      " Accuracy: 0.3%, Avg loss: 1.112009\n",
      "\n",
      "__________ Epoch 59 __________\n",
      "Test-train Error: \n",
      " Accuracy: 0.2%, Avg loss: 0.872608\n",
      "Test-test Error: \n",
      " Accuracy: 0.3%, Avg loss: 0.735623\n",
      "Test-val Error: \n",
      " Accuracy: 0.4%, Avg loss: 0.879225\n",
      "\n",
      "__________ Epoch 60 __________\n",
      "Test-train Error: \n",
      " Accuracy: 0.1%, Avg loss: 0.940541\n",
      "Test-test Error: \n",
      " Accuracy: 0.2%, Avg loss: 0.999411\n",
      "Test-val Error: \n",
      " Accuracy: 0.3%, Avg loss: 1.107101\n",
      "\n",
      "__________ Epoch 61 __________\n",
      "Test-train Error: \n",
      " Accuracy: 0.1%, Avg loss: 0.965723\n",
      "Test-test Error: \n",
      " Accuracy: 0.1%, Avg loss: 0.979108\n",
      "Test-val Error: \n",
      " Accuracy: 0.3%, Avg loss: 1.063784\n",
      "\n",
      "__________ Epoch 62 __________\n",
      "Test-train Error: \n",
      " Accuracy: 0.1%, Avg loss: 0.969022\n",
      "Test-test Error: \n",
      " Accuracy: 0.2%, Avg loss: 0.970365\n",
      "Test-val Error: \n",
      " Accuracy: 0.4%, Avg loss: 1.107082\n",
      "\n",
      "__________ Epoch 63 __________\n",
      "Test-train Error: \n",
      " Accuracy: 0.1%, Avg loss: 1.025158\n",
      "Test-test Error: \n",
      " Accuracy: 0.2%, Avg loss: 1.159531\n",
      "Test-val Error: \n",
      " Accuracy: 0.3%, Avg loss: 1.240264\n",
      "\n",
      "__________ Epoch 64 __________\n",
      "Test-train Error: \n",
      " Accuracy: 0.2%, Avg loss: 1.037119\n",
      "Test-test Error: \n",
      " Accuracy: 0.4%, Avg loss: 0.938290\n",
      "Test-val Error: \n",
      " Accuracy: 0.1%, Avg loss: 1.097358\n",
      "\n",
      "__________ Epoch 65 __________\n",
      "Test-train Error: \n",
      " Accuracy: 0.4%, Avg loss: 1.012611\n",
      "Test-test Error: \n",
      " Accuracy: 0.1%, Avg loss: 0.917884\n",
      "Test-val Error: \n",
      " Accuracy: 0.3%, Avg loss: 1.139135\n",
      "\n",
      "__________ Epoch 66 __________\n",
      "Test-train Error: \n",
      " Accuracy: 0.2%, Avg loss: 0.956893\n",
      "Test-test Error: \n",
      " Accuracy: 0.2%, Avg loss: 0.935639\n",
      "Test-val Error: \n",
      " Accuracy: 0.3%, Avg loss: 1.025411\n",
      "\n",
      "__________ Epoch 67 __________\n",
      "Test-train Error: \n",
      " Accuracy: 0.2%, Avg loss: 0.945772\n",
      "Test-test Error: \n",
      " Accuracy: 0.2%, Avg loss: 0.827513\n",
      "Test-val Error: \n",
      " Accuracy: 0.4%, Avg loss: 0.976716\n",
      "\n",
      "__________ Epoch 68 __________\n",
      "Test-train Error: \n",
      " Accuracy: 0.2%, Avg loss: 0.865896\n",
      "Test-test Error: \n",
      " Accuracy: 0.2%, Avg loss: 0.751377\n",
      "Test-val Error: \n",
      " Accuracy: 0.2%, Avg loss: 0.942265\n",
      "\n",
      "__________ Epoch 69 __________\n",
      "Test-train Error: \n",
      " Accuracy: 0.2%, Avg loss: 0.909816\n",
      "Test-test Error: \n",
      " Accuracy: 0.2%, Avg loss: 0.823384\n",
      "Test-val Error: \n",
      " Accuracy: 0.4%, Avg loss: 0.969264\n",
      "\n",
      "__________ Epoch 70 __________\n",
      "Test-train Error: \n",
      " Accuracy: 0.2%, Avg loss: 0.973919\n",
      "Test-test Error: \n",
      " Accuracy: 0.2%, Avg loss: 0.919637\n",
      "Test-val Error: \n",
      " Accuracy: 0.1%, Avg loss: 0.984822\n",
      "\n"
     ]
    }
   ],
   "source": [
    "efnet2 = EfficientNet2(pretrained=False).to(DEVICE)\n",
    "optimizer = torch.optim.AdamW(efnet2.parameters(), lr=learning_rate)\n",
    "history = train_model(efnet2, train_triplet_dataloader, test_triplet_dataloader, val_triplet_dataloader, triplet_loss, optimizer, epochs)"
   ]
  },
  {
   "cell_type": "code",
   "execution_count": 20,
   "id": "6a1a00df",
   "metadata": {
    "execution": {
     "iopub.execute_input": "2025-02-03T23:10:24.695996Z",
     "iopub.status.busy": "2025-02-03T23:10:24.695724Z",
     "iopub.status.idle": "2025-02-03T23:10:25.096945Z",
     "shell.execute_reply": "2025-02-03T23:10:25.095945Z"
    },
    "papermill": {
     "duration": 0.41983,
     "end_time": "2025-02-03T23:10:25.098639",
     "exception": false,
     "start_time": "2025-02-03T23:10:24.678809",
     "status": "completed"
    },
    "tags": []
   },
   "outputs": [
    {
     "data": {
      "image/png": "[encoded data removed]",
      "text/plain": [
       "<Figure size 640x480 with 1 Axes>"
      ]
     },
     "metadata": {},
     "output_type": "display_data"
    },
    {
     "data": {
      "image/png": "[encoded data removed]",
      "text/plain": [
       "<Figure size 640x480 with 1 Axes>"
      ]
     },
     "metadata": {},
     "output_type": "display_data"
    }
   ],
   "source": [
    "plt.title('Accuracies')\n",
    "\n",
    "plt.plot(range(epochs), history['accs']['train'], label='train', linestyle='dotted', color='b')\n",
    "plt.plot(range(epochs), history['accs']['test'], label='test', linestyle='dashed', color='b')\n",
    "plt.plot(range(epochs), history['accs']['val'], label='val', linestyle='solid', color='b')\n",
    "\n",
    "plt.grid()\n",
    "plt.legend()\n",
    "plt.show()\n",
    "\n",
    "plt.title('Losses')\n",
    "\n",
    "plt.plot(range(epochs), history['losses']['train'], label='train', linestyle='dotted', color='b')\n",
    "plt.plot(range(epochs), history['losses']['test'], label='test', linestyle='dashed', color='b')\n",
    "plt.plot(range(epochs), history['losses']['val'], label='val', linestyle='solid', color='b')\n",
    "\n",
    "plt.grid()\n",
    "plt.legend()\n",
    "plt.show()"
   ]
  },
  {
   "cell_type": "code",
   "execution_count": 21,
   "id": "fcfa356d",
   "metadata": {
    "execution": {
     "iopub.execute_input": "2025-02-03T23:10:25.136859Z",
     "iopub.status.busy": "2025-02-03T23:10:25.136614Z",
     "iopub.status.idle": "2025-02-03T23:10:25.224931Z",
     "shell.execute_reply": "2025-02-03T23:10:25.224264Z"
    },
    "papermill": {
     "duration": 0.108717,
     "end_time": "2025-02-03T23:10:25.226483",
     "exception": false,
     "start_time": "2025-02-03T23:10:25.117766",
     "status": "completed"
    },
    "tags": []
   },
   "outputs": [],
   "source": [
    "torch.save(efnet2.state_dict(), f\"./triplet_trained_efnet2.pt\")"
   ]
  },
  {
   "cell_type": "code",
   "execution_count": null,
   "id": "86ed4c32",
   "metadata": {
    "papermill": {
     "duration": 0.018054,
     "end_time": "2025-02-03T23:10:25.263928",
     "exception": false,
     "start_time": "2025-02-03T23:10:25.245874",
     "status": "completed"
    },
    "tags": []
   },
   "outputs": [],
   "source": []
  }
 ],
 "metadata": {
  "kaggle": {
   "accelerator": "gpu",
   "dataSources": [],
   "dockerImageVersionId": 30840,
   "isGpuEnabled": true,
   "isInternetEnabled": true,
   "language": "python",
   "sourceType": "notebook"
  },
  "kernelspec": {
   "display_name": "Python 3",
   "language": "python",
   "name": "python3"
  },
  "language_info": {
   "codemirror_mode": {
    "name": "ipython",
    "version": 3
   },
   "file_extension": ".py",
   "mimetype": "text/x-python",
   "name": "python",
   "nbconvert_exporter": "python",
   "pygments_lexer": "ipython3",
   "version": "3.10.12"
  },
  "papermill": {
   "default_parameters": {},
   "duration": 16054.585015,
   "end_time": "2025-02-03T23:10:27.631905",
   "environment_variables": {},
   "exception": null,
   "input_path": "__notebook__.ipynb",
   "output_path": "__notebook__.ipynb",
   "parameters": {},
   "start_time": "2025-02-03T18:42:53.046890",
   "version": "2.6.0"
  }
 },
 "nbformat": 4,
 "nbformat_minor": 5
}
