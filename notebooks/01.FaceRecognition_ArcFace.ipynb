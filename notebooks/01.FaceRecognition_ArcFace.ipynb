{
 "cells": [
  {
   "cell_type": "markdown",
   "id": "9912f442",
   "metadata": {
    "papermill": {
     "duration": 0.004814,
     "end_time": "2025-01-19T00:13:42.597630",
     "exception": false,
     "start_time": "2025-01-19T00:13:42.592816",
     "status": "completed"
    },
    "tags": []
   },
   "source": [
    "# Notebook with Face recognition (ArcFace)\n",
    "© Реализовать ArcFace loss, обучить сеть с нуля на нем. Добиться accuracy на тестовой части >0.7."
   ]
  },
  {
   "cell_type": "markdown",
   "id": "a5b8e38d",
   "metadata": {},
   "source": [
    "## A few notes:\n",
    "\n",
    "1. Initially, I spent a significant amount of time trying to train the network using the default parameters (s=64, m=0.5), but the loss did not decrease, and the metric did not improve. I even double-checked the implementation of the loss function multiple times. One artifact that remains from these experiments is the reduction in the number of neurons in the last layer of the feature extractor (from 1408 to 1024). As a result, the training is performed on a slightly modified version of EffNet-B2 rather than the full architecture. However, this modification might actually be beneficial. For the same reason, the data augmentation process is not as \"aggressive\" as in the baseline solution.\n",
    "\n",
    "2. Around 10 runs (approximately 24 hours in total) were conducted in an attempt to find suitable parameters for the loss function. I won’t attach all the notebooks since they are nearly identical except for a few lines, but I am including graphs that provide some context and help justify the choice of parameters for this task (s=36, m=0.1).\n",
    "\n",
    "3. Although ArcFake loss is a SOTA solution for face recognition tasks, the accuracy achieved in this case (~75%) is slightly lower than the baseline solution (~78%). I don’t see this as a significant issue because, as mentioned earlier, the last layer of the feature extractor was trimmed, and the accuracy metric is not the primary focus for the task of **constructing face embeddings**, where ArcFake loss is highly interpretable."
   ]
  },
  {
   "cell_type": "code",
   "execution_count": 1,
   "id": "c73a3755",
   "metadata": {
    "execution": {
     "iopub.execute_input": "2025-01-19T00:13:42.606831Z",
     "iopub.status.busy": "2025-01-19T00:13:42.606545Z",
     "iopub.status.idle": "2025-01-19T00:13:47.762190Z",
     "shell.execute_reply": "2025-01-19T00:13:47.761176Z"
    },
    "papermill": {
     "duration": 5.161978,
     "end_time": "2025-01-19T00:13:47.763849",
     "exception": false,
     "start_time": "2025-01-19T00:13:42.601871",
     "status": "completed"
    },
    "tags": []
   },
   "outputs": [
    {
     "name": "stdout",
     "output_type": "stream",
     "text": [
      "Using device: cuda\n"
     ]
    }
   ],
   "source": [
    "import random\n",
    "import os\n",
    "from copy import deepcopy\n",
    "\n",
    "import matplotlib.pyplot as plt\n",
    "import numpy as np\n",
    "import pandas as pd\n",
    "import torch\n",
    "import torch.nn as nn\n",
    "\n",
    "from torch.nn.functional import normalize, one_hot\n",
    "from torch.utils.data import DataLoader, Dataset\n",
    "from torchvision import models, transforms\n",
    "from torchvision.io import read_image\n",
    "\n",
    "WORKING_DIR = '/kaggle/working'\n",
    "DEVICE = torch.device('cuda' if torch.cuda.is_available() else 'cpu')\n",
    "print('Using device:', DEVICE)"
   ]
  },
  {
   "cell_type": "code",
   "execution_count": 2,
   "id": "b7880c34",
   "metadata": {
    "execution": {
     "iopub.execute_input": "2025-01-19T00:13:47.780707Z",
     "iopub.status.busy": "2025-01-19T00:13:47.780181Z",
     "iopub.status.idle": "2025-01-19T00:13:47.793595Z",
     "shell.execute_reply": "2025-01-19T00:13:47.792984Z"
    },
    "papermill": {
     "duration": 0.024162,
     "end_time": "2025-01-19T00:13:47.794662",
     "exception": false,
     "start_time": "2025-01-19T00:13:47.770500",
     "status": "completed"
    },
    "tags": []
   },
   "outputs": [],
   "source": [
    "def set_seed(seed):\n",
    "    random.seed(seed)                      # Фиксация сидов для встроенного модуля random\n",
    "    np.random.seed(seed)                   # Фиксация сидов для NumPy\n",
    "    torch.manual_seed(seed)                # Фиксация сидов для PyTorch\n",
    "    torch.cuda.manual_seed(seed)           # Фиксация сидов для CUDA\n",
    "    torch.cuda.manual_seed_all(seed)       # Фиксация сидов для всех устройств CUDA\n",
    "    torch.backends.cudnn.deterministic = True  # Обеспечивает детерминированное поведение CUDNN\n",
    "    torch.backends.cudnn.benchmark = False     # Отключает эвристики CUDNN для детерминированности\n",
    "\n",
    "set_seed(42)"
   ]
  },
  {
   "cell_type": "markdown",
   "id": "c64ffd98",
   "metadata": {
    "papermill": {
     "duration": 0.007936,
     "end_time": "2025-01-19T00:13:47.806828",
     "exception": false,
     "start_time": "2025-01-19T00:13:47.798892",
     "status": "completed"
    },
    "tags": []
   },
   "source": [
    "## Download data from gdrive"
   ]
  },
  {
   "cell_type": "code",
   "execution_count": 3,
   "id": "0c2227e0",
   "metadata": {
    "execution": {
     "iopub.execute_input": "2025-01-19T00:13:47.822964Z",
     "iopub.status.busy": "2025-01-19T00:13:47.822740Z",
     "iopub.status.idle": "2025-01-19T00:14:02.507056Z",
     "shell.execute_reply": "2025-01-19T00:14:02.506073Z"
    },
    "papermill": {
     "duration": 14.694279,
     "end_time": "2025-01-19T00:14:02.508494",
     "exception": false,
     "start_time": "2025-01-19T00:13:47.814215",
     "status": "completed"
    },
    "tags": []
   },
   "outputs": [
    {
     "name": "stdout",
     "output_type": "stream",
     "text": [
      "Downloading...\r\n",
      "From (original): https://drive.google.com/uc?id=1Anlz7R3KtyOwJB5ouVtELt1kU2QKNw1f\r\n",
      "From (redirected): https://drive.google.com/uc?id=1Anlz7R3KtyOwJB5ouVtELt1kU2QKNw1f&confirm=t&uuid=c057a10f-4605-42cc-afd9-41715a334fa6\r\n",
      "To: /kaggle/working/celebA_imgs.rar\r\n",
      "100%|████████████████████████████████████████| 168M/168M [00:01<00:00, 92.0MB/s]\r\n",
      "Downloading...\r\n",
      "From: https://drive.google.com/uc?id=1tOKP0hmpaj7aMwOp6igZPuk2lBNxlwWK\r\n",
      "To: /kaggle/working/celebA_train_split.txt\r\n",
      "100%|████████████████████████████████████████| 156k/156k [00:00<00:00, 59.2MB/s]\r\n",
      "Downloading...\r\n",
      "From: https://drive.google.com/uc?id=1V3m3anz8gghYOLCYtlpQ1A6Qs1LKcBUB\r\n",
      "To: /kaggle/working/celebA_anno.txt\r\n",
      "100%|████████████████████████████████████████| 177k/177k [00:00<00:00, 96.2MB/s]\r\n"
     ]
    }
   ],
   "source": [
    "# celebA_imgs.rar - An archive (a folder) with pictures\n",
    "!gdown 1Anlz7R3KtyOwJB5ouVtELt1kU2QKNw1f\n",
    "# celebA_train_split.txt - File with train/val/test split info \n",
    "!gdown 1tOKP0hmpaj7aMwOp6igZPuk2lBNxlwWK\n",
    "# celebA_anno.txt - File with annotation - each picture from celebA_imgs is assigned its id\n",
    "!gdown 1V3m3anz8gghYOLCYtlpQ1A6Qs1LKcBUB"
   ]
  },
  {
   "cell_type": "code",
   "execution_count": 4,
   "id": "026fa329",
   "metadata": {
    "execution": {
     "iopub.execute_input": "2025-01-19T00:14:02.519702Z",
     "iopub.status.busy": "2025-01-19T00:14:02.519428Z",
     "iopub.status.idle": "2025-01-19T00:14:10.652759Z",
     "shell.execute_reply": "2025-01-19T00:14:10.651920Z"
    },
    "papermill": {
     "duration": 8.14033,
     "end_time": "2025-01-19T00:14:10.654172",
     "exception": false,
     "start_time": "2025-01-19T00:14:02.513842",
     "status": "completed"
    },
    "tags": []
   },
   "outputs": [
    {
     "name": "stdout",
     "output_type": "stream",
     "text": [
      "Collecting patool\r\n",
      "  Downloading patool-3.1.0-py2.py3-none-any.whl.metadata (4.3 kB)\r\n",
      "Downloading patool-3.1.0-py2.py3-none-any.whl (98 kB)\r\n",
      "\u001b[2K   \u001b[90m━━━━━━━━━━━━━━━━━━━━━━━━━━━━━━━━━━━━━━━━\u001b[0m \u001b[32m98.4/98.4 kB\u001b[0m \u001b[31m4.1 MB/s\u001b[0m eta \u001b[36m0:00:00\u001b[0m\r\n",
      "\u001b[?25hInstalling collected packages: patool\r\n",
      "Successfully installed patool-3.1.0\r\n"
     ]
    },
    {
     "name": "stderr",
     "output_type": "stream",
     "text": [
      "INFO patool: Extracting /kaggle/working/celebA_imgs.rar ...\n",
      "INFO patool: ... creating output directory `celebA_imgs'.\n",
      "INFO patool: running /usr/bin/unrar x -kb -or -- /kaggle/working/celebA_imgs.rar\n",
      "INFO patool: ... /kaggle/working/celebA_imgs.rar extracted to `celebA_imgs'.\n"
     ]
    },
    {
     "data": {
      "text/plain": [
       "'celebA_imgs'"
      ]
     },
     "execution_count": 4,
     "metadata": {},
     "output_type": "execute_result"
    }
   ],
   "source": [
    "# Package for unarchive\n",
    "!pip install patool\n",
    "import patoolib\n",
    "patoolib.extract_archive(f\"{WORKING_DIR}/celebA_imgs.rar\", outdir=\"celebA_imgs\")"
   ]
  },
  {
   "cell_type": "markdown",
   "id": "a58826d4",
   "metadata": {
    "papermill": {
     "duration": 0.005142,
     "end_time": "2025-01-19T00:14:10.664928",
     "exception": false,
     "start_time": "2025-01-19T00:14:10.659786",
     "status": "completed"
    },
    "tags": []
   },
   "source": [
    "## Parse input data"
   ]
  },
  {
   "cell_type": "code",
   "execution_count": 5,
   "id": "c6e736d9",
   "metadata": {
    "execution": {
     "iopub.execute_input": "2025-01-19T00:14:10.676230Z",
     "iopub.status.busy": "2025-01-19T00:14:10.675993Z",
     "iopub.status.idle": "2025-01-19T00:14:10.719804Z",
     "shell.execute_reply": "2025-01-19T00:14:10.719004Z"
    },
    "papermill": {
     "duration": 0.050934,
     "end_time": "2025-01-19T00:14:10.721079",
     "exception": false,
     "start_time": "2025-01-19T00:14:10.670145",
     "status": "completed"
    },
    "tags": []
   },
   "outputs": [
    {
     "data": {
      "text/plain": [
       "type\n",
       "train    8544\n",
       "test     1878\n",
       "val      1589\n",
       "Name: count, dtype: int64"
      ]
     },
     "execution_count": 5,
     "metadata": {},
     "output_type": "execute_result"
    }
   ],
   "source": [
    "celeba_anno = pd.read_csv(f\"{WORKING_DIR}/celebA_anno.txt\", sep=\" \", names=['path', 'id'])\n",
    "celeba_train_split = pd.read_csv(f\"{WORKING_DIR}/celebA_train_split.txt\", sep=\" \", names=['path', 'type'])\n",
    "\n",
    "mapping = {0: 'train', 1: 'test', 2: 'val'}\n",
    "celeba_train_split.replace({'type': mapping}, inplace=True)\n",
    "\n",
    "celeba_train_split['type'].value_counts()"
   ]
  },
  {
   "cell_type": "code",
   "execution_count": 6,
   "id": "7dbe4b61",
   "metadata": {
    "execution": {
     "iopub.execute_input": "2025-01-19T00:14:10.732695Z",
     "iopub.status.busy": "2025-01-19T00:14:10.732444Z",
     "iopub.status.idle": "2025-01-19T00:14:10.740595Z",
     "shell.execute_reply": "2025-01-19T00:14:10.739991Z"
    },
    "papermill": {
     "duration": 0.015326,
     "end_time": "2025-01-19T00:14:10.741807",
     "exception": false,
     "start_time": "2025-01-19T00:14:10.726481",
     "status": "completed"
    },
    "tags": []
   },
   "outputs": [],
   "source": [
    "def add_pathes(l, fill_to):\n",
    "    total_len = len(l)\n",
    "    if total_len < fill_to:\n",
    "        l *= 1 + fill_to//total_len\n",
    "        l = l[:fill_to]\n",
    "    return l\n",
    "\n",
    "def crop_image(image):\n",
    "    \"\"\"Custom advised crop\"\"\"\n",
    "    image = image[:, 77:-41, 45:-50]\n",
    "    return image\n",
    "\n",
    "class CelebaImageDataset(Dataset):\n",
    "    def __init__(\n",
    "        self,\n",
    "        annotations_file,\n",
    "        img_dir,\n",
    "        train_test_split_file=None,\n",
    "        transform=None,\n",
    "        target_transform=None\n",
    "    ):\n",
    "        self.img_labels = annotations_file\n",
    "        self.img_dir = img_dir\n",
    "        self.train_test_labels = train_test_split_file\n",
    "        self.transform = transform\n",
    "        self.target_transform = target_transform\n",
    "\n",
    "    def __len__(self):\n",
    "        return len(self.img_labels)\n",
    "\n",
    "    def __getitem__(self, idx):\n",
    "        img_path = os.path.join(self.img_dir, self.img_labels.iloc[idx, 0])\n",
    "        image = read_image(img_path).to(DEVICE)\n",
    "        label = torch.tensor(self.img_labels.iloc[idx, 1]).to(DEVICE)\n",
    "        if self.transform:\n",
    "            image = self.transform(image)\n",
    "        if self.target_transform:\n",
    "            label = self.target_transform(label)\n",
    "        return image, label\n",
    "\n",
    "    def get_sample_dataset(self, type_dataset):\n",
    "        img_labels = self.img_labels\n",
    "        train_test_labels = self.train_test_labels\n",
    "        \n",
    "        sample = img_labels.merge(train_test_labels, on='path', how='inner')\n",
    "        sample = sample[sample['type'] == type_dataset]\n",
    "\n",
    "        sample_dataset = CelebaImageDataset(\n",
    "            annotations_file=sample,\n",
    "            img_dir=self.img_dir,\n",
    "            train_test_split_file=self.train_test_labels,\n",
    "            transform=self.transform,\n",
    "        )\n",
    "        return sample_dataset\n",
    "\n",
    "    def fill_train_data(self, fill_to):\n",
    "        \"\"\"\n",
    "        Fill the (only train!) data in the dataset so that there are at least `fill_to` representatives of each class\n",
    "        \"\"\"\n",
    "        grouped_img_labels = (\n",
    "            self.img_labels\n",
    "            .groupby('id')\n",
    "            .agg(path=pd.NamedAgg(column=\"path\", aggfunc=lambda x: x.tolist()))\n",
    "            .reset_index()\n",
    "        )\n",
    "        grouped_img_labels['path'] = grouped_img_labels['path'].apply(lambda x: add_pathes(x, fill_to))\n",
    "        exploded_grouped_img_labels = grouped_img_labels.explode('path', ignore_index=True)\n",
    "        exploded_grouped_img_labels = exploded_grouped_img_labels.merge(self.train_test_labels, on='path', how='inner')\n",
    "        self.img_labels = exploded_grouped_img_labels[['path', 'id', 'type']]"
   ]
  },
  {
   "cell_type": "code",
   "execution_count": 7,
   "id": "f4fc3842",
   "metadata": {
    "execution": {
     "iopub.execute_input": "2025-01-19T00:14:10.753139Z",
     "iopub.status.busy": "2025-01-19T00:14:10.752938Z",
     "iopub.status.idle": "2025-01-19T00:14:10.816765Z",
     "shell.execute_reply": "2025-01-19T00:14:10.816137Z"
    },
    "papermill": {
     "duration": 0.070819,
     "end_time": "2025-01-19T00:14:10.817934",
     "exception": false,
     "start_time": "2025-01-19T00:14:10.747115",
     "status": "completed"
    },
    "tags": []
   },
   "outputs": [],
   "source": [
    "celeba_image_dataset = CelebaImageDataset(\n",
    "    annotations_file=celeba_anno,\n",
    "    img_dir=f\"{WORKING_DIR}/celebA_imgs/celebA_imgs\",\n",
    "    train_test_split_file=celeba_train_split,\n",
    "    transform=crop_image, \n",
    ")\n",
    "\n",
    "train_image_dataset = celeba_image_dataset.get_sample_dataset(type_dataset='train')\n",
    "test_image_dataset = celeba_image_dataset.get_sample_dataset(type_dataset='test')\n",
    "val_image_dataset = celeba_image_dataset.get_sample_dataset(type_dataset='val')\n",
    "\n",
    "# Fill train data up to 50 observations on each class (8544 -> 25000)\n",
    "train_image_dataset_filled = deepcopy(train_image_dataset)\n",
    "train_image_dataset_filled.fill_train_data(fill_to=50)\n",
    "\n",
    "BATCH_SIZE = 64\n",
    "\n",
    "train_dataloader = DataLoader(train_image_dataset, batch_size=BATCH_SIZE, shuffle=True)\n",
    "train_dataloader_filled = DataLoader(train_image_dataset_filled, batch_size=BATCH_SIZE, shuffle=True)\n",
    "test_dataloader = DataLoader(test_image_dataset, batch_size=BATCH_SIZE, shuffle=True)\n",
    "val_dataloader = DataLoader(val_image_dataset, batch_size=BATCH_SIZE, shuffle=False)"
   ]
  },
  {
   "cell_type": "code",
   "execution_count": 8,
   "id": "67f314b5",
   "metadata": {
    "execution": {
     "iopub.execute_input": "2025-01-19T00:14:10.829243Z",
     "iopub.status.busy": "2025-01-19T00:14:10.828996Z",
     "iopub.status.idle": "2025-01-19T00:14:10.832868Z",
     "shell.execute_reply": "2025-01-19T00:14:10.832082Z"
    },
    "papermill": {
     "duration": 0.010765,
     "end_time": "2025-01-19T00:14:10.834020",
     "exception": false,
     "start_time": "2025-01-19T00:14:10.823255",
     "status": "completed"
    },
    "tags": []
   },
   "outputs": [],
   "source": [
    "def render_tensor(img, device):\n",
    "    if str(device) == 'cuda':\n",
    "        plt.imshow(torch.permute(img, (1, 2, 0)).cpu())\n",
    "    else:\n",
    "        plt.imshow(torch.permute(img, (1, 2, 0)))\n",
    "    plt.axis('off')\n",
    "    plt.show()\n",
    "    return"
   ]
  },
  {
   "cell_type": "code",
   "execution_count": 9,
   "id": "86e0a4ee",
   "metadata": {
    "execution": {
     "iopub.execute_input": "2025-01-19T00:14:10.845452Z",
     "iopub.status.busy": "2025-01-19T00:14:10.845237Z",
     "iopub.status.idle": "2025-01-19T00:14:11.231931Z",
     "shell.execute_reply": "2025-01-19T00:14:11.230610Z"
    },
    "papermill": {
     "duration": 0.395214,
     "end_time": "2025-01-19T00:14:11.234490",
     "exception": false,
     "start_time": "2025-01-19T00:14:10.839276",
     "status": "completed"
    },
    "tags": []
   },
   "outputs": [
    {
     "name": "stdout",
     "output_type": "stream",
     "text": [
      "Feature batch shape: torch.Size([64, 3, 100, 83])\n",
      "Labels batch shape: torch.Size([64])\n",
      "Label: 7\n"
     ]
    },
    {
     "data": {
      "image/png": "[encoded data removed]",
      "text/plain": [
       "<Figure size 640x480 with 1 Axes>"
      ]
     },
     "metadata": {},
     "output_type": "display_data"
    }
   ],
   "source": [
    "# Watching an image which fed into model\n",
    "train_features, train_labels = next(iter(train_dataloader))\n",
    "print(f\"Feature batch shape: {train_features.size()}\")\n",
    "print(f\"Labels batch shape: {train_labels.size()}\")\n",
    "img = train_features[0]\n",
    "label = train_labels[0]\n",
    "print(f\"Label: {label}\")\n",
    "render_tensor(img, DEVICE)"
   ]
  },
  {
   "cell_type": "markdown",
   "id": "8d8dbc08",
   "metadata": {
    "papermill": {
     "duration": 0.01686,
     "end_time": "2025-01-19T00:14:11.268621",
     "exception": false,
     "start_time": "2025-01-19T00:14:11.251761",
     "status": "completed"
    },
    "tags": []
   },
   "source": [
    "---"
   ]
  },
  {
   "cell_type": "markdown",
   "id": "34575b8f",
   "metadata": {
    "papermill": {
     "duration": 0.016728,
     "end_time": "2025-01-19T00:14:11.302743",
     "exception": false,
     "start_time": "2025-01-19T00:14:11.286015",
     "status": "completed"
    },
    "tags": []
   },
   "source": [
    "## ArcFaceLoss realization"
   ]
  },
  {
   "cell_type": "code",
   "execution_count": 10,
   "id": "52631012",
   "metadata": {
    "execution": {
     "iopub.execute_input": "2025-01-19T00:14:11.326512Z",
     "iopub.status.busy": "2025-01-19T00:14:11.326284Z",
     "iopub.status.idle": "2025-01-19T00:14:11.331757Z",
     "shell.execute_reply": "2025-01-19T00:14:11.331131Z"
    },
    "papermill": {
     "duration": 0.013399,
     "end_time": "2025-01-19T00:14:11.332989",
     "exception": false,
     "start_time": "2025-01-19T00:14:11.319590",
     "status": "completed"
    },
    "tags": []
   },
   "outputs": [],
   "source": [
    "class ArcFaceLoss(nn.Module):\n",
    "    def __init__(self, s=64, m=0.5):\n",
    "        super(ArcFaceLoss, self).__init__()\n",
    "        self.margin = m\n",
    "        self.scale = s\n",
    "    \n",
    "    def forward(self, weights, embeddings, targets):\n",
    "        normalized_weights = normalize(weights).squeeze().type(torch.float64) # [classes x embedding_size]\n",
    "        normalized_embeddings = normalize(embeddings).squeeze().type(torch.float64) # [batches x embedding_size]\n",
    "        \n",
    "        cosine_similarity = normalized_embeddings @ normalized_weights.T # [batches x classes]\n",
    "        angle = torch.acos(cosine_similarity) # [batches x classes]\n",
    "        # Осталось для каждого батча (= картинки, то есть для каждой строки) добавить margin в класс\n",
    "        # (то есть в столбец), которому соответствует картинка (строка)\n",
    "        one_hot_labels = one_hot(targets, num_classes=normalized_weights.size(0)) # [batches x classes]\n",
    "\n",
    "        # Добавим margin и scale\n",
    "        angle_margin = angle + self.margin * one_hot_labels  # [batches x classes]\n",
    "        coses = torch.cos(angle_margin) # [batches x classes]\n",
    "        scaled_coses = self.scale * coses # [batches x classes]\n",
    "        \n",
    "        numerator = torch.exp(scaled_coses) * one_hot_labels # [batches x classes]\n",
    "        numerator_s = numerator.sum(dim=1) # [batches]\n",
    "        \n",
    "        denominator = torch.exp(scaled_coses) # [batches x classes]\n",
    "        denominator_s = denominator.sum(dim=1) # [batches]\n",
    "\n",
    "        loss = numerator_s / (denominator_s + 1e-16)\n",
    "        loss_s = -torch.log(loss + 1e-16).mean()\n",
    "            \n",
    "        return loss_s"
   ]
  },
  {
   "cell_type": "markdown",
   "id": "58d08823",
   "metadata": {
    "papermill": {
     "duration": 0.005713,
     "end_time": "2025-01-19T00:14:11.344664",
     "exception": false,
     "start_time": "2025-01-19T00:14:11.338951",
     "status": "completed"
    },
    "tags": []
   },
   "source": [
    "## Load model"
   ]
  },
  {
   "cell_type": "code",
   "execution_count": 11,
   "id": "941377dd",
   "metadata": {
    "execution": {
     "iopub.execute_input": "2025-01-19T00:14:11.357679Z",
     "iopub.status.busy": "2025-01-19T00:14:11.357418Z",
     "iopub.status.idle": "2025-01-19T00:14:11.362409Z",
     "shell.execute_reply": "2025-01-19T00:14:11.361862Z"
    },
    "papermill": {
     "duration": 0.012524,
     "end_time": "2025-01-19T00:14:11.363533",
     "exception": false,
     "start_time": "2025-01-19T00:14:11.351009",
     "status": "completed"
    },
    "tags": []
   },
   "outputs": [],
   "source": [
    "class EfficientNet2(nn.Module):\n",
    "    def __init__(self, pretrained=False, num_classes=500):\n",
    "        super(EfficientNet2, self).__init__()\n",
    "        self.model = models.efficientnet_b2(weights=pretrained)\n",
    "\n",
    "        embedding_size = 1024\n",
    "        \n",
    "        # Change embedding size\n",
    "        self.model.features[8] = nn.Sequential(\n",
    "            # 352 = self.model.features[8].Conv2d.in_features but not sure\n",
    "            nn.Conv2d(352, embedding_size, kernel_size=(1, 1), stride=(1, 1), bias=False),\n",
    "            nn.BatchNorm2d(embedding_size, eps=1e-05, momentum=0.1, affine=True, track_running_stats=True),\n",
    "            nn.SiLU(inplace=True)\n",
    "        )\n",
    "        \n",
    "        # Change out_features of last FC-layer\n",
    "        self.model.classifier[1] = nn.Linear(embedding_size, num_classes, bias=False)\n",
    "    \n",
    "    def forward(self, x):\n",
    "        embeddings = self.model.avgpool(self.model.features(x))\n",
    "        embeddings = embeddings.squeeze()\n",
    "        output = self.model.classifier(embeddings)\n",
    "        last_layer_weight = self.model.classifier[1].weight\n",
    "\n",
    "        return output, embeddings, last_layer_weight"
   ]
  },
  {
   "cell_type": "code",
   "execution_count": 12,
   "id": "83fade3f",
   "metadata": {
    "execution": {
     "iopub.execute_input": "2025-01-19T00:14:11.376240Z",
     "iopub.status.busy": "2025-01-19T00:14:11.376036Z",
     "iopub.status.idle": "2025-01-19T00:14:11.381300Z",
     "shell.execute_reply": "2025-01-19T00:14:11.380533Z"
    },
    "papermill": {
     "duration": 0.012931,
     "end_time": "2025-01-19T00:14:11.382611",
     "exception": false,
     "start_time": "2025-01-19T00:14:11.369680",
     "status": "completed"
    },
    "tags": []
   },
   "outputs": [
    {
     "data": {
      "text/plain": [
       "8544"
      ]
     },
     "metadata": {},
     "output_type": "display_data"
    },
    {
     "data": {
      "text/plain": [
       "25000"
      ]
     },
     "metadata": {},
     "output_type": "display_data"
    }
   ],
   "source": [
    "display(len(train_dataloader.dataset))\n",
    "display(len(train_dataloader_filled.dataset))"
   ]
  },
  {
   "cell_type": "markdown",
   "id": "0ce9f060",
   "metadata": {
    "papermill": {
     "duration": 0.005941,
     "end_time": "2025-01-19T00:14:11.394667",
     "exception": false,
     "start_time": "2025-01-19T00:14:11.388726",
     "status": "completed"
    },
    "tags": []
   },
   "source": [
    "## Train model"
   ]
  },
  {
   "cell_type": "code",
   "execution_count": 13,
   "id": "83d1062e",
   "metadata": {
    "execution": {
     "iopub.execute_input": "2025-01-19T00:14:11.407607Z",
     "iopub.status.busy": "2025-01-19T00:14:11.407344Z",
     "iopub.status.idle": "2025-01-19T00:14:11.415946Z",
     "shell.execute_reply": "2025-01-19T00:14:11.415180Z"
    },
    "papermill": {
     "duration": 0.016443,
     "end_time": "2025-01-19T00:14:11.417126",
     "exception": false,
     "start_time": "2025-01-19T00:14:11.400683",
     "status": "completed"
    },
    "tags": []
   },
   "outputs": [],
   "source": [
    "def custom_norm(x):\n",
    "    return x/255\n",
    "\n",
    "normalize_transformer = transforms.Compose([\n",
    "        custom_norm,\n",
    "        transforms.Normalize(mean=[0.485, 0.456, 0.406], std=[0.229, 0.224, 0.225]),\n",
    "        transforms.Resize((224, 224)),\n",
    "    ])\n",
    "\n",
    "augment_n_normalize_transformer = transforms.Compose([\n",
    "        # augmentations\n",
    "        transforms.RandomHorizontalFlip(),\n",
    "        transforms.RandomAdjustSharpness(sharpness_factor=2, p=0.35),\n",
    "        transforms.RandomAdjustSharpness(sharpness_factor=0.5, p=0.35),\n",
    "        transforms.ColorJitter(brightness=0.6, contrast=0.6, saturation=0.5, hue=0.12),\n",
    "        transforms.RandomRotation(degrees=(-6, 6)),\n",
    "        transforms.RandomAffine(degrees=0, scale=(0.9, 1.1)),\n",
    "        # normalizations\n",
    "        normalize_transformer\n",
    "    ])\n",
    "\n",
    "def train_loop(dataloader, model, loss_fn, optimizer):\n",
    "    size = len(dataloader.dataset)\n",
    "    model.train()\n",
    "    for batch, (X, y) in enumerate(dataloader):\n",
    "        X = augment_n_normalize_transformer(X)\n",
    "        pred, embeddings, weights = model(X)\n",
    "        if isinstance(loss_fn, nn.CrossEntropyLoss):\n",
    "            loss = loss_fn(embeddings @ weights.T, y)\n",
    "        elif (isinstance(loss_fn, ArcFaceLoss)):\n",
    "            loss = loss_fn(weights=weights, embeddings=embeddings, targets=y)\n",
    "        loss.backward()\n",
    "        optimizer.step()\n",
    "        optimizer.zero_grad()\n",
    "\n",
    "def test_loop(dataloader, model, loss_fn, prefix):\n",
    "    model.eval()\n",
    "    size = len(dataloader.dataset)\n",
    "    num_batches = len(dataloader)\n",
    "    test_loss, correct = 0, 0\n",
    "\n",
    "    with torch.no_grad():\n",
    "        for X, y in dataloader:\n",
    "            X = normalize_transformer(X)\n",
    "            pred, embeddings, weights = model(X)\n",
    "            if isinstance(loss_fn, nn.CrossEntropyLoss):\n",
    "                loss = loss_fn(embeddings @ weights.T, y)\n",
    "            elif (isinstance(loss_fn, ArcFaceLoss)):\n",
    "                loss = loss_fn(weights=weights, embeddings=embeddings, targets=y)\n",
    "            test_loss += loss.item()\n",
    "            correct += (pred.argmax(1) == y).type(torch.float).sum().item()\n",
    "\n",
    "    test_loss /= num_batches\n",
    "    correct /= size\n",
    "    print(f\"Test-{prefix} Error: \\n Accuracy: {(100*correct):>0.1f}%, Avg loss: {test_loss:>8f}\")\n",
    "\n",
    "    return correct, test_loss"
   ]
  },
  {
   "cell_type": "code",
   "execution_count": 14,
   "id": "b9aa022d",
   "metadata": {
    "execution": {
     "iopub.execute_input": "2025-01-19T00:14:11.430035Z",
     "iopub.status.busy": "2025-01-19T00:14:11.429812Z",
     "iopub.status.idle": "2025-01-19T00:14:11.434938Z",
     "shell.execute_reply": "2025-01-19T00:14:11.434153Z"
    },
    "papermill": {
     "duration": 0.012847,
     "end_time": "2025-01-19T00:14:11.436085",
     "exception": false,
     "start_time": "2025-01-19T00:14:11.423238",
     "status": "completed"
    },
    "scrolled": true,
    "tags": []
   },
   "outputs": [],
   "source": [
    "def train_model(model, train_dataloader, test_dataloader, val_dataloader, loss_fn, optimizer, epochs):\n",
    "    train_losses = []; test_losses = []; val_losses = [];\n",
    "    train_accs = []; test_accs = []; val_accs = [];\n",
    "\n",
    "    for t in range(epochs):\n",
    "        print(f\"__________ Epoch {t+1} __________\")\n",
    "        train_loop(train_dataloader_filled, efnet2, loss_fn, optimizer)\n",
    "        train_acc, train_loss = test_loop(train_dataloader, efnet2, loss_fn, prefix='train')\n",
    "        test_acc, test_loss = test_loop(test_dataloader, efnet2, loss_fn, prefix='test')\n",
    "        val_acc, val_loss = test_loop(val_dataloader, efnet2, loss_fn, prefix='val')\n",
    "        \n",
    "        train_losses.append(train_loss); test_losses.append(test_loss); val_losses.append(val_loss)\n",
    "        train_accs.append(train_acc); test_accs.append(test_acc); val_accs.append(val_acc)\n",
    "        print()\n",
    "\n",
    "    metrics = {\n",
    "        'losses': {\n",
    "            'train': train_losses,\n",
    "            'test': test_losses,\n",
    "            'val': val_losses},\n",
    "        'accs': {\n",
    "            'train': train_accs,\n",
    "            'test': test_accs,\n",
    "            'val': val_accs}\n",
    "    }\n",
    "    \n",
    "    return metrics\n"
   ]
  },
  {
   "cell_type": "markdown",
   "id": "04eca1a2",
   "metadata": {
    "papermill": {
     "duration": 0.005968,
     "end_time": "2025-01-19T00:14:11.448053",
     "exception": false,
     "start_time": "2025-01-19T00:14:11.442085",
     "status": "completed"
    },
    "tags": []
   },
   "source": [
    "---"
   ]
  },
  {
   "cell_type": "code",
   "execution_count": 15,
   "id": "3a50a75d",
   "metadata": {
    "execution": {
     "iopub.execute_input": "2025-01-19T00:14:11.460826Z",
     "iopub.status.busy": "2025-01-19T00:14:11.460624Z",
     "iopub.status.idle": "2025-01-19T00:14:11.463204Z",
     "shell.execute_reply": "2025-01-19T00:14:11.462649Z"
    },
    "papermill": {
     "duration": 0.010298,
     "end_time": "2025-01-19T00:14:11.464421",
     "exception": false,
     "start_time": "2025-01-19T00:14:11.454123",
     "status": "completed"
    },
    "tags": []
   },
   "outputs": [],
   "source": [
    "learning_rate = 5e-3\n",
    "epochs = 46"
   ]
  },
  {
   "cell_type": "code",
   "execution_count": 16,
   "id": "723fd65e",
   "metadata": {
    "execution": {
     "iopub.execute_input": "2025-01-19T00:14:11.477334Z",
     "iopub.status.busy": "2025-01-19T00:14:11.477125Z",
     "iopub.status.idle": "2025-01-19T02:16:12.865001Z",
     "shell.execute_reply": "2025-01-19T02:16:12.863984Z"
    },
    "papermill": {
     "duration": 7321.395968,
     "end_time": "2025-01-19T02:16:12.866574",
     "exception": false,
     "start_time": "2025-01-19T00:14:11.470606",
     "status": "completed"
    },
    "tags": []
   },
   "outputs": [
    {
     "name": "stderr",
     "output_type": "stream",
     "text": [
      "/usr/local/lib/python3.10/dist-packages/torchvision/models/_utils.py:223: UserWarning: Arguments other than a weight enum or `None` for 'weights' are deprecated since 0.13 and may be removed in the future. The current behavior is equivalent to passing `weights=None`.\n",
      "  warnings.warn(msg)\n"
     ]
    },
    {
     "name": "stdout",
     "output_type": "stream",
     "text": [
      "__________ Epoch 1 __________\n",
      "Test-train Error: \n",
      " Accuracy: 0.2%, Avg loss: 10.773219\n",
      "Test-test Error: \n",
      " Accuracy: 0.2%, Avg loss: 10.781760\n",
      "Test-val Error: \n",
      " Accuracy: 0.2%, Avg loss: 10.769551\n",
      "\n",
      "__________ Epoch 2 __________\n",
      "Test-train Error: \n",
      " Accuracy: 0.3%, Avg loss: 10.491445\n",
      "Test-test Error: \n",
      " Accuracy: 0.3%, Avg loss: 10.527203\n",
      "Test-val Error: \n",
      " Accuracy: 0.2%, Avg loss: 10.533423\n",
      "\n",
      "__________ Epoch 3 __________\n",
      "Test-train Error: \n",
      " Accuracy: 0.3%, Avg loss: 10.415389\n",
      "Test-test Error: \n",
      " Accuracy: 0.2%, Avg loss: 10.454861\n",
      "Test-val Error: \n",
      " Accuracy: 0.3%, Avg loss: 10.454787\n",
      "\n",
      "__________ Epoch 4 __________\n",
      "Test-train Error: \n",
      " Accuracy: 0.9%, Avg loss: 10.414036\n",
      "Test-test Error: \n",
      " Accuracy: 1.0%, Avg loss: 10.492519\n",
      "Test-val Error: \n",
      " Accuracy: 0.8%, Avg loss: 10.537020\n",
      "\n",
      "__________ Epoch 5 __________\n",
      "Test-train Error: \n",
      " Accuracy: 2.1%, Avg loss: 9.797352\n",
      "Test-test Error: \n",
      " Accuracy: 1.5%, Avg loss: 9.979710\n",
      "Test-val Error: \n",
      " Accuracy: 1.8%, Avg loss: 10.005418\n",
      "\n",
      "__________ Epoch 6 __________\n",
      "Test-train Error: \n",
      " Accuracy: 5.2%, Avg loss: 9.365443\n",
      "Test-test Error: \n",
      " Accuracy: 4.8%, Avg loss: 9.660516\n",
      "Test-val Error: \n",
      " Accuracy: 3.7%, Avg loss: 9.679918\n",
      "\n",
      "__________ Epoch 7 __________\n",
      "Test-train Error: \n",
      " Accuracy: 12.7%, Avg loss: 8.151925\n",
      "Test-test Error: \n",
      " Accuracy: 9.5%, Avg loss: 8.745320\n",
      "Test-val Error: \n",
      " Accuracy: 9.4%, Avg loss: 8.767604\n",
      "\n",
      "__________ Epoch 8 __________\n",
      "Test-train Error: \n",
      " Accuracy: 20.2%, Avg loss: 7.472079\n",
      "Test-test Error: \n",
      " Accuracy: 14.5%, Avg loss: 8.333801\n",
      "Test-val Error: \n",
      " Accuracy: 15.6%, Avg loss: 8.290587\n",
      "\n",
      "__________ Epoch 9 __________\n",
      "Test-train Error: \n",
      " Accuracy: 25.3%, Avg loss: 6.940392\n",
      "Test-test Error: \n",
      " Accuracy: 17.5%, Avg loss: 8.061773\n",
      "Test-val Error: \n",
      " Accuracy: 17.6%, Avg loss: 8.016021\n",
      "\n",
      "__________ Epoch 10 __________\n",
      "Test-train Error: \n",
      " Accuracy: 37.5%, Avg loss: 5.503045\n",
      "Test-test Error: \n",
      " Accuracy: 26.4%, Avg loss: 6.869938\n",
      "Test-val Error: \n",
      " Accuracy: 27.8%, Avg loss: 6.836436\n",
      "\n",
      "__________ Epoch 11 __________\n",
      "Test-train Error: \n",
      " Accuracy: 44.8%, Avg loss: 5.108207\n",
      "Test-test Error: \n",
      " Accuracy: 30.9%, Avg loss: 6.866061\n",
      "Test-val Error: \n",
      " Accuracy: 31.4%, Avg loss: 6.641231\n",
      "\n",
      "__________ Epoch 12 __________\n",
      "Test-train Error: \n",
      " Accuracy: 57.6%, Avg loss: 3.998182\n",
      "Test-test Error: \n",
      " Accuracy: 40.2%, Avg loss: 5.928315\n",
      "Test-val Error: \n",
      " Accuracy: 41.5%, Avg loss: 5.830944\n",
      "\n",
      "__________ Epoch 13 __________\n",
      "Test-train Error: \n",
      " Accuracy: 67.3%, Avg loss: 3.170507\n",
      "Test-test Error: \n",
      " Accuracy: 46.5%, Avg loss: 5.347465\n",
      "Test-val Error: \n",
      " Accuracy: 47.4%, Avg loss: 5.358482\n",
      "\n",
      "__________ Epoch 14 __________\n",
      "Test-train Error: \n",
      " Accuracy: 73.1%, Avg loss: 2.695634\n",
      "Test-test Error: \n",
      " Accuracy: 52.4%, Avg loss: 4.946390\n",
      "Test-val Error: \n",
      " Accuracy: 51.6%, Avg loss: 4.962939\n",
      "\n",
      "__________ Epoch 15 __________\n",
      "Test-train Error: \n",
      " Accuracy: 76.7%, Avg loss: 2.462906\n",
      "Test-test Error: \n",
      " Accuracy: 53.9%, Avg loss: 4.826112\n",
      "Test-val Error: \n",
      " Accuracy: 53.4%, Avg loss: 4.836430\n",
      "\n",
      "__________ Epoch 16 __________\n",
      "Test-train Error: \n",
      " Accuracy: 79.3%, Avg loss: 2.190171\n",
      "Test-test Error: \n",
      " Accuracy: 54.8%, Avg loss: 4.724131\n",
      "Test-val Error: \n",
      " Accuracy: 53.7%, Avg loss: 4.877308\n",
      "\n",
      "__________ Epoch 17 __________\n",
      "Test-train Error: \n",
      " Accuracy: 82.4%, Avg loss: 1.931298\n",
      "Test-test Error: \n",
      " Accuracy: 56.7%, Avg loss: 4.522572\n",
      "Test-val Error: \n",
      " Accuracy: 57.1%, Avg loss: 4.593146\n",
      "\n",
      "__________ Epoch 18 __________\n",
      "Test-train Error: \n",
      " Accuracy: 87.1%, Avg loss: 1.606089\n",
      "Test-test Error: \n",
      " Accuracy: 59.8%, Avg loss: 4.382455\n",
      "Test-val Error: \n",
      " Accuracy: 57.8%, Avg loss: 4.557357\n",
      "\n",
      "__________ Epoch 19 __________\n",
      "Test-train Error: \n",
      " Accuracy: 91.5%, Avg loss: 1.118683\n",
      "Test-test Error: \n",
      " Accuracy: 64.0%, Avg loss: 3.845316\n",
      "Test-val Error: \n",
      " Accuracy: 63.8%, Avg loss: 3.969461\n",
      "\n",
      "__________ Epoch 20 __________\n",
      "Test-train Error: \n",
      " Accuracy: 93.2%, Avg loss: 0.888248\n",
      "Test-test Error: \n",
      " Accuracy: 65.0%, Avg loss: 3.720513\n",
      "Test-val Error: \n",
      " Accuracy: 64.4%, Avg loss: 3.858017\n",
      "\n",
      "__________ Epoch 21 __________\n",
      "Test-train Error: \n",
      " Accuracy: 93.0%, Avg loss: 1.003875\n",
      "Test-test Error: \n",
      " Accuracy: 64.8%, Avg loss: 3.948691\n",
      "Test-val Error: \n",
      " Accuracy: 63.4%, Avg loss: 4.100553\n",
      "\n",
      "__________ Epoch 22 __________\n",
      "Test-train Error: \n",
      " Accuracy: 96.4%, Avg loss: 0.585259\n",
      "Test-test Error: \n",
      " Accuracy: 67.4%, Avg loss: 3.556892\n",
      "Test-val Error: \n",
      " Accuracy: 67.3%, Avg loss: 3.615007\n",
      "\n",
      "__________ Epoch 23 __________\n",
      "Test-train Error: \n",
      " Accuracy: 97.3%, Avg loss: 0.486893\n",
      "Test-test Error: \n",
      " Accuracy: 68.4%, Avg loss: 3.468159\n",
      "Test-val Error: \n",
      " Accuracy: 68.7%, Avg loss: 3.570851\n",
      "\n",
      "__________ Epoch 24 __________\n",
      "Test-train Error: \n",
      " Accuracy: 98.1%, Avg loss: 0.412334\n",
      "Test-test Error: \n",
      " Accuracy: 67.6%, Avg loss: 3.493530\n",
      "Test-val Error: \n",
      " Accuracy: 68.1%, Avg loss: 3.548425\n",
      "\n",
      "__________ Epoch 25 __________\n",
      "Test-train Error: \n",
      " Accuracy: 96.4%, Avg loss: 0.606320\n",
      "Test-test Error: \n",
      " Accuracy: 65.4%, Avg loss: 3.720633\n",
      "Test-val Error: \n",
      " Accuracy: 65.8%, Avg loss: 3.830982\n",
      "\n",
      "__________ Epoch 26 __________\n",
      "Test-train Error: \n",
      " Accuracy: 99.1%, Avg loss: 0.242832\n",
      "Test-test Error: \n",
      " Accuracy: 71.2%, Avg loss: 3.245628\n",
      "Test-val Error: \n",
      " Accuracy: 69.5%, Avg loss: 3.354994\n",
      "\n",
      "__________ Epoch 27 __________\n",
      "Test-train Error: \n",
      " Accuracy: 99.0%, Avg loss: 0.261793\n",
      "Test-test Error: \n",
      " Accuracy: 70.7%, Avg loss: 3.435956\n",
      "Test-val Error: \n",
      " Accuracy: 69.0%, Avg loss: 3.491348\n",
      "\n",
      "__________ Epoch 28 __________\n",
      "Test-train Error: \n",
      " Accuracy: 99.5%, Avg loss: 0.185087\n",
      "Test-test Error: \n",
      " Accuracy: 71.0%, Avg loss: 3.306262\n",
      "Test-val Error: \n",
      " Accuracy: 70.8%, Avg loss: 3.320893\n",
      "\n",
      "__________ Epoch 29 __________\n",
      "Test-train Error: \n",
      " Accuracy: 99.2%, Avg loss: 0.218991\n",
      "Test-test Error: \n",
      " Accuracy: 70.9%, Avg loss: 3.349446\n",
      "Test-val Error: \n",
      " Accuracy: 69.6%, Avg loss: 3.477085\n",
      "\n",
      "__________ Epoch 30 __________\n",
      "Test-train Error: \n",
      " Accuracy: 99.6%, Avg loss: 0.152597\n",
      "Test-test Error: \n",
      " Accuracy: 71.5%, Avg loss: 3.291288\n",
      "Test-val Error: \n",
      " Accuracy: 70.7%, Avg loss: 3.302094\n",
      "\n",
      "__________ Epoch 31 __________\n",
      "Test-train Error: \n",
      " Accuracy: 99.8%, Avg loss: 0.088914\n",
      "Test-test Error: \n",
      " Accuracy: 73.5%, Avg loss: 3.042216\n",
      "Test-val Error: \n",
      " Accuracy: 73.4%, Avg loss: 3.214692\n",
      "\n",
      "__________ Epoch 32 __________\n",
      "Test-train Error: \n",
      " Accuracy: 99.7%, Avg loss: 0.107279\n",
      "Test-test Error: \n",
      " Accuracy: 73.2%, Avg loss: 3.073704\n",
      "Test-val Error: \n",
      " Accuracy: 71.6%, Avg loss: 3.234483\n",
      "\n",
      "__________ Epoch 33 __________\n",
      "Test-train Error: \n",
      " Accuracy: 99.5%, Avg loss: 0.158431\n",
      "Test-test Error: \n",
      " Accuracy: 70.1%, Avg loss: 3.325739\n",
      "Test-val Error: \n",
      " Accuracy: 70.3%, Avg loss: 3.391968\n",
      "\n",
      "__________ Epoch 34 __________\n",
      "Test-train Error: \n",
      " Accuracy: 99.9%, Avg loss: 0.047752\n",
      "Test-test Error: \n",
      " Accuracy: 75.1%, Avg loss: 2.915848\n",
      "Test-val Error: \n",
      " Accuracy: 72.8%, Avg loss: 3.017344\n",
      "\n",
      "__________ Epoch 35 __________\n",
      "Test-train Error: \n",
      " Accuracy: 99.6%, Avg loss: 0.123272\n",
      "Test-test Error: \n",
      " Accuracy: 71.0%, Avg loss: 3.334312\n",
      "Test-val Error: \n",
      " Accuracy: 71.5%, Avg loss: 3.361233\n",
      "\n",
      "__________ Epoch 36 __________\n",
      "Test-train Error: \n",
      " Accuracy: 99.9%, Avg loss: 0.061950\n",
      "Test-test Error: \n",
      " Accuracy: 73.6%, Avg loss: 3.080901\n",
      "Test-val Error: \n",
      " Accuracy: 72.5%, Avg loss: 3.131318\n",
      "\n",
      "__________ Epoch 37 __________\n",
      "Test-train Error: \n",
      " Accuracy: 99.8%, Avg loss: 0.095914\n",
      "Test-test Error: \n",
      " Accuracy: 71.9%, Avg loss: 3.270776\n",
      "Test-val Error: \n",
      " Accuracy: 72.0%, Avg loss: 3.225907\n",
      "\n",
      "__________ Epoch 38 __________\n",
      "Test-train Error: \n",
      " Accuracy: 99.9%, Avg loss: 0.055353\n",
      "Test-test Error: \n",
      " Accuracy: 74.4%, Avg loss: 3.007049\n",
      "Test-val Error: \n",
      " Accuracy: 72.3%, Avg loss: 3.087178\n",
      "\n",
      "__________ Epoch 39 __________\n",
      "Test-train Error: \n",
      " Accuracy: 99.9%, Avg loss: 0.042697\n",
      "Test-test Error: \n",
      " Accuracy: 73.4%, Avg loss: 3.055623\n",
      "Test-val Error: \n",
      " Accuracy: 74.1%, Avg loss: 2.979537\n",
      "\n",
      "__________ Epoch 40 __________\n",
      "Test-train Error: \n",
      " Accuracy: 99.8%, Avg loss: 0.052024\n",
      "Test-test Error: \n",
      " Accuracy: 74.1%, Avg loss: 3.051984\n",
      "Test-val Error: \n",
      " Accuracy: 72.9%, Avg loss: 3.143326\n",
      "\n",
      "__________ Epoch 41 __________\n",
      "Test-train Error: \n",
      " Accuracy: 99.9%, Avg loss: 0.049700\n",
      "Test-test Error: \n",
      " Accuracy: 73.2%, Avg loss: 3.085668\n",
      "Test-val Error: \n",
      " Accuracy: 72.9%, Avg loss: 3.128572\n",
      "\n",
      "__________ Epoch 42 __________\n",
      "Test-train Error: \n",
      " Accuracy: 100.0%, Avg loss: 0.035978\n",
      "Test-test Error: \n",
      " Accuracy: 73.2%, Avg loss: 2.961386\n",
      "Test-val Error: \n",
      " Accuracy: 73.3%, Avg loss: 2.997723\n",
      "\n",
      "__________ Epoch 43 __________\n",
      "Test-train Error: \n",
      " Accuracy: 99.9%, Avg loss: 0.062519\n",
      "Test-test Error: \n",
      " Accuracy: 73.6%, Avg loss: 3.136948\n",
      "Test-val Error: \n",
      " Accuracy: 72.4%, Avg loss: 3.161802\n",
      "\n",
      "__________ Epoch 44 __________\n",
      "Test-train Error: \n",
      " Accuracy: 99.9%, Avg loss: 0.033580\n",
      "Test-test Error: \n",
      " Accuracy: 73.0%, Avg loss: 3.066734\n",
      "Test-val Error: \n",
      " Accuracy: 72.6%, Avg loss: 3.133656\n",
      "\n",
      "__________ Epoch 45 __________\n",
      "Test-train Error: \n",
      " Accuracy: 99.9%, Avg loss: 0.044585\n",
      "Test-test Error: \n",
      " Accuracy: 73.5%, Avg loss: 3.047662\n",
      "Test-val Error: \n",
      " Accuracy: 74.2%, Avg loss: 3.052639\n",
      "\n",
      "__________ Epoch 46 __________\n",
      "Test-train Error: \n",
      " Accuracy: 100.0%, Avg loss: 0.028925\n",
      "Test-test Error: \n",
      " Accuracy: 75.0%, Avg loss: 2.939656\n",
      "Test-val Error: \n",
      " Accuracy: 73.7%, Avg loss: 3.012419\n",
      "\n"
     ]
    }
   ],
   "source": [
    "efnet2 = EfficientNet2(pretrained=False).to(DEVICE)\n",
    "optimizer = torch.optim.AdamW(efnet2.parameters(), lr=learning_rate)\n",
    "history = train_model(efnet2, train_dataloader, test_dataloader, val_dataloader, ArcFaceLoss(s=36, m=0.12), optimizer, epochs)"
   ]
  },
  {
   "cell_type": "code",
   "execution_count": 17,
   "id": "2177badc",
   "metadata": {
    "execution": {
     "iopub.execute_input": "2025-01-19T02:16:12.893069Z",
     "iopub.status.busy": "2025-01-19T02:16:12.892832Z",
     "iopub.status.idle": "2025-01-19T02:16:13.381220Z",
     "shell.execute_reply": "2025-01-19T02:16:13.380384Z"
    },
    "papermill": {
     "duration": 0.503015,
     "end_time": "2025-01-19T02:16:13.382492",
     "exception": false,
     "start_time": "2025-01-19T02:16:12.879477",
     "status": "completed"
    },
    "tags": []
   },
   "outputs": [
    {
     "data": {
      "image/png": "[encoded data removed]",
      "text/plain": [
       "<Figure size 640x480 with 1 Axes>"
      ]
     },
     "metadata": {},
     "output_type": "display_data"
    },
    {
     "data": {
      "image/png": "[encoded data removed]",
      "text/plain": [
       "<Figure size 640x480 with 1 Axes>"
      ]
     },
     "metadata": {},
     "output_type": "display_data"
    }
   ],
   "source": [
    "plt.title('Accuracies')\n",
    "\n",
    "plt.plot(range(epochs), history['accs']['train'], label='train', linestyle='dotted', color='c')\n",
    "plt.plot(range(epochs), history['accs']['test'], label='test', linestyle='dashed', color='c')\n",
    "plt.plot(range(epochs), history['accs']['val'], label='val', linestyle='solid', color='c')\n",
    "\n",
    "plt.grid()\n",
    "plt.legend()\n",
    "plt.show()\n",
    "\n",
    "plt.title('Losses')\n",
    "\n",
    "plt.plot(range(epochs), history['losses']['train'], label='train', linestyle='dotted', color='c')\n",
    "plt.plot(range(epochs), history['losses']['test'], label='test', linestyle='dashed', color='c')\n",
    "plt.plot(range(epochs), history['losses']['val'], label='val', linestyle='solid', color='c')\n",
    "\n",
    "plt.grid()\n",
    "plt.legend()\n",
    "plt.show()"
   ]
  },
  {
   "cell_type": "code",
   "execution_count": 18,
   "id": "8dcbbe17",
   "metadata": {
    "execution": {
     "iopub.execute_input": "2025-01-19T02:16:13.410728Z",
     "iopub.status.busy": "2025-01-19T02:16:13.410427Z",
     "iopub.status.idle": "2025-01-19T02:16:13.490650Z",
     "shell.execute_reply": "2025-01-19T02:16:13.489938Z"
    },
    "papermill": {
     "duration": 0.095886,
     "end_time": "2025-01-19T02:16:13.492218",
     "exception": false,
     "start_time": "2025-01-19T02:16:13.396332",
     "status": "completed"
    },
    "tags": []
   },
   "outputs": [],
   "source": [
    "torch.save(efnet2.state_dict(), f\"./arcface_trained_efnet2.pt\")"
   ]
  },
  {
   "cell_type": "code",
   "execution_count": null,
   "id": "e335b9bd",
   "metadata": {
    "papermill": {
     "duration": 0.013159,
     "end_time": "2025-01-19T02:16:13.519395",
     "exception": false,
     "start_time": "2025-01-19T02:16:13.506236",
     "status": "completed"
    },
    "tags": []
   },
   "outputs": [],
   "source": []
  }
 ],
 "metadata": {
  "kaggle": {
   "accelerator": "gpu",
   "dataSources": [],
   "dockerImageVersionId": 30823,
   "isGpuEnabled": true,
   "isInternetEnabled": true,
   "language": "python",
   "sourceType": "notebook"
  },
  "kernelspec": {
   "display_name": "Python 3",
   "language": "python",
   "name": "python3"
  },
  "language_info": {
   "codemirror_mode": {
    "name": "ipython",
    "version": 3
   },
   "file_extension": ".py",
   "mimetype": "text/x-python",
   "name": "python",
   "nbconvert_exporter": "python",
   "pygments_lexer": "ipython3",
   "version": "3.10.12"
  },
  "papermill": {
   "default_parameters": {},
   "duration": 7354.603394,
   "end_time": "2025-01-19T02:16:15.061966",
   "environment_variables": {},
   "exception": null,
   "input_path": "__notebook__.ipynb",
   "output_path": "__notebook__.ipynb",
   "parameters": {},
   "start_time": "2025-01-19T00:13:40.458572",
   "version": "2.6.0"
  }
 },
 "nbformat": 4,
 "nbformat_minor": 5
}
