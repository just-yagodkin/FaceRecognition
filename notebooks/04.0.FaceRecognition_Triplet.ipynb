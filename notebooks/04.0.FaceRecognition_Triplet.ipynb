{
 "cells": [
  {
   "cell_type": "markdown",
   "id": "e361e9c9",
   "metadata": {
    "papermill": {
     "duration": 0.005525,
     "end_time": "2025-02-03T18:46:41.968925",
     "exception": false,
     "start_time": "2025-02-03T18:46:41.963400",
     "status": "completed"
    },
    "tags": []
   },
   "source": [
    "# Notebook with Face recognition (Triplet)\n",
    "© Реализовать Triplet loss, обучить сеть с нуля на нем. Добиться accuracy на тестовой части >0.7."
   ]
  },
  {
   "cell_type": "code",
   "execution_count": 1,
   "id": "276096bd",
   "metadata": {
    "execution": {
     "iopub.execute_input": "2025-02-03T18:46:41.979397Z",
     "iopub.status.busy": "2025-02-03T18:46:41.979128Z",
     "iopub.status.idle": "2025-02-03T18:46:49.770790Z",
     "shell.execute_reply": "2025-02-03T18:46:49.769707Z"
    },
    "papermill": {
     "duration": 7.798556,
     "end_time": "2025-02-03T18:46:49.772272",
     "exception": false,
     "start_time": "2025-02-03T18:46:41.973716",
     "status": "completed"
    },
    "tags": []
   },
   "outputs": [
    {
     "name": "stdout",
     "output_type": "stream",
     "text": [
      "Using device: cuda\n"
     ]
    }
   ],
   "source": [
    "import random\n",
    "import os\n",
    "from copy import deepcopy\n",
    "\n",
    "import matplotlib.pyplot as plt\n",
    "import numpy as np\n",
    "import pandas as pd\n",
    "import torch\n",
    "import torch.nn as nn\n",
    "\n",
    "from torch.nn.functional import normalize\n",
    "from torch.utils.data import DataLoader, Dataset\n",
    "from torchvision import models, transforms\n",
    "from torchvision.io import read_image\n",
    "\n",
    "WORKING_DIR = '/kaggle/working'\n",
    "DEVICE = torch.device('cuda' if torch.cuda.is_available() else 'cpu')\n",
    "print('Using device:', DEVICE)"
   ]
  },
  {
   "cell_type": "code",
   "execution_count": 2,
   "id": "08e4fe87",
   "metadata": {
    "execution": {
     "iopub.execute_input": "2025-02-03T18:46:49.783096Z",
     "iopub.status.busy": "2025-02-03T18:46:49.782710Z",
     "iopub.status.idle": "2025-02-03T18:46:49.791974Z",
     "shell.execute_reply": "2025-02-03T18:46:49.791198Z"
    },
    "papermill": {
     "duration": 0.015793,
     "end_time": "2025-02-03T18:46:49.793146",
     "exception": false,
     "start_time": "2025-02-03T18:46:49.777353",
     "status": "completed"
    },
    "tags": []
   },
   "outputs": [],
   "source": [
    "def set_seed(seed):\n",
    "    random.seed(seed)                      # Фиксация сидов для встроенного модуля random\n",
    "    np.random.seed(seed)                   # Фиксация сидов для NumPy\n",
    "    torch.manual_seed(seed)                # Фиксация сидов для PyTorch\n",
    "    torch.cuda.manual_seed(seed)           # Фиксация сидов для CUDA\n",
    "    torch.cuda.manual_seed_all(seed)       # Фиксация сидов для всех устройств CUDA\n",
    "    torch.backends.cudnn.deterministic = True  # Обеспечивает детерминированное поведение CUDNN\n",
    "    torch.backends.cudnn.benchmark = False     # Отключает эвристики CUDNN для детерминированности\n",
    "\n",
    "set_seed(42)"
   ]
  },
  {
   "cell_type": "markdown",
   "id": "5dbb93df",
   "metadata": {
    "papermill": {
     "duration": 0.004484,
     "end_time": "2025-02-03T18:46:49.802402",
     "exception": false,
     "start_time": "2025-02-03T18:46:49.797918",
     "status": "completed"
    },
    "tags": []
   },
   "source": [
    "## Download data from gdrive"
   ]
  },
  {
   "cell_type": "code",
   "execution_count": 3,
   "id": "f0daaefd",
   "metadata": {
    "execution": {
     "iopub.execute_input": "2025-02-03T18:46:49.812451Z",
     "iopub.status.busy": "2025-02-03T18:46:49.812225Z",
     "iopub.status.idle": "2025-02-03T18:47:08.256109Z",
     "shell.execute_reply": "2025-02-03T18:47:08.255262Z"
    },
    "papermill": {
     "duration": 18.450667,
     "end_time": "2025-02-03T18:47:08.257692",
     "exception": false,
     "start_time": "2025-02-03T18:46:49.807025",
     "status": "completed"
    },
    "tags": []
   },
   "outputs": [
    {
     "name": "stdout",
     "output_type": "stream",
     "text": [
      "Downloading...\r\n",
      "From (original): https://drive.google.com/uc?id=1Anlz7R3KtyOwJB5ouVtELt1kU2QKNw1f\r\n",
      "From (redirected): https://drive.google.com/uc?id=1Anlz7R3KtyOwJB5ouVtELt1kU2QKNw1f&confirm=t&uuid=4492db4c-4b0d-4aa0-88a8-1550a861b362\r\n",
      "To: /kaggle/working/celebA_imgs.rar\r\n",
      "100%|████████████████████████████████████████| 168M/168M [00:04<00:00, 39.2MB/s]\r\n",
      "Downloading...\r\n",
      "From: https://drive.google.com/uc?id=1tOKP0hmpaj7aMwOp6igZPuk2lBNxlwWK\r\n",
      "To: /kaggle/working/celebA_train_split.txt\r\n",
      "100%|████████████████████████████████████████| 156k/156k [00:00<00:00, 86.4MB/s]\r\n",
      "Downloading...\r\n",
      "From: https://drive.google.com/uc?id=1V3m3anz8gghYOLCYtlpQ1A6Qs1LKcBUB\r\n",
      "To: /kaggle/working/celebA_anno.txt\r\n",
      "100%|█████████████████████████████████████████| 177k/177k [00:00<00:00, 106MB/s]\r\n"
     ]
    }
   ],
   "source": [
    "# celebA_imgs.rar - An archive (a folder) with pictures\n",
    "!gdown 1Anlz7R3KtyOwJB5ouVtELt1kU2QKNw1f\n",
    "# celebA_train_split.txt - File with train/val/test split info \n",
    "!gdown 1tOKP0hmpaj7aMwOp6igZPuk2lBNxlwWK\n",
    "# celebA_anno.txt - File with annotation - each picture from celebA_imgs is assigned its id\n",
    "!gdown 1V3m3anz8gghYOLCYtlpQ1A6Qs1LKcBUB"
   ]
  },
  {
   "cell_type": "code",
   "execution_count": 4,
   "id": "3f6f7935",
   "metadata": {
    "execution": {
     "iopub.execute_input": "2025-02-03T18:47:08.270639Z",
     "iopub.status.busy": "2025-02-03T18:47:08.270397Z",
     "iopub.status.idle": "2025-02-03T18:47:15.898376Z",
     "shell.execute_reply": "2025-02-03T18:47:15.897578Z"
    },
    "papermill": {
     "duration": 7.63593,
     "end_time": "2025-02-03T18:47:15.899826",
     "exception": false,
     "start_time": "2025-02-03T18:47:08.263896",
     "status": "completed"
    },
    "tags": []
   },
   "outputs": [
    {
     "name": "stdout",
     "output_type": "stream",
     "text": [
      "Collecting patool\r\n",
      "  Downloading patool-3.1.0-py2.py3-none-any.whl.metadata (4.3 kB)\r\n",
      "Downloading patool-3.1.0-py2.py3-none-any.whl (98 kB)\r\n",
      "\u001b[2K   \u001b[90m━━━━━━━━━━━━━━━━━━━━━━━━━━━━━━━━━━━━━━━━\u001b[0m \u001b[32m98.4/98.4 kB\u001b[0m \u001b[31m2.9 MB/s\u001b[0m eta \u001b[36m0:00:00\u001b[0m\r\n",
      "\u001b[?25hInstalling collected packages: patool\r\n",
      "Successfully installed patool-3.1.0\r\n"
     ]
    },
    {
     "name": "stderr",
     "output_type": "stream",
     "text": [
      "INFO patool: Extracting /kaggle/working/celebA_imgs.rar ...\n",
      "INFO patool: ... creating output directory `celebA_imgs'.\n",
      "INFO patool: running /usr/bin/unrar x -kb -or -- /kaggle/working/celebA_imgs.rar\n",
      "INFO patool: ... /kaggle/working/celebA_imgs.rar extracted to `celebA_imgs'.\n"
     ]
    },
    {
     "data": {
      "text/plain": [
       "'celebA_imgs'"
      ]
     },
     "execution_count": 4,
     "metadata": {},
     "output_type": "execute_result"
    }
   ],
   "source": [
    "# Package for unarchive\n",
    "!pip install patool\n",
    "import patoolib\n",
    "patoolib.extract_archive(f\"{WORKING_DIR}/celebA_imgs.rar\", outdir=\"celebA_imgs\")"
   ]
  },
  {
   "cell_type": "markdown",
   "id": "6629ffc9",
   "metadata": {
    "papermill": {
     "duration": 0.006041,
     "end_time": "2025-02-03T18:47:15.912415",
     "exception": false,
     "start_time": "2025-02-03T18:47:15.906374",
     "status": "completed"
    },
    "tags": []
   },
   "source": [
    "## Parse input data"
   ]
  },
  {
   "cell_type": "code",
   "execution_count": 5,
   "id": "711888e8",
   "metadata": {
    "execution": {
     "iopub.execute_input": "2025-02-03T18:47:15.925726Z",
     "iopub.status.busy": "2025-02-03T18:47:15.925457Z",
     "iopub.status.idle": "2025-02-03T18:47:15.963619Z",
     "shell.execute_reply": "2025-02-03T18:47:15.962953Z"
    },
    "papermill": {
     "duration": 0.046192,
     "end_time": "2025-02-03T18:47:15.964895",
     "exception": false,
     "start_time": "2025-02-03T18:47:15.918703",
     "status": "completed"
    },
    "tags": []
   },
   "outputs": [
    {
     "data": {
      "text/plain": [
       "type\n",
       "train    8544\n",
       "test     1878\n",
       "val      1589\n",
       "Name: count, dtype: int64"
      ]
     },
     "execution_count": 5,
     "metadata": {},
     "output_type": "execute_result"
    }
   ],
   "source": [
    "celeba_anno = pd.read_csv(f\"{WORKING_DIR}/celebA_anno.txt\", sep=\" \", names=['path', 'id'])\n",
    "celeba_train_split = pd.read_csv(f\"{WORKING_DIR}/celebA_train_split.txt\", sep=\" \", names=['path', 'type'])\n",
    "\n",
    "mapping = {0: 'train', 1: 'test', 2: 'val'}\n",
    "celeba_train_split.replace({'type': mapping}, inplace=True)\n",
    "\n",
    "celeba_train_split['type'].value_counts()"
   ]
  },
  {
   "cell_type": "code",
   "execution_count": 6,
   "id": "35b3283a",
   "metadata": {
    "execution": {
     "iopub.execute_input": "2025-02-03T18:47:15.978127Z",
     "iopub.status.busy": "2025-02-03T18:47:15.977899Z",
     "iopub.status.idle": "2025-02-03T18:47:16.139530Z",
     "shell.execute_reply": "2025-02-03T18:47:16.138815Z"
    },
    "papermill": {
     "duration": 0.169723,
     "end_time": "2025-02-03T18:47:16.140817",
     "exception": false,
     "start_time": "2025-02-03T18:47:15.971094",
     "status": "completed"
    },
    "tags": []
   },
   "outputs": [],
   "source": [
    "def add_pathes(l, fill_to):\n",
    "    total_len = len(l)\n",
    "    if total_len < fill_to:\n",
    "        l *= 1 + fill_to//total_len\n",
    "        l = l[:fill_to]\n",
    "    return l\n",
    "\n",
    "def crop_image(image):\n",
    "    \"\"\"Custom advised crop\"\"\"\n",
    "    image = image[:, 77:-41, 45:-50]\n",
    "    return image\n",
    "\n",
    "class CelebaImageDataset(Dataset):\n",
    "    def __init__(\n",
    "        self,\n",
    "        annotations_file,\n",
    "        img_dir,\n",
    "        train_test_split_file=None,\n",
    "        transform=None,\n",
    "        target_transform=None\n",
    "    ):\n",
    "        self.img_labels = annotations_file\n",
    "        self.img_dir = img_dir\n",
    "        self.train_test_labels = train_test_split_file\n",
    "        self.transform = transform\n",
    "        self.target_transform = target_transform\n",
    "\n",
    "        self.img_labels = self.img_labels.reset_index(drop=True)\n",
    "    \n",
    "    def __len__(self):\n",
    "        return len(self.img_labels)\n",
    "\n",
    "    def __getitem__(self, idx):\n",
    "        img_path = os.path.join(self.img_dir, self.img_labels.iloc[idx, 0])\n",
    "        image = read_image(img_path).to(DEVICE)\n",
    "        label = torch.tensor(self.img_labels.iloc[idx, 1]).to(DEVICE)\n",
    "        if self.transform:\n",
    "            image = self.transform(image)\n",
    "        if self.target_transform:\n",
    "            label = self.target_transform(label)\n",
    "        return image, label\n",
    "\n",
    "    def get_sample_dataset(self, type_dataset):\n",
    "        img_labels = self.img_labels\n",
    "        train_test_labels = self.train_test_labels\n",
    "        \n",
    "        sample = img_labels.merge(train_test_labels, on='path', how='inner')\n",
    "        sample = sample[sample['type'] == type_dataset]\n",
    "\n",
    "        sample_dataset = CelebaImageDataset(\n",
    "            annotations_file=sample,\n",
    "            img_dir=self.img_dir,\n",
    "            train_test_split_file=self.train_test_labels,\n",
    "            transform=self.transform,\n",
    "        )\n",
    "        return sample_dataset\n",
    "\n",
    "    def fill_train_data(self, fill_to):\n",
    "        \"\"\"\n",
    "        Fill the (only train!) data in the dataset so that there are at least `fill_to` representatives of each class\n",
    "        \"\"\"\n",
    "        grouped_img_labels = (\n",
    "            self.img_labels\n",
    "            .groupby('id')\n",
    "            .agg(path=pd.NamedAgg(column=\"path\", aggfunc=lambda x: x.tolist()))\n",
    "            .reset_index()\n",
    "        )\n",
    "        grouped_img_labels['path'] = grouped_img_labels['path'].apply(lambda x: add_pathes(x, fill_to))\n",
    "        exploded_grouped_img_labels = grouped_img_labels.explode('path', ignore_index=True)\n",
    "        exploded_grouped_img_labels = exploded_grouped_img_labels.merge(self.train_test_labels, on='path', how='inner')\n",
    "        self.img_labels = exploded_grouped_img_labels[['path', 'id', 'type']]"
   ]
  },
  {
   "cell_type": "code",
   "execution_count": 7,
   "id": "94153de6",
   "metadata": {
    "execution": {
     "iopub.execute_input": "2025-02-03T18:47:16.154611Z",
     "iopub.status.busy": "2025-02-03T18:47:16.154366Z",
     "iopub.status.idle": "2025-02-03T18:47:16.160878Z",
     "shell.execute_reply": "2025-02-03T18:47:16.160275Z"
    },
    "papermill": {
     "duration": 0.014772,
     "end_time": "2025-02-03T18:47:16.162131",
     "exception": false,
     "start_time": "2025-02-03T18:47:16.147359",
     "status": "completed"
    },
    "tags": []
   },
   "outputs": [],
   "source": [
    "from torch.utils.data import BatchSampler\n",
    "\n",
    "# Пишем свой даталоадер, который гарантированно будет генерить батчи так,\n",
    "# чтобы в батче было по 4 картинки каждого класса, что надо для реализации triplet loss'а по стратегии batch hard\n",
    "\n",
    "class TripletBatchSampler(BatchSampler):\n",
    "    def __init__(self, dataset, batch_size, K=4):\n",
    "        self.dataset = dataset\n",
    "        self.batch_size = batch_size\n",
    "        self.P = batch_size // K\n",
    "        self.K = K\n",
    "\n",
    "        self.classes = np.unique(self.dataset.img_labels['id'])\n",
    "        self.num_classes = len(self.classes)\n",
    "\n",
    "    \n",
    "    def __iter__(self):\n",
    "        observations = self.dataset.img_labels.copy()\n",
    "        \n",
    "        custom_batches = []\n",
    "\n",
    "        # print(len(observations))\n",
    "        while len(observations) != 0:\n",
    "            current_batch = []\n",
    "            classes = np.unique(observations['id'])\n",
    "\n",
    "            if len(classes) < self.P:\n",
    "                classes_to_batch = classes\n",
    "            else:\n",
    "                classes_to_batch = np.random.choice(classes, size=self.P, replace=False)\n",
    "                \n",
    "            for label in classes_to_batch:\n",
    "                filtered_dataset = observations[observations['id'] == label]\n",
    "                \n",
    "                indices_to_batch = np.random.choice(\n",
    "                    filtered_dataset.index,\n",
    "                    size=self.K,\n",
    "                    replace=(len(filtered_dataset) < self.K)\n",
    "                )\n",
    "\n",
    "                current_batch.extend(indices_to_batch)\n",
    "\n",
    "            observations.drop(index=current_batch, inplace=True)\n",
    "            # Skip unrelevant batches \n",
    "            if (len(np.unique(current_batch)) < self.batch_size//2):\n",
    "                # or (len(current_batch) < self.batch_size):\n",
    "                continue\n",
    "                \n",
    "            custom_batches.append(current_batch)\n",
    "            \n",
    "        return iter(custom_batches)\n",
    "\n",
    "    def __len__(self):\n",
    "        # approx\n",
    "        return int(1.145 * len(self.dataset) / self.batch_size)"
   ]
  },
  {
   "cell_type": "code",
   "execution_count": 8,
   "id": "a5e245ec",
   "metadata": {
    "execution": {
     "iopub.execute_input": "2025-02-03T18:47:16.175683Z",
     "iopub.status.busy": "2025-02-03T18:47:16.175435Z",
     "iopub.status.idle": "2025-02-03T18:47:16.246799Z",
     "shell.execute_reply": "2025-02-03T18:47:16.246198Z"
    },
    "papermill": {
     "duration": 0.07947,
     "end_time": "2025-02-03T18:47:16.248155",
     "exception": false,
     "start_time": "2025-02-03T18:47:16.168685",
     "status": "completed"
    },
    "tags": []
   },
   "outputs": [],
   "source": [
    "celeba_image_dataset = CelebaImageDataset(\n",
    "    annotations_file=celeba_anno,\n",
    "    img_dir=f\"{WORKING_DIR}/celebA_imgs/celebA_imgs\",\n",
    "    train_test_split_file=celeba_train_split,\n",
    "    transform=crop_image, \n",
    ")\n",
    "\n",
    "train_image_dataset = celeba_image_dataset.get_sample_dataset(type_dataset='train')\n",
    "test_image_dataset = celeba_image_dataset.get_sample_dataset(type_dataset='test')\n",
    "val_image_dataset = celeba_image_dataset.get_sample_dataset(type_dataset='val')\n",
    "\n",
    "# Fill train data up to 50 observations on each class (8544 -> 25000)\n",
    "train_image_dataset_filled = deepcopy(train_image_dataset)\n",
    "train_image_dataset_filled.fill_train_data(fill_to=50)\n",
    "\n",
    "BATCH_SIZE = 64\n",
    "\n",
    "# train_dataloader = DataLoader(train_image_dataset, batch_size=BATCH_SIZE, shuffle=True)\n",
    "# train_dataloader_filled = DataLoader(train_image_dataset_filled, batch_size=BATCH_SIZE, shuffle=True)\n",
    "# test_dataloader = DataLoader(test_image_dataset, batch_size=BATCH_SIZE, shuffle=True)\n",
    "# val_dataloader = DataLoader(val_image_dataset, batch_size=BATCH_SIZE, shuffle=False)\n",
    "\n",
    "\n",
    "train_triplet_sampler = TripletBatchSampler(train_image_dataset, batch_size=BATCH_SIZE, K=4)\n",
    "train_triplet_sampler_f = TripletBatchSampler(train_image_dataset_filled, batch_size=BATCH_SIZE, K=4)\n",
    "test_triplet_sampler = TripletBatchSampler(test_image_dataset, batch_size=BATCH_SIZE, K=4)\n",
    "val_triplet_sampler = TripletBatchSampler(val_image_dataset, batch_size=BATCH_SIZE, K=4)\n",
    "\n",
    "\n",
    "train_triplet_dataloader = DataLoader(train_image_dataset, batch_sampler=train_triplet_sampler)\n",
    "train_triplet_dataloader_f = DataLoader(train_image_dataset_filled, batch_sampler=train_triplet_sampler_f)\n",
    "test_triplet_dataloader = DataLoader(test_image_dataset, batch_sampler=test_triplet_sampler)\n",
    "val_triplet_dataloader = DataLoader(val_image_dataset, batch_sampler=val_triplet_sampler)"
   ]
  },
  {
   "cell_type": "code",
   "execution_count": 9,
   "id": "7503f05c",
   "metadata": {
    "execution": {
     "iopub.execute_input": "2025-02-03T18:47:16.261711Z",
     "iopub.status.busy": "2025-02-03T18:47:16.261459Z",
     "iopub.status.idle": "2025-02-03T18:47:16.265074Z",
     "shell.execute_reply": "2025-02-03T18:47:16.264462Z"
    },
    "papermill": {
     "duration": 0.011655,
     "end_time": "2025-02-03T18:47:16.266330",
     "exception": false,
     "start_time": "2025-02-03T18:47:16.254675",
     "status": "completed"
    },
    "tags": []
   },
   "outputs": [],
   "source": [
    "def render_tensor(img, device):\n",
    "    if str(device) == 'cuda':\n",
    "        plt.imshow(torch.permute(img, (1, 2, 0)).cpu())\n",
    "    else:\n",
    "        plt.imshow(torch.permute(img, (1, 2, 0)))\n",
    "    plt.axis('off')\n",
    "    plt.show()\n",
    "    return"
   ]
  },
  {
   "cell_type": "code",
   "execution_count": 10,
   "id": "700dbafd",
   "metadata": {
    "execution": {
     "iopub.execute_input": "2025-02-03T18:47:16.279714Z",
     "iopub.status.busy": "2025-02-03T18:47:16.279468Z",
     "iopub.status.idle": "2025-02-03T18:47:17.509946Z",
     "shell.execute_reply": "2025-02-03T18:47:17.509172Z"
    },
    "papermill": {
     "duration": 1.238593,
     "end_time": "2025-02-03T18:47:17.511225",
     "exception": false,
     "start_time": "2025-02-03T18:47:16.272632",
     "status": "completed"
    },
    "tags": []
   },
   "outputs": [
    {
     "name": "stdout",
     "output_type": "stream",
     "text": [
      "Feature batch shape: torch.Size([64, 3, 100, 83])\n",
      "Labels batch shape: torch.Size([64])\n",
      "Label: 361\n"
     ]
    },
    {
     "data": {
      "image/png": "[encoded data removed]",
      "text/plain": [
       "<Figure size 640x480 with 1 Axes>"
      ]
     },
     "metadata": {},
     "output_type": "display_data"
    }
   ],
   "source": [
    "# Watching an image which fed into model\n",
    "train_features, train_labels = next(iter(train_triplet_dataloader))\n",
    "print(f\"Feature batch shape: {train_features.size()}\")\n",
    "print(f\"Labels batch shape: {train_labels.size()}\")\n",
    "img = train_features[0]\n",
    "label = train_labels[0]\n",
    "print(f\"Label: {label}\")\n",
    "render_tensor(img, DEVICE)"
   ]
  },
  {
   "cell_type": "markdown",
   "id": "4f5ffb2e",
   "metadata": {
    "papermill": {
     "duration": 0.00682,
     "end_time": "2025-02-03T18:47:17.525071",
     "exception": false,
     "start_time": "2025-02-03T18:47:17.518251",
     "status": "completed"
    },
    "tags": []
   },
   "source": [
    "---"
   ]
  },
  {
   "cell_type": "markdown",
   "id": "977dcb50",
   "metadata": {
    "papermill": {
     "duration": 0.006549,
     "end_time": "2025-02-03T18:47:17.538487",
     "exception": false,
     "start_time": "2025-02-03T18:47:17.531938",
     "status": "completed"
    },
    "tags": []
   },
   "source": [
    "## TripletLoss realization"
   ]
  },
  {
   "cell_type": "code",
   "execution_count": 11,
   "id": "21871fee",
   "metadata": {
    "execution": {
     "iopub.execute_input": "2025-02-03T18:47:17.553216Z",
     "iopub.status.busy": "2025-02-03T18:47:17.552970Z",
     "iopub.status.idle": "2025-02-03T18:47:17.558605Z",
     "shell.execute_reply": "2025-02-03T18:47:17.557939Z"
    },
    "papermill": {
     "duration": 0.01453,
     "end_time": "2025-02-03T18:47:17.559915",
     "exception": false,
     "start_time": "2025-02-03T18:47:17.545385",
     "status": "completed"
    },
    "tags": []
   },
   "outputs": [],
   "source": [
    "# блок функций, необходимый для реализации triplet loss'а\n",
    "\n",
    "def dist(a, b):\n",
    "    norm = torch.norm(a - b, p=2)\n",
    "    distance = norm * norm\n",
    "    return distance\n",
    "\n",
    "\n",
    "def find_unsimilar_pos(X: torch.Tensor, y: torch.Tensor, idx, dist_func):\n",
    "    # Функция, которая находит самый далекий эмбеддинг того же класса\n",
    "    label = y[idx]\n",
    "    pos_indices = (y == label).nonzero(as_tuple=True)[0]\n",
    "    pos_other_indices = pos_indices[pos_indices != idx]\n",
    "\n",
    "    emb_a = X[idx]\n",
    "    embeddings_p = X[pos_other_indices]\n",
    "\n",
    "    distances = dist_func(emb_a.unsqueeze(0), embeddings_p)\n",
    "    farthest_dist, _ = distances.max(dim=0)  # Максимальное расстояние\n",
    "\n",
    "    return farthest_dist\n",
    "\n",
    "\n",
    "def find_similar_neg(X: torch.Tensor, y: torch.Tensor, idx, dist_func):\n",
    "    # Функция, которая находит самый близкий эмбеддинг другого класса\n",
    "    label = y[idx]\n",
    "    neg_indices = (y != label).nonzero(as_tuple=True)[0]\n",
    "\n",
    "    emb_a = X[idx]\n",
    "    embeddings_n = X[neg_indices]\n",
    "\n",
    "    distances = dist_func(emb_a.unsqueeze(0), embeddings_n)\n",
    "    nearest_dist, _ = distances.min(dim=0)\n",
    "\n",
    "    return nearest_dist"
   ]
  },
  {
   "cell_type": "code",
   "execution_count": 12,
   "id": "e67e3cac",
   "metadata": {
    "execution": {
     "iopub.execute_input": "2025-02-03T18:47:17.574091Z",
     "iopub.status.busy": "2025-02-03T18:47:17.573868Z",
     "iopub.status.idle": "2025-02-03T18:47:17.578449Z",
     "shell.execute_reply": "2025-02-03T18:47:17.577865Z"
    },
    "papermill": {
     "duration": 0.013111,
     "end_time": "2025-02-03T18:47:17.579667",
     "exception": false,
     "start_time": "2025-02-03T18:47:17.566556",
     "status": "completed"
    },
    "tags": []
   },
   "outputs": [],
   "source": [
    "class TripletLoss(nn.Module):\n",
    "    def __init__(self, dist_func, margin=1):\n",
    "        super(TripletLoss, self).__init__()\n",
    "        self.dist_func = dist_func\n",
    "        self.margin = margin\n",
    "        \n",
    "    def forward(self, embeddings, targets):\n",
    "        positive_distances = []\n",
    "        negative_distances = []\n",
    "        \n",
    "        for idx, emb in enumerate(embeddings):\n",
    "            positive_distances.append(find_unsimilar_pos(embeddings, targets, idx, self.dist_func))\n",
    "            negative_distances.append(find_similar_neg(embeddings, targets, idx, self.dist_func))\n",
    "\n",
    "        positive_distances = torch.stack(positive_distances)\n",
    "        negative_distances = torch.stack(negative_distances)\n",
    "\n",
    "        loss = positive_distances - negative_distances + self.margin\n",
    "        zeros = torch.zeros_like(loss)\n",
    "        loss_s = torch.maximum(loss, zeros)\n",
    "        loss_s = loss_s.mean()\n",
    "        \n",
    "        return loss_s"
   ]
  },
  {
   "cell_type": "code",
   "execution_count": 13,
   "id": "ccfc9316",
   "metadata": {
    "execution": {
     "iopub.execute_input": "2025-02-03T18:47:17.593732Z",
     "iopub.status.busy": "2025-02-03T18:47:17.593488Z",
     "iopub.status.idle": "2025-02-03T18:47:17.596803Z",
     "shell.execute_reply": "2025-02-03T18:47:17.596025Z"
    },
    "papermill": {
     "duration": 0.011758,
     "end_time": "2025-02-03T18:47:17.598112",
     "exception": false,
     "start_time": "2025-02-03T18:47:17.586354",
     "status": "completed"
    },
    "tags": []
   },
   "outputs": [],
   "source": [
    "triplet_loss = TripletLoss(dist_func=dist)"
   ]
  },
  {
   "cell_type": "markdown",
   "id": "9eba50aa",
   "metadata": {
    "papermill": {
     "duration": 0.006546,
     "end_time": "2025-02-03T18:47:17.611371",
     "exception": false,
     "start_time": "2025-02-03T18:47:17.604825",
     "status": "completed"
    },
    "tags": []
   },
   "source": [
    "## Load model"
   ]
  },
  {
   "cell_type": "code",
   "execution_count": 14,
   "id": "af88af0c",
   "metadata": {
    "execution": {
     "iopub.execute_input": "2025-02-03T18:47:17.625574Z",
     "iopub.status.busy": "2025-02-03T18:47:17.625372Z",
     "iopub.status.idle": "2025-02-03T18:47:17.630278Z",
     "shell.execute_reply": "2025-02-03T18:47:17.629695Z"
    },
    "papermill": {
     "duration": 0.01327,
     "end_time": "2025-02-03T18:47:17.631467",
     "exception": false,
     "start_time": "2025-02-03T18:47:17.618197",
     "status": "completed"
    },
    "tags": []
   },
   "outputs": [],
   "source": [
    "class EfficientNet2(nn.Module):\n",
    "    def __init__(self, pretrained=False, num_classes=500):\n",
    "        super(EfficientNet2, self).__init__()\n",
    "        self.model = models.efficientnet_b2(weights=pretrained)\n",
    "\n",
    "        embedding_size = 1408\n",
    "        \n",
    "        # Change embedding size\n",
    "        self.model.features[8] = nn.Sequential(\n",
    "            # 352 = self.model.features[8].Conv2d.in_features but not sure\n",
    "            nn.Conv2d(352, embedding_size, kernel_size=(1, 1), stride=(1, 1), bias=False),\n",
    "            nn.BatchNorm2d(embedding_size, eps=1e-05, momentum=0.1, affine=True, track_running_stats=True),\n",
    "            nn.SiLU(inplace=True)\n",
    "        )\n",
    "        \n",
    "        # Change out_features of last FC-layer\n",
    "        self.model.classifier[1] = nn.Linear(embedding_size, num_classes, bias=False)\n",
    "    \n",
    "    def forward(self, x):\n",
    "        embeddings = self.model.avgpool(self.model.features(x))\n",
    "        embeddings = embeddings.squeeze()\n",
    "        output = self.model.classifier(embeddings)\n",
    "        last_layer_weight = self.model.classifier[1].weight\n",
    "\n",
    "        return output, embeddings, last_layer_weight"
   ]
  },
  {
   "cell_type": "code",
   "execution_count": 15,
   "id": "808ac2ba",
   "metadata": {
    "execution": {
     "iopub.execute_input": "2025-02-03T18:47:17.645657Z",
     "iopub.status.busy": "2025-02-03T18:47:17.645439Z",
     "iopub.status.idle": "2025-02-03T18:47:17.650722Z",
     "shell.execute_reply": "2025-02-03T18:47:17.650081Z"
    },
    "papermill": {
     "duration": 0.013675,
     "end_time": "2025-02-03T18:47:17.652007",
     "exception": false,
     "start_time": "2025-02-03T18:47:17.638332",
     "status": "completed"
    },
    "tags": []
   },
   "outputs": [
    {
     "data": {
      "text/plain": [
       "8544"
      ]
     },
     "metadata": {},
     "output_type": "display_data"
    },
    {
     "data": {
      "text/plain": [
       "25000"
      ]
     },
     "metadata": {},
     "output_type": "display_data"
    }
   ],
   "source": [
    "display(len(train_triplet_dataloader.dataset))\n",
    "display(len(train_triplet_dataloader_f.dataset))"
   ]
  },
  {
   "cell_type": "markdown",
   "id": "0e41741c",
   "metadata": {
    "papermill": {
     "duration": 0.006769,
     "end_time": "2025-02-03T18:47:17.665746",
     "exception": false,
     "start_time": "2025-02-03T18:47:17.658977",
     "status": "completed"
    },
    "tags": []
   },
   "source": [
    "## Train model"
   ]
  },
  {
   "cell_type": "code",
   "execution_count": 16,
   "id": "f566e1dc",
   "metadata": {
    "execution": {
     "iopub.execute_input": "2025-02-03T18:47:17.680142Z",
     "iopub.status.busy": "2025-02-03T18:47:17.679940Z",
     "iopub.status.idle": "2025-02-03T18:47:17.687848Z",
     "shell.execute_reply": "2025-02-03T18:47:17.687182Z"
    },
    "papermill": {
     "duration": 0.016392,
     "end_time": "2025-02-03T18:47:17.688928",
     "exception": false,
     "start_time": "2025-02-03T18:47:17.672536",
     "status": "completed"
    },
    "tags": []
   },
   "outputs": [],
   "source": [
    "def custom_norm(x):\n",
    "    return x/255\n",
    "\n",
    "normalize_transformer = transforms.Compose([\n",
    "        custom_norm,\n",
    "        transforms.Normalize(mean=[0.485, 0.456, 0.406], std=[0.229, 0.224, 0.225]),\n",
    "        transforms.Resize((224, 224)),\n",
    "    ])\n",
    "\n",
    "augment_n_normalize_transformer = transforms.Compose([\n",
    "        # augmentations\n",
    "        transforms.RandomHorizontalFlip(),\n",
    "        transforms.RandomAdjustSharpness(sharpness_factor=2, p=0.4),\n",
    "        transforms.RandomAdjustSharpness(sharpness_factor=0.5, p=0.4),\n",
    "        transforms.ColorJitter(brightness=0.7, contrast=0.7, saturation=0.7, hue=0.12),\n",
    "        transforms.RandomRotation(degrees=(-6, 6)),\n",
    "        transforms.RandomAffine(degrees=0, scale=(0.9, 1.1)),\n",
    "        # normalizations\n",
    "        normalize_transformer\n",
    "    ])\n",
    "\n",
    "def train_loop(dataloader, model, loss_fn, optimizer):\n",
    "    size = len(dataloader.dataset)\n",
    "    model.train()\n",
    "    for batch, (X, y) in enumerate(dataloader):\n",
    "        X = augment_n_normalize_transformer(X)\n",
    "        pred, embeddings, weights = model(X)\n",
    "        normalized_embeddings = normalize(embeddings).squeeze().type(torch.float64)\n",
    "        loss = loss_fn(embeddings=normalized_embeddings, targets=y)\n",
    "        loss.backward()\n",
    "        optimizer.step()\n",
    "        optimizer.zero_grad()\n",
    "\n",
    "def test_loop(dataloader, model, loss_fn, prefix):\n",
    "    model.eval()\n",
    "    size = len(dataloader.dataset)\n",
    "    num_batches = len(dataloader)\n",
    "    test_loss, correct = 0, 0\n",
    "\n",
    "    with torch.no_grad():\n",
    "        for X, y in dataloader:\n",
    "            X = normalize_transformer(X)\n",
    "            pred, embeddings, weights = model(X)\n",
    "            normalized_embeddings = normalize(embeddings).squeeze().type(torch.float64)\n",
    "            loss = loss_fn(embeddings=normalized_embeddings, targets=y)\n",
    "            test_loss += loss.item()\n",
    "            correct += (pred.argmax(1) == y).type(torch.float).sum().item()\n",
    "\n",
    "    test_loss /= num_batches\n",
    "    correct /= size\n",
    "    print(f\"Test-{prefix} Error: \\n Accuracy: {(100*correct):>0.1f}%, Avg loss: {test_loss:>8f}\")\n",
    "\n",
    "    return correct, test_loss"
   ]
  },
  {
   "cell_type": "code",
   "execution_count": 17,
   "id": "871493f9",
   "metadata": {
    "execution": {
     "iopub.execute_input": "2025-02-03T18:47:17.703086Z",
     "iopub.status.busy": "2025-02-03T18:47:17.702884Z",
     "iopub.status.idle": "2025-02-03T18:47:17.707880Z",
     "shell.execute_reply": "2025-02-03T18:47:17.707221Z"
    },
    "papermill": {
     "duration": 0.013443,
     "end_time": "2025-02-03T18:47:17.709078",
     "exception": false,
     "start_time": "2025-02-03T18:47:17.695635",
     "status": "completed"
    },
    "scrolled": true,
    "tags": []
   },
   "outputs": [],
   "source": [
    "def train_model(model, train_dataloader, test_dataloader, val_dataloader, loss_fn, optimizer, epochs):\n",
    "    train_losses = []; test_losses = []; val_losses = [];\n",
    "    train_accs = []; test_accs = []; val_accs = [];\n",
    "\n",
    "    for t in range(epochs):\n",
    "        print(f\"__________ Epoch {t+1} __________\")\n",
    "        train_loop(train_triplet_dataloader_f, model, loss_fn, optimizer)\n",
    "        train_acc, train_loss = test_loop(train_dataloader, model, loss_fn, prefix='train')\n",
    "        test_acc, test_loss = test_loop(test_dataloader, model, loss_fn, prefix='test')\n",
    "        val_acc, val_loss = test_loop(val_dataloader, model, loss_fn, prefix='val')\n",
    "        \n",
    "        train_losses.append(train_loss); test_losses.append(test_loss); val_losses.append(val_loss)\n",
    "        train_accs.append(train_acc); test_accs.append(test_acc); val_accs.append(val_acc)\n",
    "        print()\n",
    "\n",
    "    metrics = {\n",
    "        'losses': {\n",
    "            'train': train_losses,\n",
    "            'test': test_losses,\n",
    "            'val': val_losses},\n",
    "        'accs': {\n",
    "            'train': train_accs,\n",
    "            'test': test_accs,\n",
    "            'val': val_accs}\n",
    "    }\n",
    "    \n",
    "    return metrics\n"
   ]
  },
  {
   "cell_type": "markdown",
   "id": "db8dd1b5",
   "metadata": {
    "papermill": {
     "duration": 0.013058,
     "end_time": "2025-02-03T18:47:17.728874",
     "exception": false,
     "start_time": "2025-02-03T18:47:17.715816",
     "status": "completed"
    },
    "tags": []
   },
   "source": [
    "---"
   ]
  },
  {
   "cell_type": "code",
   "execution_count": 18,
   "id": "a1893caa",
   "metadata": {
    "execution": {
     "iopub.execute_input": "2025-02-03T18:47:17.745128Z",
     "iopub.status.busy": "2025-02-03T18:47:17.744920Z",
     "iopub.status.idle": "2025-02-03T18:47:17.747849Z",
     "shell.execute_reply": "2025-02-03T18:47:17.747201Z"
    },
    "papermill": {
     "duration": 0.013025,
     "end_time": "2025-02-03T18:47:17.749109",
     "exception": false,
     "start_time": "2025-02-03T18:47:17.736084",
     "status": "completed"
    },
    "tags": []
   },
   "outputs": [],
   "source": [
    "learning_rate = 4e-4\n",
    "epochs = 70"
   ]
  },
  {
   "cell_type": "code",
   "execution_count": 19,
   "id": "c7cdb86a",
   "metadata": {
    "execution": {
     "iopub.execute_input": "2025-02-03T18:47:17.763214Z",
     "iopub.status.busy": "2025-02-03T18:47:17.763013Z",
     "iopub.status.idle": "2025-02-03T22:46:45.740979Z",
     "shell.execute_reply": "2025-02-03T22:46:45.740136Z"
    },
    "papermill": {
     "duration": 14367.986461,
     "end_time": "2025-02-03T22:46:45.742389",
     "exception": false,
     "start_time": "2025-02-03T18:47:17.755928",
     "status": "completed"
    },
    "tags": []
   },
   "outputs": [
    {
     "name": "stderr",
     "output_type": "stream",
     "text": [
      "/usr/local/lib/python3.10/dist-packages/torchvision/models/_utils.py:223: UserWarning: Arguments other than a weight enum or `None` for 'weights' are deprecated since 0.13 and may be removed in the future. The current behavior is equivalent to passing `weights=None`.\n",
      "  warnings.warn(msg)\n"
     ]
    },
    {
     "name": "stdout",
     "output_type": "stream",
     "text": [
      "__________ Epoch 1 __________\n",
      "Test-train Error: \n",
      " Accuracy: 0.1%, Avg loss: 0.000677\n",
      "Test-test Error: \n",
      " Accuracy: 0.1%, Avg loss: 0.001242\n",
      "Test-val Error: \n",
      " Accuracy: 0.5%, Avg loss: 0.000000\n",
      "\n",
      "__________ Epoch 2 __________\n",
      "Test-train Error: \n",
      " Accuracy: 0.2%, Avg loss: 0.038339\n",
      "Test-test Error: \n",
      " Accuracy: 0.2%, Avg loss: 0.056757\n",
      "Test-val Error: \n",
      " Accuracy: 0.6%, Avg loss: 0.077090\n",
      "\n",
      "__________ Epoch 3 __________\n",
      "Test-train Error: \n",
      " Accuracy: 0.2%, Avg loss: 0.012508\n",
      "Test-test Error: \n",
      " Accuracy: 0.3%, Avg loss: 0.022306\n",
      "Test-val Error: \n",
      " Accuracy: 0.3%, Avg loss: 0.030530\n",
      "\n",
      "__________ Epoch 4 __________\n",
      "Test-train Error: \n",
      " Accuracy: 0.2%, Avg loss: 0.177434\n",
      "Test-test Error: \n",
      " Accuracy: 0.2%, Avg loss: 0.257807\n",
      "Test-val Error: \n",
      " Accuracy: 0.3%, Avg loss: 0.238135\n",
      "\n",
      "__________ Epoch 5 __________\n",
      "Test-train Error: \n",
      " Accuracy: 0.2%, Avg loss: 0.029943\n",
      "Test-test Error: \n",
      " Accuracy: 0.2%, Avg loss: 0.046710\n",
      "Test-val Error: \n",
      " Accuracy: 0.3%, Avg loss: 0.056979\n",
      "\n",
      "__________ Epoch 6 __________\n",
      "Test-train Error: \n",
      " Accuracy: 0.2%, Avg loss: 0.000463\n",
      "Test-test Error: \n",
      " Accuracy: 0.0%, Avg loss: 0.000000\n",
      "Test-val Error: \n",
      " Accuracy: 0.3%, Avg loss: 0.000000\n",
      "\n",
      "__________ Epoch 7 __________\n",
      "Test-train Error: \n",
      " Accuracy: 0.2%, Avg loss: 0.023103\n",
      "Test-test Error: \n",
      " Accuracy: 0.0%, Avg loss: 0.037763\n",
      "Test-val Error: \n",
      " Accuracy: 0.3%, Avg loss: 0.047613\n",
      "\n",
      "__________ Epoch 8 __________\n",
      "Test-train Error: \n",
      " Accuracy: 0.1%, Avg loss: 0.000000\n",
      "Test-test Error: \n",
      " Accuracy: 0.1%, Avg loss: 0.000000\n",
      "Test-val Error: \n",
      " Accuracy: 0.3%, Avg loss: 0.000000\n",
      "\n",
      "__________ Epoch 9 __________\n",
      "Test-train Error: \n",
      " Accuracy: 0.2%, Avg loss: 0.022606\n",
      "Test-test Error: \n",
      " Accuracy: 0.2%, Avg loss: 0.030963\n",
      "Test-val Error: \n",
      " Accuracy: 0.5%, Avg loss: 0.055075\n",
      "\n",
      "__________ Epoch 10 __________\n",
      "Test-train Error: \n",
      " Accuracy: 0.3%, Avg loss: 0.000000\n",
      "Test-test Error: \n",
      " Accuracy: 0.1%, Avg loss: 0.000000\n",
      "Test-val Error: \n",
      " Accuracy: 0.5%, Avg loss: 0.000000\n",
      "\n",
      "__________ Epoch 11 __________\n",
      "Test-train Error: \n",
      " Accuracy: 0.2%, Avg loss: 0.000168\n",
      "Test-test Error: \n",
      " Accuracy: 0.0%, Avg loss: 0.001101\n",
      "Test-val Error: \n",
      " Accuracy: 0.4%, Avg loss: 0.001057\n",
      "\n",
      "__________ Epoch 12 __________\n",
      "Test-train Error: \n",
      " Accuracy: 0.1%, Avg loss: 0.000000\n",
      "Test-test Error: \n",
      " Accuracy: 0.0%, Avg loss: 0.000000\n",
      "Test-val Error: \n",
      " Accuracy: 0.3%, Avg loss: 0.000000\n",
      "\n",
      "__________ Epoch 13 __________\n",
      "Test-train Error: \n",
      " Accuracy: 0.2%, Avg loss: 0.000000\n",
      "Test-test Error: \n",
      " Accuracy: 0.0%, Avg loss: 0.000000\n",
      "Test-val Error: \n",
      " Accuracy: 0.5%, Avg loss: 0.000000\n",
      "\n",
      "__________ Epoch 14 __________\n",
      "Test-train Error: \n",
      " Accuracy: 0.2%, Avg loss: 0.000117\n",
      "Test-test Error: \n",
      " Accuracy: 0.3%, Avg loss: 0.000258\n",
      "Test-val Error: \n",
      " Accuracy: 0.5%, Avg loss: 0.000041\n",
      "\n",
      "__________ Epoch 15 __________\n",
      "Test-train Error: \n",
      " Accuracy: 0.2%, Avg loss: 0.000065\n",
      "Test-test Error: \n",
      " Accuracy: 0.4%, Avg loss: 0.000632\n",
      "Test-val Error: \n",
      " Accuracy: 0.8%, Avg loss: 0.000000\n",
      "\n",
      "__________ Epoch 16 __________\n",
      "Test-train Error: \n",
      " Accuracy: 0.1%, Avg loss: 0.000000\n",
      "Test-test Error: \n",
      " Accuracy: 0.1%, Avg loss: 0.000000\n",
      "Test-val Error: \n",
      " Accuracy: 0.3%, Avg loss: 0.000000\n",
      "\n",
      "__________ Epoch 17 __________\n",
      "Test-train Error: \n",
      " Accuracy: 0.2%, Avg loss: 0.000916\n",
      "Test-test Error: \n",
      " Accuracy: 0.1%, Avg loss: 0.008028\n",
      "Test-val Error: \n",
      " Accuracy: 0.3%, Avg loss: 0.002338\n",
      "\n",
      "__________ Epoch 18 __________\n",
      "Test-train Error: \n",
      " Accuracy: 0.2%, Avg loss: 0.000000\n",
      "Test-test Error: \n",
      " Accuracy: 0.1%, Avg loss: 0.000000\n",
      "Test-val Error: \n",
      " Accuracy: 0.3%, Avg loss: 0.000000\n",
      "\n",
      "__________ Epoch 19 __________\n",
      "Test-train Error: \n",
      " Accuracy: 0.2%, Avg loss: 0.003531\n",
      "Test-test Error: \n",
      " Accuracy: 0.2%, Avg loss: 0.008577\n",
      "Test-val Error: \n",
      " Accuracy: 0.6%, Avg loss: 0.012913\n",
      "\n",
      "__________ Epoch 20 __________\n",
      "Test-train Error: \n",
      " Accuracy: 0.2%, Avg loss: 0.000000\n",
      "Test-test Error: \n",
      " Accuracy: 0.0%, Avg loss: 0.000000\n",
      "Test-val Error: \n",
      " Accuracy: 0.6%, Avg loss: 0.000000\n",
      "\n",
      "__________ Epoch 21 __________\n",
      "Test-train Error: \n",
      " Accuracy: 0.3%, Avg loss: 0.000000\n",
      "Test-test Error: \n",
      " Accuracy: 0.1%, Avg loss: 0.000000\n",
      "Test-val Error: \n",
      " Accuracy: 0.6%, Avg loss: 0.000000\n",
      "\n",
      "__________ Epoch 22 __________\n",
      "Test-train Error: \n",
      " Accuracy: 0.2%, Avg loss: 0.004934\n",
      "Test-test Error: \n",
      " Accuracy: 0.3%, Avg loss: 0.012545\n",
      "Test-val Error: \n",
      " Accuracy: 0.3%, Avg loss: 0.021666\n",
      "\n",
      "__________ Epoch 23 __________\n",
      "Test-train Error: \n",
      " Accuracy: 0.2%, Avg loss: 0.001857\n",
      "Test-test Error: \n",
      " Accuracy: 0.0%, Avg loss: 0.008474\n",
      "Test-val Error: \n",
      " Accuracy: 0.6%, Avg loss: 0.011706\n",
      "\n",
      "__________ Epoch 24 __________\n",
      "Test-train Error: \n",
      " Accuracy: 0.2%, Avg loss: 0.000000\n",
      "Test-test Error: \n",
      " Accuracy: 0.3%, Avg loss: 0.000000\n",
      "Test-val Error: \n",
      " Accuracy: 0.3%, Avg loss: 0.000000\n",
      "\n",
      "__________ Epoch 25 __________\n",
      "Test-train Error: \n",
      " Accuracy: 0.2%, Avg loss: 0.000000\n",
      "Test-test Error: \n",
      " Accuracy: 0.1%, Avg loss: 0.000000\n",
      "Test-val Error: \n",
      " Accuracy: 0.6%, Avg loss: 0.000000\n",
      "\n",
      "__________ Epoch 26 __________\n",
      "Test-train Error: \n",
      " Accuracy: 0.2%, Avg loss: 0.000000\n",
      "Test-test Error: \n",
      " Accuracy: 0.1%, Avg loss: 0.000000\n",
      "Test-val Error: \n",
      " Accuracy: 0.6%, Avg loss: 0.000000\n",
      "\n",
      "__________ Epoch 27 __________\n",
      "Test-train Error: \n",
      " Accuracy: 0.1%, Avg loss: 0.000000\n",
      "Test-test Error: \n",
      " Accuracy: 0.2%, Avg loss: 0.000000\n",
      "Test-val Error: \n",
      " Accuracy: 0.3%, Avg loss: 0.000000\n",
      "\n",
      "__________ Epoch 28 __________\n",
      "Test-train Error: \n",
      " Accuracy: 0.2%, Avg loss: 0.010946\n",
      "Test-test Error: \n",
      " Accuracy: 0.2%, Avg loss: 0.024728\n",
      "Test-val Error: \n",
      " Accuracy: 0.3%, Avg loss: 0.020920\n",
      "\n",
      "__________ Epoch 29 __________\n",
      "Test-train Error: \n",
      " Accuracy: 0.2%, Avg loss: 0.000000\n",
      "Test-test Error: \n",
      " Accuracy: 0.1%, Avg loss: 0.000467\n",
      "Test-val Error: \n",
      " Accuracy: 0.4%, Avg loss: 0.000000\n",
      "\n",
      "__________ Epoch 30 __________\n",
      "Test-train Error: \n",
      " Accuracy: 0.2%, Avg loss: 0.000000\n",
      "Test-test Error: \n",
      " Accuracy: 0.2%, Avg loss: 0.000000\n",
      "Test-val Error: \n",
      " Accuracy: 0.3%, Avg loss: 0.000000\n",
      "\n",
      "__________ Epoch 31 __________\n",
      "Test-train Error: \n",
      " Accuracy: 0.2%, Avg loss: 0.004617\n",
      "Test-test Error: \n",
      " Accuracy: 0.0%, Avg loss: 0.014792\n",
      "Test-val Error: \n",
      " Accuracy: 0.5%, Avg loss: 0.009252\n",
      "\n",
      "__________ Epoch 32 __________\n",
      "Test-train Error: \n",
      " Accuracy: 0.3%, Avg loss: 0.000000\n",
      "Test-test Error: \n",
      " Accuracy: 0.1%, Avg loss: 0.000000\n",
      "Test-val Error: \n",
      " Accuracy: 0.5%, Avg loss: 0.000000\n",
      "\n",
      "__________ Epoch 33 __________\n",
      "Test-train Error: \n",
      " Accuracy: 0.3%, Avg loss: 0.000000\n",
      "Test-test Error: \n",
      " Accuracy: 0.1%, Avg loss: 0.000000\n",
      "Test-val Error: \n",
      " Accuracy: 0.6%, Avg loss: 0.000000\n",
      "\n",
      "__________ Epoch 34 __________\n",
      "Test-train Error: \n",
      " Accuracy: 0.2%, Avg loss: 0.065947\n",
      "Test-test Error: \n",
      " Accuracy: 0.1%, Avg loss: 0.126618\n",
      "Test-val Error: \n",
      " Accuracy: 0.3%, Avg loss: 0.080328\n",
      "\n",
      "__________ Epoch 35 __________\n",
      "Test-train Error: \n",
      " Accuracy: 0.2%, Avg loss: 0.000196\n",
      "Test-test Error: \n",
      " Accuracy: 0.2%, Avg loss: 0.001575\n",
      "Test-val Error: \n",
      " Accuracy: 0.3%, Avg loss: 0.000711\n",
      "\n",
      "__________ Epoch 36 __________\n",
      "Test-train Error: \n",
      " Accuracy: 0.3%, Avg loss: 0.000000\n",
      "Test-test Error: \n",
      " Accuracy: 0.4%, Avg loss: 0.000000\n",
      "Test-val Error: \n",
      " Accuracy: 0.3%, Avg loss: 0.000000\n",
      "\n",
      "__________ Epoch 37 __________\n",
      "Test-train Error: \n",
      " Accuracy: 0.2%, Avg loss: 0.040967\n",
      "Test-test Error: \n",
      " Accuracy: 0.2%, Avg loss: 0.074534\n",
      "Test-val Error: \n",
      " Accuracy: 0.6%, Avg loss: 0.070934\n",
      "\n",
      "__________ Epoch 38 __________\n",
      "Test-train Error: \n",
      " Accuracy: 0.2%, Avg loss: 0.031858\n",
      "Test-test Error: \n",
      " Accuracy: 0.1%, Avg loss: 0.033205\n",
      "Test-val Error: \n",
      " Accuracy: 0.3%, Avg loss: 0.045173\n",
      "\n",
      "__________ Epoch 39 __________\n",
      "Test-train Error: \n",
      " Accuracy: 0.2%, Avg loss: 0.002451\n",
      "Test-test Error: \n",
      " Accuracy: 0.1%, Avg loss: 0.003144\n",
      "Test-val Error: \n",
      " Accuracy: 0.1%, Avg loss: 0.018201\n",
      "\n",
      "__________ Epoch 40 __________\n",
      "Test-train Error: \n",
      " Accuracy: 0.2%, Avg loss: 0.000000\n",
      "Test-test Error: \n",
      " Accuracy: 0.1%, Avg loss: 0.000000\n",
      "Test-val Error: \n",
      " Accuracy: 0.4%, Avg loss: 0.000000\n",
      "\n",
      "__________ Epoch 41 __________\n",
      "Test-train Error: \n",
      " Accuracy: 0.2%, Avg loss: 0.000306\n",
      "Test-test Error: \n",
      " Accuracy: 0.0%, Avg loss: 0.000792\n",
      "Test-val Error: \n",
      " Accuracy: 0.6%, Avg loss: 0.004385\n",
      "\n",
      "__________ Epoch 42 __________\n",
      "Test-train Error: \n",
      " Accuracy: 0.2%, Avg loss: 0.010624\n",
      "Test-test Error: \n",
      " Accuracy: 0.3%, Avg loss: 0.023951\n",
      "Test-val Error: \n",
      " Accuracy: 0.3%, Avg loss: 0.027766\n",
      "\n",
      "__________ Epoch 43 __________\n",
      "Test-train Error: \n",
      " Accuracy: 0.2%, Avg loss: 0.012631\n",
      "Test-test Error: \n",
      " Accuracy: 0.0%, Avg loss: 0.021572\n",
      "Test-val Error: \n",
      " Accuracy: 0.3%, Avg loss: 0.019202\n",
      "\n",
      "__________ Epoch 44 __________\n",
      "Test-train Error: \n",
      " Accuracy: 0.1%, Avg loss: 0.000000\n",
      "Test-test Error: \n",
      " Accuracy: 0.2%, Avg loss: 0.000000\n",
      "Test-val Error: \n",
      " Accuracy: 0.1%, Avg loss: 0.000000\n",
      "\n",
      "__________ Epoch 45 __________\n",
      "Test-train Error: \n",
      " Accuracy: 0.2%, Avg loss: 0.000000\n",
      "Test-test Error: \n",
      " Accuracy: 0.1%, Avg loss: 0.000000\n",
      "Test-val Error: \n",
      " Accuracy: 0.1%, Avg loss: 0.000000\n",
      "\n",
      "__________ Epoch 46 __________\n",
      "Test-train Error: \n",
      " Accuracy: 0.2%, Avg loss: 0.045866\n",
      "Test-test Error: \n",
      " Accuracy: 0.4%, Avg loss: 0.077427\n",
      "Test-val Error: \n",
      " Accuracy: 0.5%, Avg loss: 0.082943\n",
      "\n",
      "__________ Epoch 47 __________\n",
      "Test-train Error: \n",
      " Accuracy: 0.2%, Avg loss: 0.000000\n",
      "Test-test Error: \n",
      " Accuracy: 0.0%, Avg loss: 0.000000\n",
      "Test-val Error: \n",
      " Accuracy: 0.5%, Avg loss: 0.002656\n",
      "\n",
      "__________ Epoch 48 __________\n",
      "Test-train Error: \n",
      " Accuracy: 0.2%, Avg loss: 0.001167\n",
      "Test-test Error: \n",
      " Accuracy: 0.0%, Avg loss: 0.003765\n",
      "Test-val Error: \n",
      " Accuracy: 0.3%, Avg loss: 0.001855\n",
      "\n",
      "__________ Epoch 49 __________\n",
      "Test-train Error: \n",
      " Accuracy: 0.2%, Avg loss: 0.000000\n",
      "Test-test Error: \n",
      " Accuracy: 0.1%, Avg loss: 0.000000\n",
      "Test-val Error: \n",
      " Accuracy: 0.8%, Avg loss: 0.000000\n",
      "\n",
      "__________ Epoch 50 __________\n",
      "Test-train Error: \n",
      " Accuracy: 0.2%, Avg loss: 0.000000\n",
      "Test-test Error: \n",
      " Accuracy: 0.1%, Avg loss: 0.000000\n",
      "Test-val Error: \n",
      " Accuracy: 0.5%, Avg loss: 0.000000\n",
      "\n",
      "__________ Epoch 51 __________\n",
      "Test-train Error: \n",
      " Accuracy: 0.2%, Avg loss: 0.088806\n",
      "Test-test Error: \n",
      " Accuracy: 0.1%, Avg loss: 0.108462\n",
      "Test-val Error: \n",
      " Accuracy: 0.3%, Avg loss: 0.088188\n",
      "\n",
      "__________ Epoch 52 __________\n",
      "Test-train Error: \n",
      " Accuracy: 0.3%, Avg loss: 0.005383\n",
      "Test-test Error: \n",
      " Accuracy: 0.2%, Avg loss: 0.008005\n",
      "Test-val Error: \n",
      " Accuracy: 0.5%, Avg loss: 0.015469\n",
      "\n",
      "__________ Epoch 53 __________\n",
      "Test-train Error: \n",
      " Accuracy: 0.2%, Avg loss: 0.070989\n",
      "Test-test Error: \n",
      " Accuracy: 0.2%, Avg loss: 0.122660\n",
      "Test-val Error: \n",
      " Accuracy: 0.3%, Avg loss: 0.126979\n",
      "\n",
      "__________ Epoch 54 __________\n",
      "Test-train Error: \n",
      " Accuracy: 0.2%, Avg loss: 0.000404\n",
      "Test-test Error: \n",
      " Accuracy: 0.0%, Avg loss: 0.001366\n",
      "Test-val Error: \n",
      " Accuracy: 0.6%, Avg loss: 0.006141\n",
      "\n",
      "__________ Epoch 55 __________\n",
      "Test-train Error: \n",
      " Accuracy: 0.2%, Avg loss: 0.000000\n",
      "Test-test Error: \n",
      " Accuracy: 0.2%, Avg loss: 0.000000\n",
      "Test-val Error: \n",
      " Accuracy: 0.5%, Avg loss: 0.000000\n",
      "\n",
      "__________ Epoch 56 __________\n",
      "Test-train Error: \n",
      " Accuracy: 0.2%, Avg loss: 0.004471\n",
      "Test-test Error: \n",
      " Accuracy: 0.2%, Avg loss: 0.013587\n",
      "Test-val Error: \n",
      " Accuracy: 0.3%, Avg loss: 0.006528\n",
      "\n",
      "__________ Epoch 57 __________\n",
      "Test-train Error: \n",
      " Accuracy: 0.2%, Avg loss: 0.000716\n",
      "Test-test Error: \n",
      " Accuracy: 0.0%, Avg loss: 0.000875\n",
      "Test-val Error: \n",
      " Accuracy: 0.7%, Avg loss: 0.005863\n",
      "\n",
      "__________ Epoch 58 __________\n",
      "Test-train Error: \n",
      " Accuracy: 0.1%, Avg loss: 0.000000\n",
      "Test-test Error: \n",
      " Accuracy: 0.0%, Avg loss: 0.000000\n",
      "Test-val Error: \n",
      " Accuracy: 0.3%, Avg loss: 0.000000\n",
      "\n",
      "__________ Epoch 59 __________\n",
      "Test-train Error: \n",
      " Accuracy: 0.2%, Avg loss: 0.025101\n",
      "Test-test Error: \n",
      " Accuracy: 0.1%, Avg loss: 0.036436\n",
      "Test-val Error: \n",
      " Accuracy: 0.3%, Avg loss: 0.039440\n",
      "\n",
      "__________ Epoch 60 __________\n",
      "Test-train Error: \n",
      " Accuracy: 0.2%, Avg loss: 0.000000\n",
      "Test-test Error: \n",
      " Accuracy: 0.1%, Avg loss: 0.000000\n",
      "Test-val Error: \n",
      " Accuracy: 0.5%, Avg loss: 0.000000\n",
      "\n",
      "__________ Epoch 61 __________\n",
      "Test-train Error: \n",
      " Accuracy: 0.2%, Avg loss: 0.000000\n",
      "Test-test Error: \n",
      " Accuracy: 0.2%, Avg loss: 0.000000\n",
      "Test-val Error: \n",
      " Accuracy: 0.5%, Avg loss: 0.000000\n",
      "\n",
      "__________ Epoch 62 __________\n",
      "Test-train Error: \n",
      " Accuracy: 0.2%, Avg loss: 0.018071\n",
      "Test-test Error: \n",
      " Accuracy: 0.2%, Avg loss: 0.037409\n",
      "Test-val Error: \n",
      " Accuracy: 0.5%, Avg loss: 0.031151\n",
      "\n",
      "__________ Epoch 63 __________\n",
      "Test-train Error: \n",
      " Accuracy: 0.2%, Avg loss: 0.049159\n",
      "Test-test Error: \n",
      " Accuracy: 0.3%, Avg loss: 0.095802\n",
      "Test-val Error: \n",
      " Accuracy: 0.8%, Avg loss: 0.093952\n",
      "\n",
      "__________ Epoch 64 __________\n",
      "Test-train Error: \n",
      " Accuracy: 0.2%, Avg loss: 0.000360\n",
      "Test-test Error: \n",
      " Accuracy: 0.1%, Avg loss: 0.001137\n",
      "Test-val Error: \n",
      " Accuracy: 0.3%, Avg loss: 0.000215\n",
      "\n",
      "__________ Epoch 65 __________\n",
      "Test-train Error: \n",
      " Accuracy: 0.2%, Avg loss: 0.010877\n",
      "Test-test Error: \n",
      " Accuracy: 0.3%, Avg loss: 0.021868\n",
      "Test-val Error: \n",
      " Accuracy: 0.5%, Avg loss: 0.033352\n",
      "\n",
      "__________ Epoch 66 __________\n",
      "Test-train Error: \n",
      " Accuracy: 0.2%, Avg loss: 0.000668\n",
      "Test-test Error: \n",
      " Accuracy: 0.0%, Avg loss: 0.003018\n",
      "Test-val Error: \n",
      " Accuracy: 0.5%, Avg loss: 0.003707\n",
      "\n",
      "__________ Epoch 67 __________\n",
      "Test-train Error: \n",
      " Accuracy: 0.2%, Avg loss: 0.000401\n",
      "Test-test Error: \n",
      " Accuracy: 0.1%, Avg loss: 0.000000\n",
      "Test-val Error: \n",
      " Accuracy: 0.7%, Avg loss: 0.001323\n",
      "\n",
      "__________ Epoch 68 __________\n",
      "Test-train Error: \n",
      " Accuracy: 0.2%, Avg loss: 0.051668\n",
      "Test-test Error: \n",
      " Accuracy: 0.4%, Avg loss: 0.083390\n",
      "Test-val Error: \n",
      " Accuracy: 0.5%, Avg loss: 0.083053\n",
      "\n",
      "__________ Epoch 69 __________\n",
      "Test-train Error: \n",
      " Accuracy: 0.2%, Avg loss: 0.000000\n",
      "Test-test Error: \n",
      " Accuracy: 0.1%, Avg loss: 0.000000\n",
      "Test-val Error: \n",
      " Accuracy: 0.6%, Avg loss: 0.000000\n",
      "\n",
      "__________ Epoch 70 __________\n",
      "Test-train Error: \n",
      " Accuracy: 0.2%, Avg loss: 0.000407\n",
      "Test-test Error: \n",
      " Accuracy: 0.2%, Avg loss: 0.000000\n",
      "Test-val Error: \n",
      " Accuracy: 0.4%, Avg loss: 0.001566\n",
      "\n"
     ]
    }
   ],
   "source": [
    "efnet2 = EfficientNet2(pretrained=False).to(DEVICE)\n",
    "optimizer = torch.optim.AdamW(efnet2.parameters(), lr=learning_rate)\n",
    "history = train_model(efnet2, train_triplet_dataloader, test_triplet_dataloader, val_triplet_dataloader, triplet_loss, optimizer, epochs)"
   ]
  },
  {
   "cell_type": "code",
   "execution_count": 20,
   "id": "0a2209b7",
   "metadata": {
    "execution": {
     "iopub.execute_input": "2025-02-03T22:46:45.776177Z",
     "iopub.status.busy": "2025-02-03T22:46:45.775919Z",
     "iopub.status.idle": "2025-02-03T22:46:46.170373Z",
     "shell.execute_reply": "2025-02-03T22:46:46.169536Z"
    },
    "papermill": {
     "duration": 0.412561,
     "end_time": "2025-02-03T22:46:46.171579",
     "exception": false,
     "start_time": "2025-02-03T22:46:45.759018",
     "status": "completed"
    },
    "tags": []
   },
   "outputs": [
    {
     "data": {
      "image/png": "[encoded data removed]",
      "text/plain": [
       "<Figure size 640x480 with 1 Axes>"
      ]
     },
     "metadata": {},
     "output_type": "display_data"
    },
    {
     "data": {
      "image/png": "[encoded data removed]",
      "text/plain": [
       "<Figure size 640x480 with 1 Axes>"
      ]
     },
     "metadata": {},
     "output_type": "display_data"
    }
   ],
   "source": [
    "plt.title('Accuracies')\n",
    "\n",
    "plt.plot(range(epochs), history['accs']['train'], label='train', linestyle='dotted', color='b')\n",
    "plt.plot(range(epochs), history['accs']['test'], label='test', linestyle='dashed', color='b')\n",
    "plt.plot(range(epochs), history['accs']['val'], label='val', linestyle='solid', color='b')\n",
    "\n",
    "plt.grid()\n",
    "plt.legend()\n",
    "plt.show()\n",
    "\n",
    "plt.title('Losses')\n",
    "\n",
    "plt.plot(range(epochs), history['losses']['train'], label='train', linestyle='dotted', color='b')\n",
    "plt.plot(range(epochs), history['losses']['test'], label='test', linestyle='dashed', color='b')\n",
    "plt.plot(range(epochs), history['losses']['val'], label='val', linestyle='solid', color='b')\n",
    "\n",
    "plt.grid()\n",
    "plt.legend()\n",
    "plt.show()"
   ]
  },
  {
   "cell_type": "code",
   "execution_count": 21,
   "id": "0039d395",
   "metadata": {
    "execution": {
     "iopub.execute_input": "2025-02-03T22:46:46.209589Z",
     "iopub.status.busy": "2025-02-03T22:46:46.209351Z",
     "iopub.status.idle": "2025-02-03T22:46:46.297763Z",
     "shell.execute_reply": "2025-02-03T22:46:46.296818Z"
    },
    "papermill": {
     "duration": 0.10867,
     "end_time": "2025-02-03T22:46:46.299391",
     "exception": false,
     "start_time": "2025-02-03T22:46:46.190721",
     "status": "completed"
    },
    "tags": []
   },
   "outputs": [],
   "source": [
    "torch.save(efnet2.state_dict(), f\"./triplet_trained_efnet2.pt\")"
   ]
  },
  {
   "cell_type": "code",
   "execution_count": null,
   "id": "231b7b6f",
   "metadata": {
    "papermill": {
     "duration": 0.018865,
     "end_time": "2025-02-03T22:46:46.337965",
     "exception": false,
     "start_time": "2025-02-03T22:46:46.319100",
     "status": "completed"
    },
    "tags": []
   },
   "outputs": [],
   "source": []
  }
 ],
 "metadata": {
  "kaggle": {
   "accelerator": "gpu",
   "dataSources": [],
   "dockerImageVersionId": 30840,
   "isGpuEnabled": true,
   "isInternetEnabled": true,
   "language": "python",
   "sourceType": "notebook"
  },
  "kernelspec": {
   "display_name": "Python 3",
   "language": "python",
   "name": "python3"
  },
  "language_info": {
   "codemirror_mode": {
    "name": "ipython",
    "version": 3
   },
   "file_extension": ".py",
   "mimetype": "text/x-python",
   "name": "python",
   "nbconvert_exporter": "python",
   "pygments_lexer": "ipython3",
   "version": "3.10.12"
  },
  "papermill": {
   "default_parameters": {},
   "duration": 14408.557467,
   "end_time": "2025-02-03T22:46:47.991923",
   "environment_variables": {},
   "exception": null,
   "input_path": "__notebook__.ipynb",
   "output_path": "__notebook__.ipynb",
   "parameters": {},
   "start_time": "2025-02-03T18:46:39.434456",
   "version": "2.6.0"
  }
 },
 "nbformat": 4,
 "nbformat_minor": 5
}
