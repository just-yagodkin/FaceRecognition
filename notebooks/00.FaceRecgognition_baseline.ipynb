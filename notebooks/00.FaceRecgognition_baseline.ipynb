{
 "cells": [
  {
   "cell_type": "markdown",
   "metadata": {},
   "source": [
    "# Notebook with Face Recognition Baseline\n",
    "© Обучить нейросеть для распознавания лиц на датасете CelebA-500. Нужно добиться accuracy на тестовой части >0.7."
   ]
  },
  {
   "cell_type": "code",
   "execution_count": 1,
   "metadata": {
    "execution": {
     "iopub.execute_input": "2025-01-04T11:14:20.858039Z",
     "iopub.status.busy": "2025-01-04T11:14:20.857719Z",
     "iopub.status.idle": "2025-01-04T11:14:24.991888Z",
     "shell.execute_reply": "2025-01-04T11:14:24.991093Z",
     "shell.execute_reply.started": "2025-01-04T11:14:20.858015Z"
    },
    "trusted": true
   },
   "outputs": [
    {
     "name": "stdout",
     "output_type": "stream",
     "text": [
      "Using device: cuda\n"
     ]
    }
   ],
   "source": [
    "import os\n",
    "from copy import deepcopy\n",
    "\n",
    "import matplotlib.pyplot as plt\n",
    "import pandas as pd\n",
    "import torch\n",
    "import torch.nn as nn\n",
    "\n",
    "from torch.utils.data import DataLoader, Dataset\n",
    "from torchvision import models, transforms\n",
    "from torchvision.io import read_image\n",
    "\n",
    "WORKING_DIR = '/kaggle/working'\n",
    "DEVICE = torch.device('cuda' if torch.cuda.is_available() else 'cpu')\n",
    "print('Using device:', DEVICE)"
   ]
  },
  {
   "cell_type": "markdown",
   "metadata": {},
   "source": [
    "## Download data from gdrive"
   ]
  },
  {
   "cell_type": "code",
   "execution_count": 2,
   "metadata": {
    "execution": {
     "iopub.execute_input": "2025-01-04T11:14:24.993497Z",
     "iopub.status.busy": "2025-01-04T11:14:24.993021Z",
     "iopub.status.idle": "2025-01-04T11:14:56.883586Z",
     "shell.execute_reply": "2025-01-04T11:14:56.882664Z",
     "shell.execute_reply.started": "2025-01-04T11:14:24.993462Z"
    },
    "trusted": true
   },
   "outputs": [
    {
     "name": "stdout",
     "output_type": "stream",
     "text": [
      "Downloading...\n",
      "From (original): https://drive.google.com/uc?id=1Anlz7R3KtyOwJB5ouVtELt1kU2QKNw1f\n",
      "From (redirected): https://drive.google.com/uc?id=1Anlz7R3KtyOwJB5ouVtELt1kU2QKNw1f&confirm=t&uuid=7a9e619c-31de-446d-9464-d8ee9f402e83\n",
      "To: /kaggle/working/celebA_imgs.rar\n",
      "100%|████████████████████████████████████████| 168M/168M [00:12<00:00, 13.4MB/s]\n",
      "Downloading...\n",
      "From: https://drive.google.com/uc?id=1tOKP0hmpaj7aMwOp6igZPuk2lBNxlwWK\n",
      "To: /kaggle/working/celebA_train_split.txt\n",
      "100%|█████████████████████████████████████████| 156k/156k [00:00<00:00, 928kB/s]\n",
      "Downloading...\n",
      "From: https://drive.google.com/uc?id=1V3m3anz8gghYOLCYtlpQ1A6Qs1LKcBUB\n",
      "To: /kaggle/working/celebA_anno.txt\n",
      "100%|█████████████████████████████████████████| 177k/177k [00:00<00:00, 961kB/s]\n"
     ]
    }
   ],
   "source": [
    "# celebA_imgs.rar - An archive (a folder) with pictures\n",
    "!gdown 1Anlz7R3KtyOwJB5ouVtELt1kU2QKNw1f\n",
    "# celebA_train_split.txt - File with train/val/test split info \n",
    "!gdown 1tOKP0hmpaj7aMwOp6igZPuk2lBNxlwWK\n",
    "# celebA_anno.txt - File with annotation - each picture from celebA_imgs is assigned its id\n",
    "!gdown 1V3m3anz8gghYOLCYtlpQ1A6Qs1LKcBUB"
   ]
  },
  {
   "cell_type": "code",
   "execution_count": 3,
   "metadata": {
    "execution": {
     "iopub.execute_input": "2025-01-04T11:14:56.885462Z",
     "iopub.status.busy": "2025-01-04T11:14:56.885212Z",
     "iopub.status.idle": "2025-01-04T11:15:04.881258Z",
     "shell.execute_reply": "2025-01-04T11:15:04.880494Z",
     "shell.execute_reply.started": "2025-01-04T11:14:56.885437Z"
    },
    "trusted": true
   },
   "outputs": [
    {
     "name": "stdout",
     "output_type": "stream",
     "text": [
      "Collecting patool\n",
      "  Downloading patool-3.1.0-py2.py3-none-any.whl.metadata (4.3 kB)\n",
      "Downloading patool-3.1.0-py2.py3-none-any.whl (98 kB)\n",
      "\u001b[2K   \u001b[90m━━━━━━━━━━━━━━━━━━━━━━━━━━━━━━━━━━━━━━━━\u001b[0m \u001b[32m98.4/98.4 kB\u001b[0m \u001b[31m7.3 MB/s\u001b[0m eta \u001b[36m0:00:00\u001b[0m\n",
      "\u001b[?25hInstalling collected packages: patool\n",
      "Successfully installed patool-3.1.0\n"
     ]
    },
    {
     "name": "stderr",
     "output_type": "stream",
     "text": [
      "INFO patool: Extracting /kaggle/working/celebA_imgs.rar ...\n",
      "INFO patool: ... creating output directory `celebA_imgs'.\n",
      "INFO patool: running /usr/bin/unrar x -kb -or -- /kaggle/working/celebA_imgs.rar\n",
      "INFO patool: ... /kaggle/working/celebA_imgs.rar extracted to `celebA_imgs'.\n"
     ]
    },
    {
     "data": {
      "text/plain": [
       "'celebA_imgs'"
      ]
     },
     "execution_count": 3,
     "metadata": {},
     "output_type": "execute_result"
    }
   ],
   "source": [
    "# Package for unarchive\n",
    "!pip install patool\n",
    "import patoolib\n",
    "patoolib.extract_archive(f\"{WORKING_DIR}/celebA_imgs.rar\", outdir=\"celebA_imgs\")"
   ]
  },
  {
   "cell_type": "markdown",
   "metadata": {},
   "source": [
    "## Parse input data"
   ]
  },
  {
   "cell_type": "code",
   "execution_count": 4,
   "metadata": {
    "execution": {
     "iopub.execute_input": "2025-01-04T11:15:04.882772Z",
     "iopub.status.busy": "2025-01-04T11:15:04.882533Z",
     "iopub.status.idle": "2025-01-04T11:15:04.924951Z",
     "shell.execute_reply": "2025-01-04T11:15:04.924207Z",
     "shell.execute_reply.started": "2025-01-04T11:15:04.882748Z"
    },
    "trusted": true
   },
   "outputs": [
    {
     "data": {
      "text/plain": [
       "type\n",
       "train    8544\n",
       "test     1878\n",
       "val      1589\n",
       "Name: count, dtype: int64"
      ]
     },
     "execution_count": 4,
     "metadata": {},
     "output_type": "execute_result"
    }
   ],
   "source": [
    "celeba_anno = pd.read_csv(f\"{WORKING_DIR}/celebA_anno.txt\", sep=\" \", names=['path', 'id'])\n",
    "celeba_train_split = pd.read_csv(f\"{WORKING_DIR}/celebA_train_split.txt\", sep=\" \", names=['path', 'type'])\n",
    "\n",
    "mapping = {0: 'train', 1: 'test', 2: 'val'}\n",
    "celeba_train_split.replace({'type': mapping}, inplace=True)\n",
    "\n",
    "celeba_train_split['type'].value_counts()"
   ]
  },
  {
   "cell_type": "code",
   "execution_count": 5,
   "metadata": {
    "execution": {
     "iopub.execute_input": "2025-01-04T11:15:04.926279Z",
     "iopub.status.busy": "2025-01-04T11:15:04.925907Z",
     "iopub.status.idle": "2025-01-04T11:15:04.935688Z",
     "shell.execute_reply": "2025-01-04T11:15:04.935043Z",
     "shell.execute_reply.started": "2025-01-04T11:15:04.926247Z"
    },
    "trusted": true
   },
   "outputs": [],
   "source": [
    "def add_pathes(l, fill_to):\n",
    "    total_len = len(l)\n",
    "    if total_len < fill_to:\n",
    "        l *= 1 + fill_to//total_len\n",
    "        l = l[:fill_to]\n",
    "    return l\n",
    "\n",
    "def crop_image(image):\n",
    "    \"\"\"Custom advised crop\"\"\"\n",
    "    image = image[:, 77:-41, 45:-50]\n",
    "    return image\n",
    "\n",
    "class CelebaImageDataset(Dataset):\n",
    "    def __init__(\n",
    "        self,\n",
    "        annotations_file,\n",
    "        img_dir,\n",
    "        train_test_split_file=None,\n",
    "        transform=None,\n",
    "        target_transform=None\n",
    "    ):\n",
    "        self.img_labels = annotations_file\n",
    "        self.img_dir = img_dir\n",
    "        self.train_test_labels = train_test_split_file\n",
    "        self.transform = transform\n",
    "        self.target_transform = target_transform\n",
    "\n",
    "    def __len__(self):\n",
    "        return len(self.img_labels)\n",
    "\n",
    "    def __getitem__(self, idx):\n",
    "        img_path = os.path.join(self.img_dir, self.img_labels.iloc[idx, 0])\n",
    "        image = read_image(img_path).to(DEVICE)\n",
    "        label = torch.tensor(self.img_labels.iloc[idx, 1]).to(DEVICE)\n",
    "        if self.transform:\n",
    "            image = self.transform(image)\n",
    "        if self.target_transform:\n",
    "            label = self.target_transform(label)\n",
    "        return image, label\n",
    "\n",
    "    def get_sample_dataset(self, type_dataset):\n",
    "        img_labels = self.img_labels\n",
    "        train_test_labels = self.train_test_labels\n",
    "        \n",
    "        sample = img_labels.merge(train_test_labels, on='path', how='inner')\n",
    "        sample = sample[sample['type'] == type_dataset]\n",
    "\n",
    "        sample_dataset = CelebaImageDataset(\n",
    "            annotations_file=sample,\n",
    "            img_dir=self.img_dir,\n",
    "            train_test_split_file=self.train_test_labels,\n",
    "            transform=self.transform,\n",
    "        )\n",
    "        return sample_dataset\n",
    "\n",
    "    def fill_train_data(self, fill_to):\n",
    "        \"\"\"\n",
    "        Fill the (only train!) data in the dataset so that there are at least `fill_to` representatives of each class\n",
    "        \"\"\"\n",
    "        grouped_img_labels = (\n",
    "            self.img_labels\n",
    "            .groupby('id')\n",
    "            .agg(path=pd.NamedAgg(column=\"path\", aggfunc=lambda x: x.tolist()))\n",
    "            .reset_index()\n",
    "        )\n",
    "        grouped_img_labels['path'] = grouped_img_labels['path'].apply(lambda x: add_pathes(x, fill_to))\n",
    "        exploded_grouped_img_labels = grouped_img_labels.explode('path', ignore_index=True)\n",
    "        exploded_grouped_img_labels = exploded_grouped_img_labels.merge(self.train_test_labels, on='path', how='inner')\n",
    "        self.img_labels = exploded_grouped_img_labels[['path', 'id', 'type']]"
   ]
  },
  {
   "cell_type": "code",
   "execution_count": 6,
   "metadata": {
    "execution": {
     "iopub.execute_input": "2025-01-04T11:15:04.936891Z",
     "iopub.status.busy": "2025-01-04T11:15:04.936656Z",
     "iopub.status.idle": "2025-01-04T11:15:05.015090Z",
     "shell.execute_reply": "2025-01-04T11:15:05.014479Z",
     "shell.execute_reply.started": "2025-01-04T11:15:04.936869Z"
    },
    "trusted": true
   },
   "outputs": [],
   "source": [
    "celeba_image_dataset = CelebaImageDataset(\n",
    "    annotations_file=celeba_anno,\n",
    "    img_dir=f\"{WORKING_DIR}/celebA_imgs/celebA_imgs\",\n",
    "    train_test_split_file=celeba_train_split,\n",
    "    transform=crop_image, \n",
    ")\n",
    "\n",
    "train_image_dataset = celeba_image_dataset.get_sample_dataset(type_dataset='train')\n",
    "test_image_dataset = celeba_image_dataset.get_sample_dataset(type_dataset='test')\n",
    "val_image_dataset = celeba_image_dataset.get_sample_dataset(type_dataset='val')\n",
    "\n",
    "# Fill train data up to 50 observations on each class (8544 -> 25000)\n",
    "train_image_dataset_filled = deepcopy(train_image_dataset)\n",
    "train_image_dataset_filled.fill_train_data(fill_to=50)\n",
    "\n",
    "BATCH_SIZE = 64\n",
    "\n",
    "train_dataloader = DataLoader(train_image_dataset, batch_size=BATCH_SIZE, shuffle=True)\n",
    "train_dataloader_filled = DataLoader(train_image_dataset_filled, batch_size=BATCH_SIZE, shuffle=True)\n",
    "test_dataloader = DataLoader(test_image_dataset, batch_size=BATCH_SIZE, shuffle=True)\n",
    "val_dataloader = DataLoader(val_image_dataset, batch_size=BATCH_SIZE, shuffle=False)"
   ]
  },
  {
   "cell_type": "code",
   "execution_count": 7,
   "metadata": {
    "execution": {
     "iopub.execute_input": "2025-01-04T11:15:05.016166Z",
     "iopub.status.busy": "2025-01-04T11:15:05.015801Z",
     "iopub.status.idle": "2025-01-04T11:15:05.020616Z",
     "shell.execute_reply": "2025-01-04T11:15:05.019900Z",
     "shell.execute_reply.started": "2025-01-04T11:15:05.016131Z"
    },
    "trusted": true
   },
   "outputs": [],
   "source": [
    "def render_tensor(img, device):\n",
    "    if str(device) == 'cuda':\n",
    "        plt.imshow(torch.permute(img, (1, 2, 0)).cpu())\n",
    "    else:\n",
    "        plt.imshow(torch.permute(img, (1, 2, 0)))\n",
    "    plt.axis('off')\n",
    "    plt.show()\n",
    "    return"
   ]
  },
  {
   "cell_type": "code",
   "execution_count": 8,
   "metadata": {
    "execution": {
     "iopub.execute_input": "2025-01-04T11:15:05.022612Z",
     "iopub.status.busy": "2025-01-04T11:15:05.022380Z",
     "iopub.status.idle": "2025-01-04T11:15:05.391133Z",
     "shell.execute_reply": "2025-01-04T11:15:05.390022Z",
     "shell.execute_reply.started": "2025-01-04T11:15:05.022591Z"
    },
    "trusted": true
   },
   "outputs": [
    {
     "name": "stdout",
     "output_type": "stream",
     "text": [
      "Feature batch shape: torch.Size([64, 3, 100, 83])\n",
      "Labels batch shape: torch.Size([64])\n",
      "Label: 242\n"
     ]
    },
    {
     "data": {
      "image/png": "[encoded data removed]",
      "text/plain": [
       "<Figure size 640x480 with 1 Axes>"
      ]
     },
     "metadata": {},
     "output_type": "display_data"
    }
   ],
   "source": [
    "# Watching an image which fed into model\n",
    "train_features, train_labels = next(iter(train_dataloader))\n",
    "print(f\"Feature batch shape: {train_features.size()}\")\n",
    "print(f\"Labels batch shape: {train_labels.size()}\")\n",
    "img = train_features[0]\n",
    "label = train_labels[0]\n",
    "print(f\"Label: {label}\")\n",
    "render_tensor(img, DEVICE)"
   ]
  },
  {
   "cell_type": "markdown",
   "metadata": {},
   "source": [
    "---"
   ]
  },
  {
   "cell_type": "markdown",
   "metadata": {},
   "source": [
    "## Load and train model"
   ]
  },
  {
   "cell_type": "code",
   "execution_count": 9,
   "metadata": {
    "execution": {
     "iopub.execute_input": "2025-01-04T11:15:09.600533Z",
     "iopub.status.busy": "2025-01-04T11:15:09.600238Z",
     "iopub.status.idle": "2025-01-04T11:15:09.604854Z",
     "shell.execute_reply": "2025-01-04T11:15:09.603941Z",
     "shell.execute_reply.started": "2025-01-04T11:15:09.600510Z"
    },
    "trusted": true
   },
   "outputs": [],
   "source": [
    "def get_efficientnet_b2(num_classes: int, pretrained: bool = True):\n",
    "    model = models.efficientnet_b2(weights=pretrained).to(DEVICE)\n",
    "    # Change out_features of last FC-layer\n",
    "    dim_feats = model.classifier[1].in_features\n",
    "    model.classifier[1] = nn.Linear(dim_feats, num_classes)\n",
    "\n",
    "    return model"
   ]
  },
  {
   "cell_type": "code",
   "execution_count": 10,
   "metadata": {
    "execution": {
     "iopub.execute_input": "2025-01-04T11:15:09.965215Z",
     "iopub.status.busy": "2025-01-04T11:15:09.964880Z",
     "iopub.status.idle": "2025-01-04T11:15:09.971414Z",
     "shell.execute_reply": "2025-01-04T11:15:09.970684Z",
     "shell.execute_reply.started": "2025-01-04T11:15:09.965186Z"
    },
    "trusted": true
   },
   "outputs": [
    {
     "data": {
      "text/plain": [
       "8544"
      ]
     },
     "metadata": {},
     "output_type": "display_data"
    },
    {
     "data": {
      "text/plain": [
       "25000"
      ]
     },
     "metadata": {},
     "output_type": "display_data"
    }
   ],
   "source": [
    "display(len(train_dataloader.dataset))\n",
    "display(len(train_dataloader_filled.dataset))"
   ]
  },
  {
   "cell_type": "code",
   "execution_count": 11,
   "metadata": {
    "execution": {
     "iopub.execute_input": "2025-01-04T11:15:11.490785Z",
     "iopub.status.busy": "2025-01-04T11:15:11.490493Z",
     "iopub.status.idle": "2025-01-04T11:15:11.496903Z",
     "shell.execute_reply": "2025-01-04T11:15:11.495991Z",
     "shell.execute_reply.started": "2025-01-04T11:15:11.490761Z"
    },
    "trusted": true
   },
   "outputs": [],
   "source": [
    "# _____ Define some transformations _____\n",
    "def custom_norm(x):\n",
    "    return x/255\n",
    "\n",
    "normalize_transformer = transforms.Compose([\n",
    "        custom_norm,\n",
    "        transforms.Normalize(mean=[0.485, 0.456, 0.406], std=[0.229, 0.224, 0.225]),\n",
    "        transforms.Resize((224, 224)),\n",
    "    ])\n",
    "\n",
    "augment_n_normalize_transformer = transforms.Compose([\n",
    "        # augmentations\n",
    "        transforms.RandomHorizontalFlip(),\n",
    "        transforms.RandomAdjustSharpness(sharpness_factor=2, p=0.5),\n",
    "        transforms.RandomAdjustSharpness(sharpness_factor=0.5, p=0.5),\n",
    "        transforms.ColorJitter(\n",
    "            brightness=0.8,\n",
    "            contrast=0.8,\n",
    "            saturation=0.8,\n",
    "            hue=0.1\n",
    "        ),\n",
    "        transforms.RandomRotation(degrees=(-10, 10)),\n",
    "        transforms.RandomAffine(degrees=0, scale=(0.9, 1.1)),\n",
    "        # normalizations\n",
    "        normalize_transformer\n",
    "    ])"
   ]
  },
  {
   "cell_type": "code",
   "execution_count": 12,
   "metadata": {
    "execution": {
     "iopub.execute_input": "2025-01-04T11:15:14.322202Z",
     "iopub.status.busy": "2025-01-04T11:15:14.321854Z",
     "iopub.status.idle": "2025-01-04T11:15:14.328041Z",
     "shell.execute_reply": "2025-01-04T11:15:14.327325Z",
     "shell.execute_reply.started": "2025-01-04T11:15:14.322173Z"
    },
    "trusted": true
   },
   "outputs": [],
   "source": [
    "# _____ Define train & test loops _____\n",
    "def train_loop(dataloader, model, loss_fn, optimizer):\n",
    "    model.train()\n",
    "    for batch, (X, y) in enumerate(dataloader):\n",
    "        X = augment_n_normalize_transformer(X)\n",
    "        pred = model(X)\n",
    "        loss = loss_fn(pred, y)\n",
    "        loss.backward()\n",
    "        optimizer.step()\n",
    "        optimizer.zero_grad()\n",
    "\n",
    "        # if batch % 100 == 0:\n",
    "        #     loss, current = loss.item(), batch * BATCH_SIZE + len(X)\n",
    "        #     print(f\"loss: {loss:>7f}  [{current:>5d}/{size:>5d}]\")\n",
    "\n",
    "def test_loop(dataloader, model, loss_fn, prefix):\n",
    "    model.eval()\n",
    "    size = len(dataloader.dataset)\n",
    "    num_batches = len(dataloader)\n",
    "    test_loss, correct = 0, 0\n",
    "\n",
    "    with torch.no_grad():\n",
    "        for X, y in dataloader:\n",
    "            X = normalize_transformer(X)\n",
    "            pred = model(X)\n",
    "            test_loss += loss_fn(pred, y).item()\n",
    "            correct += (pred.argmax(1) == y).type(torch.float).sum().item()\n",
    "\n",
    "    test_loss /= num_batches\n",
    "    correct /= size\n",
    "    print(f\"Test-{prefix} Error: \\n Accuracy: {(100*correct):>0.1f}%, Avg loss: {test_loss:>8f}\")\n",
    "\n",
    "    return correct, test_loss"
   ]
  },
  {
   "cell_type": "code",
   "execution_count": 13,
   "metadata": {
    "execution": {
     "iopub.execute_input": "2025-01-04T11:15:16.095657Z",
     "iopub.status.busy": "2025-01-04T11:15:16.095350Z",
     "iopub.status.idle": "2025-01-04T12:02:53.340934Z",
     "shell.execute_reply": "2025-01-04T12:02:53.340049Z",
     "shell.execute_reply.started": "2025-01-04T11:15:16.095630Z"
    },
    "scrolled": true,
    "trusted": true
   },
   "outputs": [
    {
     "name": "stderr",
     "output_type": "stream",
     "text": [
      "/usr/local/lib/python3.10/dist-packages/torchvision/models/_utils.py:223: UserWarning: Arguments other than a weight enum or `None` for 'weights' are deprecated since 0.13 and may be removed in the future. The current behavior is equivalent to passing `weights=EfficientNet_B2_Weights.IMAGENET1K_V1`. You can also use `weights=EfficientNet_B2_Weights.DEFAULT` to get the most up-to-date weights.\n",
      "  warnings.warn(msg)\n",
      "Downloading: \"https://download.pytorch.org/models/efficientnet_b2_rwightman-c35c1473.pth\" to /root/.cache/torch/hub/checkpoints/efficientnet_b2_rwightman-c35c1473.pth\n",
      "100%|██████████| 35.2M/35.2M [00:00<00:00, 217MB/s]\n"
     ]
    },
    {
     "name": "stdout",
     "output_type": "stream",
     "text": [
      "_____ Epoch 1 _____\n",
      "Test-train Error: \n",
      " Accuracy: 64.5%, Avg loss: 1.430417\n",
      "Test-test Error: \n",
      " Accuracy: 47.9%, Avg loss: 2.255124\n",
      "Test-val Error: \n",
      " Accuracy: 47.8%, Avg loss: 2.304600\n",
      "\n",
      "_____ Epoch 2 _____\n",
      "Test-train Error: \n",
      " Accuracy: 90.9%, Avg loss: 0.361792\n",
      "Test-test Error: \n",
      " Accuracy: 66.0%, Avg loss: 1.440175\n",
      "Test-val Error: \n",
      " Accuracy: 65.2%, Avg loss: 1.493724\n",
      "\n",
      "_____ Epoch 3 _____\n",
      "Test-train Error: \n",
      " Accuracy: 95.1%, Avg loss: 0.210019\n",
      "Test-test Error: \n",
      " Accuracy: 70.2%, Avg loss: 1.297739\n",
      "Test-val Error: \n",
      " Accuracy: 69.4%, Avg loss: 1.420440\n",
      "\n",
      "_____ Epoch 4 _____\n",
      "Test-train Error: \n",
      " Accuracy: 71.7%, Avg loss: 1.735423\n",
      "Test-test Error: \n",
      " Accuracy: 50.5%, Avg loss: 2.864145\n",
      "Test-val Error: \n",
      " Accuracy: 53.1%, Avg loss: 2.789486\n",
      "\n",
      "_____ Epoch 5 _____\n",
      "Test-train Error: \n",
      " Accuracy: 98.7%, Avg loss: 0.054896\n",
      "Test-test Error: \n",
      " Accuracy: 75.5%, Avg loss: 1.196235\n",
      "Test-val Error: \n",
      " Accuracy: 77.0%, Avg loss: 1.238319\n",
      "\n",
      "_____ Epoch 6 _____\n",
      "Test-train Error: \n",
      " Accuracy: 96.8%, Avg loss: 0.110839\n",
      "Test-test Error: \n",
      " Accuracy: 72.3%, Avg loss: 1.393826\n",
      "Test-val Error: \n",
      " Accuracy: 69.7%, Avg loss: 1.445794\n",
      "\n",
      "_____ Epoch 7 _____\n",
      "Test-train Error: \n",
      " Accuracy: 96.5%, Avg loss: 0.127727\n",
      "Test-test Error: \n",
      " Accuracy: 71.6%, Avg loss: 1.381390\n",
      "Test-val Error: \n",
      " Accuracy: 70.9%, Avg loss: 1.459930\n",
      "\n",
      "_____ Epoch 8 _____\n",
      "Test-train Error: \n",
      " Accuracy: 96.7%, Avg loss: 0.113485\n",
      "Test-test Error: \n",
      " Accuracy: 69.6%, Avg loss: 1.573888\n",
      "Test-val Error: \n",
      " Accuracy: 72.2%, Avg loss: 1.445302\n",
      "\n",
      "_____ Epoch 9 _____\n",
      "Test-train Error: \n",
      " Accuracy: 97.6%, Avg loss: 0.081868\n",
      "Test-test Error: \n",
      " Accuracy: 71.4%, Avg loss: 1.438342\n",
      "Test-val Error: \n",
      " Accuracy: 72.4%, Avg loss: 1.437051\n",
      "\n",
      "_____ Epoch 10 _____\n",
      "Test-train Error: \n",
      " Accuracy: 99.4%, Avg loss: 0.020411\n",
      "Test-test Error: \n",
      " Accuracy: 78.8%, Avg loss: 1.159112\n",
      "Test-val Error: \n",
      " Accuracy: 76.4%, Avg loss: 1.257519\n",
      "\n",
      "_____ Epoch 11 _____\n",
      "Test-train Error: \n",
      " Accuracy: 98.3%, Avg loss: 0.060809\n",
      "Test-test Error: \n",
      " Accuracy: 75.9%, Avg loss: 1.237804\n",
      "Test-val Error: \n",
      " Accuracy: 76.7%, Avg loss: 1.300405\n",
      "\n",
      "_____ Epoch 12 _____\n",
      "Test-train Error: \n",
      " Accuracy: 98.5%, Avg loss: 0.048817\n",
      "Test-test Error: \n",
      " Accuracy: 74.0%, Avg loss: 1.343562\n",
      "Test-val Error: \n",
      " Accuracy: 75.2%, Avg loss: 1.304629\n",
      "\n",
      "_____ Epoch 13 _____\n",
      "Test-train Error: \n",
      " Accuracy: 98.7%, Avg loss: 0.042935\n",
      "Test-test Error: \n",
      " Accuracy: 75.9%, Avg loss: 1.255325\n",
      "Test-val Error: \n",
      " Accuracy: 76.0%, Avg loss: 1.318402\n",
      "\n",
      "_____ Epoch 14 _____\n",
      "Test-train Error: \n",
      " Accuracy: 99.3%, Avg loss: 0.022455\n",
      "Test-test Error: \n",
      " Accuracy: 76.7%, Avg loss: 1.250468\n",
      "Test-val Error: \n",
      " Accuracy: 78.7%, Avg loss: 1.253125\n",
      "\n",
      "_____ Epoch 15 _____\n",
      "Test-train Error: \n",
      " Accuracy: 99.1%, Avg loss: 0.030872\n",
      "Test-test Error: \n",
      " Accuracy: 76.4%, Avg loss: 1.289623\n",
      "Test-val Error: \n",
      " Accuracy: 75.5%, Avg loss: 1.380101\n",
      "\n",
      "_____ Epoch 16 _____\n",
      "Test-train Error: \n",
      " Accuracy: 99.0%, Avg loss: 0.033185\n",
      "Test-test Error: \n",
      " Accuracy: 77.5%, Avg loss: 1.212294\n",
      "Test-val Error: \n",
      " Accuracy: 78.4%, Avg loss: 1.251731\n",
      "\n",
      "_____ Epoch 17 _____\n",
      "Test-train Error: \n",
      " Accuracy: 99.4%, Avg loss: 0.018438\n",
      "Test-test Error: \n",
      " Accuracy: 77.7%, Avg loss: 1.246515\n",
      "Test-val Error: \n",
      " Accuracy: 77.1%, Avg loss: 1.296463\n",
      "\n",
      "_____ Epoch 18 _____\n",
      "Test-train Error: \n",
      " Accuracy: 99.3%, Avg loss: 0.024501\n",
      "Test-test Error: \n",
      " Accuracy: 77.5%, Avg loss: 1.288783\n",
      "Test-val Error: \n",
      " Accuracy: 77.6%, Avg loss: 1.329097\n",
      "\n"
     ]
    }
   ],
   "source": [
    "loss_fn = nn.CrossEntropyLoss()\n",
    "\n",
    "efnet2 = get_efficientnet_b2(num_classes=500, pretrained=True).to(DEVICE)\n",
    "learning_rate = 1e-3\n",
    "optimizer = torch.optim.AdamW(efnet2.parameters(), lr=learning_rate)\n",
    "\n",
    "# _____ Fitting _____\n",
    "\n",
    "train_losses = []; test_losses = []; val_losses = []\n",
    "train_accs = []; test_accs = []; val_accs = []\n",
    "\n",
    "best_test_acc = 0\n",
    "best_epoch = 0\n",
    "epochs = 18\n",
    "for t in range(epochs):\n",
    "    print(f\"_____ Epoch {t+1} _____\")\n",
    "    train_loop(train_dataloader_filled, efnet2, loss_fn, optimizer)\n",
    "    train_acc, train_loss = test_loop(train_dataloader, efnet2, loss_fn, prefix='train')\n",
    "    test_acc, test_loss = test_loop(test_dataloader, efnet2, loss_fn, prefix='test')\n",
    "    val_acc, val_loss = test_loop(val_dataloader, efnet2, loss_fn, prefix='val')\n",
    "    print()\n",
    "\n",
    "    # if test_acc > best_test_acc:\n",
    "    #     best_test_acc = test_acc\n",
    "    #     best_epoch = t\n",
    "    #     torch.save(efnet2.state_dict(), f\"./checkpoints/efnet2_{best_epoch}.pt\")\n",
    "    \n",
    "    train_losses.append(train_loss); test_losses.append(test_loss); val_losses.append(val_loss)\n",
    "    train_accs.append(train_acc); test_accs.append(test_acc); val_accs.append(val_acc)"
   ]
  },
  {
   "cell_type": "code",
   "execution_count": 14,
   "metadata": {
    "execution": {
     "iopub.execute_input": "2025-01-04T12:02:53.342363Z",
     "iopub.status.busy": "2025-01-04T12:02:53.342030Z",
     "iopub.status.idle": "2025-01-04T12:02:53.611412Z",
     "shell.execute_reply": "2025-01-04T12:02:53.610600Z",
     "shell.execute_reply.started": "2025-01-04T12:02:53.342337Z"
    },
    "trusted": true
   },
   "outputs": [
    {
     "data": {
      "image/png": "[encoded data removed]",
      "text/plain": [
       "<Figure size 640x480 with 1 Axes>"
      ]
     },
     "metadata": {},
     "output_type": "display_data"
    }
   ],
   "source": [
    "plt.title('Accuracies')\n",
    "plt.plot(range(epochs), train_accs, label='train')\n",
    "plt.plot(range(epochs), test_accs, label='test')\n",
    "plt.plot(range(epochs), val_accs, label='val')\n",
    "\n",
    "plt.grid()\n",
    "plt.legend()\n",
    "plt.show()"
   ]
  },
  {
   "cell_type": "code",
   "execution_count": 15,
   "metadata": {
    "execution": {
     "iopub.execute_input": "2025-01-04T12:02:53.612805Z",
     "iopub.status.busy": "2025-01-04T12:02:53.612598Z",
     "iopub.status.idle": "2025-01-04T12:02:53.808852Z",
     "shell.execute_reply": "2025-01-04T12:02:53.808161Z",
     "shell.execute_reply.started": "2025-01-04T12:02:53.612786Z"
    },
    "trusted": true
   },
   "outputs": [
    {
     "data": {
      "image/png": "[encoded data removed]",
      "text/plain": [
       "<Figure size 640x480 with 1 Axes>"
      ]
     },
     "metadata": {},
     "output_type": "display_data"
    }
   ],
   "source": [
    "plt.title('Losses')\n",
    "plt.plot(range(epochs), train_losses, label='train')\n",
    "plt.plot(range(epochs), test_losses, label='test')\n",
    "plt.plot(range(epochs), val_losses, label='val')\n",
    "\n",
    "plt.grid()\n",
    "plt.legend()\n",
    "plt.show()"
   ]
  },
  {
   "cell_type": "code",
   "execution_count": 16,
   "metadata": {
    "execution": {
     "iopub.execute_input": "2025-01-04T12:02:53.809897Z",
     "iopub.status.busy": "2025-01-04T12:02:53.809631Z",
     "iopub.status.idle": "2025-01-04T12:02:53.894754Z",
     "shell.execute_reply": "2025-01-04T12:02:53.894146Z",
     "shell.execute_reply.started": "2025-01-04T12:02:53.809864Z"
    },
    "trusted": true
   },
   "outputs": [],
   "source": [
    "torch.save(efnet2.state_dict(), f\"./efnet2_trained.pt\")"
   ]
  },
  {
   "cell_type": "code",
   "execution_count": null,
   "metadata": {
    "trusted": true
   },
   "outputs": [],
   "source": []
  }
 ],
 "metadata": {
  "kaggle": {
   "accelerator": "gpu",
   "dataSources": [],
   "dockerImageVersionId": 30823,
   "isGpuEnabled": true,
   "isInternetEnabled": true,
   "language": "python",
   "sourceType": "notebook"
  },
  "kernelspec": {
   "display_name": "Python 3",
   "language": "python",
   "name": "python3"
  },
  "language_info": {
   "codemirror_mode": {
    "name": "ipython",
    "version": 3
   },
   "file_extension": ".py",
   "mimetype": "text/x-python",
   "name": "python",
   "nbconvert_exporter": "python",
   "pygments_lexer": "ipython3",
   "version": "3.10.12"
  }
 },
 "nbformat": 4,
 "nbformat_minor": 4
}
